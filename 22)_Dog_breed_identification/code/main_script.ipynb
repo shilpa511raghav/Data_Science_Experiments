{
 "cells": [
  {
   "cell_type": "code",
   "execution_count": 1,
   "metadata": {
    "scrolled": true
   },
   "outputs": [
    {
     "name": "stdout",
     "output_type": "stream",
     "text": [
      "imported\n"
     ]
    }
   ],
   "source": [
    "#### import required libraries\n",
    "import pandas as pd\n",
    "import numpy as np\n",
    "import matplotlib.pyplot as plt\n",
    "import tensorflow as tf\n",
    "import os\n",
    "\n",
    "#Open a Zip File\n",
    "from zipfile import ZipFile\n",
    "\n",
    "\n",
    "#Image manipulation\n",
    "from PIL import Image\n",
    "print('imported')"
   ]
  },
  {
   "cell_type": "code",
   "execution_count": 2,
   "metadata": {},
   "outputs": [],
   "source": [
    "#unzip files\n",
    "#Z and F in ZipFile always be capital whenever their usage in Python otherwise it will give error cannot import module \n",
    "\n",
    "train_zip= ZipFile(\"../data/train.zip\",mode='r')\n",
    "test_zip= ZipFile(\"../data/test.zip\",mode= 'r')\n"
   ]
  },
  {
   "cell_type": "code",
   "execution_count": 3,
   "metadata": {},
   "outputs": [
    {
     "data": {
      "text/html": [
       "<div>\n",
       "<style scoped>\n",
       "    .dataframe tbody tr th:only-of-type {\n",
       "        vertical-align: middle;\n",
       "    }\n",
       "\n",
       "    .dataframe tbody tr th {\n",
       "        vertical-align: top;\n",
       "    }\n",
       "\n",
       "    .dataframe thead th {\n",
       "        text-align: right;\n",
       "    }\n",
       "</style>\n",
       "<table border=\"1\" class=\"dataframe\">\n",
       "  <thead>\n",
       "    <tr style=\"text-align: right;\">\n",
       "      <th></th>\n",
       "      <th>id</th>\n",
       "      <th>breed</th>\n",
       "    </tr>\n",
       "  </thead>\n",
       "  <tbody>\n",
       "    <tr>\n",
       "      <th>0</th>\n",
       "      <td>000bec180eb18c7604dcecc8fe0dba07</td>\n",
       "      <td>boston_bull</td>\n",
       "    </tr>\n",
       "    <tr>\n",
       "      <th>1</th>\n",
       "      <td>001513dfcb2ffafc82cccf4d8bbaba97</td>\n",
       "      <td>dingo</td>\n",
       "    </tr>\n",
       "    <tr>\n",
       "      <th>2</th>\n",
       "      <td>001cdf01b096e06d78e9e5112d419397</td>\n",
       "      <td>pekinese</td>\n",
       "    </tr>\n",
       "    <tr>\n",
       "      <th>3</th>\n",
       "      <td>00214f311d5d2247d5dfe4fe24b2303d</td>\n",
       "      <td>bluetick</td>\n",
       "    </tr>\n",
       "    <tr>\n",
       "      <th>4</th>\n",
       "      <td>0021f9ceb3235effd7fcde7f7538ed62</td>\n",
       "      <td>golden_retriever</td>\n",
       "    </tr>\n",
       "  </tbody>\n",
       "</table>\n",
       "</div>"
      ],
      "text/plain": [
       "                                 id             breed\n",
       "0  000bec180eb18c7604dcecc8fe0dba07       boston_bull\n",
       "1  001513dfcb2ffafc82cccf4d8bbaba97             dingo\n",
       "2  001cdf01b096e06d78e9e5112d419397          pekinese\n",
       "3  00214f311d5d2247d5dfe4fe24b2303d          bluetick\n",
       "4  0021f9ceb3235effd7fcde7f7538ed62  golden_retriever"
      ]
     },
     "execution_count": 3,
     "metadata": {},
     "output_type": "execute_result"
    }
   ],
   "source": [
    "#read labels \n",
    "labels= pd.read_csv(\"../data/labels.csv\")\n",
    "labels.head()"
   ]
  },
  {
   "cell_type": "code",
   "execution_count": 4,
   "metadata": {},
   "outputs": [
    {
     "data": {
      "text/plain": [
       "(10222, 2)"
      ]
     },
     "execution_count": 4,
     "metadata": {},
     "output_type": "execute_result"
    }
   ],
   "source": [
    "labels.shape"
   ]
  },
  {
   "cell_type": "code",
   "execution_count": 5,
   "metadata": {},
   "outputs": [
    {
     "data": {
      "text/html": [
       "<div>\n",
       "<style scoped>\n",
       "    .dataframe tbody tr th:only-of-type {\n",
       "        vertical-align: middle;\n",
       "    }\n",
       "\n",
       "    .dataframe tbody tr th {\n",
       "        vertical-align: top;\n",
       "    }\n",
       "\n",
       "    .dataframe thead th {\n",
       "        text-align: right;\n",
       "    }\n",
       "</style>\n",
       "<table border=\"1\" class=\"dataframe\">\n",
       "  <thead>\n",
       "    <tr style=\"text-align: right;\">\n",
       "      <th></th>\n",
       "      <th>breed</th>\n",
       "      <th>id</th>\n",
       "    </tr>\n",
       "  </thead>\n",
       "  <tbody>\n",
       "    <tr>\n",
       "      <th>97</th>\n",
       "      <td>scottish_deerhound</td>\n",
       "      <td>126</td>\n",
       "    </tr>\n",
       "    <tr>\n",
       "      <th>73</th>\n",
       "      <td>maltese_dog</td>\n",
       "      <td>117</td>\n",
       "    </tr>\n",
       "    <tr>\n",
       "      <th>1</th>\n",
       "      <td>afghan_hound</td>\n",
       "      <td>116</td>\n",
       "    </tr>\n",
       "    <tr>\n",
       "      <th>42</th>\n",
       "      <td>entlebucher</td>\n",
       "      <td>115</td>\n",
       "    </tr>\n",
       "    <tr>\n",
       "      <th>11</th>\n",
       "      <td>bernese_mountain_dog</td>\n",
       "      <td>114</td>\n",
       "    </tr>\n",
       "  </tbody>\n",
       "</table>\n",
       "</div>"
      ],
      "text/plain": [
       "                   breed   id\n",
       "97    scottish_deerhound  126\n",
       "73           maltese_dog  117\n",
       "1           afghan_hound  116\n",
       "42           entlebucher  115\n",
       "11  bernese_mountain_dog  114"
      ]
     },
     "execution_count": 5,
     "metadata": {},
     "output_type": "execute_result"
    }
   ],
   "source": [
    "unique_breeds= labels['breed'].unique()\n",
    "len(unique_breeds)\n",
    "total_breeds_taken= labels.groupby('breed')['breed'].count().reset_index(name= 'id').sort_values(by= 'id', ascending = False).head(6)\n",
    "total_breeds_taken.head()"
   ]
  },
  {
   "cell_type": "code",
   "execution_count": 6,
   "metadata": {},
   "outputs": [
    {
     "data": {
      "text/plain": [
       "6"
      ]
     },
     "execution_count": 6,
     "metadata": {},
     "output_type": "execute_result"
    }
   ],
   "source": [
    "#make a list of breeds that are unique\n",
    "\n",
    "unique_breeds= list(total_breeds_taken['breed'])\n",
    "unique_breeds\n",
    "len(unique_breeds)"
   ]
  },
  {
   "cell_type": "code",
   "execution_count": 7,
   "metadata": {
    "scrolled": true
   },
   "outputs": [
    {
     "name": "stdout",
     "output_type": "stream",
     "text": [
      "03dc61595ad9dbf49e3998cf586ca8cb\n",
      "../data/train/03dc61595ad9dbf49e3998cf586ca8cb.jpg\n"
     ]
    }
   ],
   "source": [
    "#So most popular breed in dataset is scottish deerhound with 126 images. Lets look on one of them\n",
    "import PIL.Image as Image\n",
    "scottish_deerhound_id= labels.loc[labels['breed']== 'scottish_deerhound'].iloc[2,0]  #iloc 2 shows row number and 0 shows column index as in label csv there are only 2 columns\n",
    "print(scottish_deerhound_id)\n",
    "path= (\"../data/train/\")\n",
    "print(path + scottish_deerhound_id + \".jpg\")\n",
    "#Image.open(path + scottish_deerhound_id + \".jpg\")  #image format should be correctly filled\n"
   ]
  },
  {
   "cell_type": "code",
   "execution_count": 8,
   "metadata": {},
   "outputs": [
    {
     "data": {
      "text/plain": [
       "(700, 2)"
      ]
     },
     "execution_count": 8,
     "metadata": {},
     "output_type": "execute_result"
    }
   ],
   "source": [
    "imagesToRead= labels[labels['breed'].isin(unique_breeds)]\n",
    "imagesToRead.head()\n",
    "imagesToRead.shape"
   ]
  },
  {
   "cell_type": "code",
   "execution_count": 9,
   "metadata": {},
   "outputs": [
    {
     "data": {
      "text/html": [
       "<div>\n",
       "<style scoped>\n",
       "    .dataframe tbody tr th:only-of-type {\n",
       "        vertical-align: middle;\n",
       "    }\n",
       "\n",
       "    .dataframe tbody tr th {\n",
       "        vertical-align: top;\n",
       "    }\n",
       "\n",
       "    .dataframe thead th {\n",
       "        text-align: right;\n",
       "    }\n",
       "</style>\n",
       "<table border=\"1\" class=\"dataframe\">\n",
       "  <thead>\n",
       "    <tr style=\"text-align: right;\">\n",
       "      <th></th>\n",
       "      <th>breed</th>\n",
       "      <th>count</th>\n",
       "    </tr>\n",
       "  </thead>\n",
       "  <tbody>\n",
       "    <tr>\n",
       "      <th>97</th>\n",
       "      <td>scottish_deerhound</td>\n",
       "      <td>126</td>\n",
       "    </tr>\n",
       "    <tr>\n",
       "      <th>73</th>\n",
       "      <td>maltese_dog</td>\n",
       "      <td>117</td>\n",
       "    </tr>\n",
       "    <tr>\n",
       "      <th>1</th>\n",
       "      <td>afghan_hound</td>\n",
       "      <td>116</td>\n",
       "    </tr>\n",
       "    <tr>\n",
       "      <th>42</th>\n",
       "      <td>entlebucher</td>\n",
       "      <td>115</td>\n",
       "    </tr>\n",
       "    <tr>\n",
       "      <th>11</th>\n",
       "      <td>bernese_mountain_dog</td>\n",
       "      <td>114</td>\n",
       "    </tr>\n",
       "  </tbody>\n",
       "</table>\n",
       "</div>"
      ],
      "text/plain": [
       "                   breed  count\n",
       "97    scottish_deerhound    126\n",
       "73           maltese_dog    117\n",
       "1           afghan_hound    116\n",
       "42           entlebucher    115\n",
       "11  bernese_mountain_dog    114"
      ]
     },
     "execution_count": 9,
     "metadata": {},
     "output_type": "execute_result"
    }
   ],
   "source": [
    "#as we know that by default here index is taken as breed so we need to reset index and as in initial stage we will take only top breeds (here 10 is taken) in order to easy calculation and training\n",
    "total_label= (labels.groupby('breed')['breed'].count().reset_index(name='count').sort_values('count',ascending = False)).head(6)\n",
    "total_label.head()\n"
   ]
  },
  {
   "cell_type": "code",
   "execution_count": 10,
   "metadata": {},
   "outputs": [
    {
     "data": {
      "text/plain": [
       "['scottish_deerhound',\n",
       " 'maltese_dog',\n",
       " 'afghan_hound',\n",
       " 'entlebucher',\n",
       " 'bernese_mountain_dog',\n",
       " 'shih-tzu']"
      ]
     },
     "execution_count": 10,
     "metadata": {},
     "output_type": "execute_result"
    }
   ],
   "source": [
    "# so now from whole dataset we will consider these top 10 breed who have more number of images per breed\n",
    "unique_breed_list = list(total_label.reset_index()['breed'])\n",
    "unique_breed_list"
   ]
  },
  {
   "cell_type": "code",
   "execution_count": 11,
   "metadata": {},
   "outputs": [
    {
     "data": {
      "text/plain": [
       "(700, 2)"
      ]
     },
     "execution_count": 11,
     "metadata": {},
     "output_type": "execute_result"
    }
   ],
   "source": [
    "\n",
    "labels=labels[labels['breed'].isin(unique_breed_list)]\n",
    "#print(np.array(labels).shape)\n",
    "labels.shape"
   ]
  },
  {
   "cell_type": "code",
   "execution_count": 12,
   "metadata": {},
   "outputs": [
    {
     "data": {
      "text/plain": [
       "(['scottish_deerhound',\n",
       "  'maltese_dog',\n",
       "  'shih-tzu',\n",
       "  'scottish_deerhound',\n",
       "  'entlebucher',\n",
       "  'entlebucher',\n",
       "  'maltese_dog',\n",
       "  'bernese_mountain_dog',\n",
       "  'entlebucher',\n",
       "  'shih-tzu',\n",
       "  'afghan_hound'],\n",
       " '        ',\n",
       " 700)"
      ]
     },
     "execution_count": 12,
     "metadata": {},
     "output_type": "execute_result"
    }
   ],
   "source": [
    "gross_breeds= imagesToRead[\"breed\"]\n",
    "gross_breed_list= (list(gross_breeds))\n",
    "\n",
    "gross_breed_list[:11], \"        \",len(gross_breed_list)"
   ]
  },
  {
   "cell_type": "code",
   "execution_count": 13,
   "metadata": {},
   "outputs": [
    {
     "data": {
      "text/plain": [
       "700"
      ]
     },
     "execution_count": 13,
     "metadata": {},
     "output_type": "execute_result"
    }
   ],
   "source": [
    "#filter the names of images of selected breeds that we will resize\n",
    "image_names= imagesToRead[\"id\"]\n",
    "image_name_list= list(image_names)\n",
    "\n",
    "len(image_name_list)"
   ]
  },
  {
   "cell_type": "code",
   "execution_count": 14,
   "metadata": {},
   "outputs": [
    {
     "name": "stdout",
     "output_type": "stream",
     "text": [
      "{'scottish_deerhound': [1.0, 0.0, 0.0, 0.0, 0.0, 0.0], 'maltese_dog': [0.0, 1.0, 0.0, 0.0, 0.0, 0.0], 'afghan_hound': [0.0, 0.0, 1.0, 0.0, 0.0, 0.0], 'entlebucher': [0.0, 0.0, 0.0, 1.0, 0.0, 0.0], 'bernese_mountain_dog': [0.0, 0.0, 0.0, 0.0, 1.0, 0.0], 'shih-tzu': [0.0, 0.0, 0.0, 0.0, 0.0, 1.0]}\n"
     ]
    }
   ],
   "source": [
    "#Now to create one hot encoded labels we need to create an array of zeroes\n",
    "def get_encoder(unique_breed_list):\n",
    "    zero_array=np.zeros([6,6])\n",
    "    enc={}\n",
    "    encoded=[[ 1.0 if i==k else 0.0 for i ,eachinside in enumerate(value)] for k,value in enumerate(zero_array)] \n",
    "    for breed,encoding in zip (unique_breed_list,encoded):\n",
    "        enc[breed]= (encoding)\n",
    "    return enc\n",
    "\n",
    "\n",
    "encoder= get_encoder(unique_breeds)\n",
    "print(encoder)"
   ]
  },
  {
   "cell_type": "code",
   "execution_count": 15,
   "metadata": {},
   "outputs": [],
   "source": [
    "def encode_gross(gross_list,unique_list):\n",
    "    encoded_list=[]\n",
    "    \n",
    "    for each in (gross_list):\n",
    "        #print(each)\n",
    "        encoder= get_encoder(unique_list)\n",
    "        enc= encoder[each]\n",
    "        #print(enc)\n",
    "        encoded_list.append(enc)\n",
    "    return encoded_list\n",
    "        #return enc\n",
    "gross_encoded_labels= encode_gross(gross_breed_list,unique_breeds)\n",
    "encoded_labels= gross_encoded_labels\n"
   ]
  },
  {
   "cell_type": "code",
   "execution_count": 16,
   "metadata": {},
   "outputs": [
    {
     "name": "stdout",
     "output_type": "stream",
     "text": [
      "[0.0, 0.0, 0.0, 1.0, 0.0, 0.0]\n"
     ]
    }
   ],
   "source": [
    "print(encoder[\"entlebucher\"])"
   ]
  },
  {
   "cell_type": "code",
   "execution_count": 17,
   "metadata": {},
   "outputs": [
    {
     "name": "stdout",
     "output_type": "stream",
     "text": [
      "unique breed label list:   [0, 1, 2, 3, 4, 5]\n"
     ]
    }
   ],
   "source": [
    "unique_breed_label_list= [  each for each in range(len(unique_breeds))]\n",
    "print(\"unique breed label list:  \", unique_breed_label_list)"
   ]
  },
  {
   "cell_type": "code",
   "execution_count": 18,
   "metadata": {},
   "outputs": [
    {
     "name": "stdout",
     "output_type": "stream",
     "text": [
      "resizing started\n",
      "resizing done\n"
     ]
    }
   ],
   "source": [
    "def resize(image_nameslist,height= \"300\",width= \"300\"):\n",
    "    train_dir_path= \"../data/train/\"\n",
    "    resized_image_name_list= []\n",
    "    print(\"resizing started\")\n",
    "    \n",
    "    for ima in image_nameslist:  \n",
    "        path= train_dir_path + ima + \".jpg\"\n",
    "        img= Image.open(path)\n",
    "        #print(img)\n",
    "        resized_image = img.resize((height,width), Image.ANTIALIAS)\n",
    "        resized_image_name_list.append(resized_image)\n",
    "    print(\"resizing done\")\n",
    "    return resized_image_name_list\n",
    "\n",
    "    #img_data= cv2.imread(path)\n",
    "    #print(img_data)\n",
    "    #cv2.imshow(\"image\",img_data)\n",
    "resized_imaname_list= resize(image_name_list,80,80)\n"
   ]
  },
  {
   "cell_type": "code",
   "execution_count": 19,
   "metadata": {},
   "outputs": [
    {
     "data": {
      "image/png": "[encoded data removed]",
      "text/plain": [
       "<PIL.Image.Image image mode=RGB size=80x80 at 0xD6A2F60>"
      ]
     },
     "execution_count": 19,
     "metadata": {},
     "output_type": "execute_result"
    }
   ],
   "source": [
    "resized_imaname_list[2]"
   ]
  },
  {
   "cell_type": "code",
   "execution_count": 20,
   "metadata": {},
   "outputs": [
    {
     "name": "stdout",
     "output_type": "stream",
     "text": [
      "monochrome conversion started..........\n",
      "conversion done !!!!!\n"
     ]
    },
    {
     "data": {
      "text/plain": [
       "80"
      ]
     },
     "execution_count": 20,
     "metadata": {},
     "output_type": "execute_result"
    }
   ],
   "source": [
    "# convert image into black and white\n",
    "\n",
    "def convert_to_monochrome(resized_imaname_list):\n",
    "    converted_monochrome_image_list=[]\n",
    "    print(\"monochrome conversion started..........\")\n",
    "    #converted_image_list=[]\n",
    "    for eachimage_path in resized_imaname_list:\n",
    "        each_img_data= np.array(eachimage_path)\n",
    "        \n",
    "        image = Image.fromarray(each_img_data)#fromarray take the numpy array as input.\n",
    "        \n",
    "        \n",
    "        converted_image= image.convert('L')\n",
    "        \n",
    "#         print(converted_image)\n",
    "#         print(converted_image[:1])\n",
    "        converted_image= np.array(converted_image)   \n",
    "        \n",
    "        converted_image = np.clip(converted_image/255.0, 0.0, 1.0)\n",
    "        \n",
    "        \n",
    "        \n",
    "        converted_monochrome_image_list.append(converted_image)\n",
    "        \n",
    "    print(\"conversion done !!!!!\")\n",
    "    return converted_monochrome_image_list\n",
    "    \n",
    "\n",
    "monocolor_img_data_list= convert_to_monochrome(resized_imaname_list)\n",
    "len(monocolor_img_data_list[1])"
   ]
  },
  {
   "cell_type": "code",
   "execution_count": 21,
   "metadata": {},
   "outputs": [
    {
     "data": {
      "text/plain": [
       "6400"
      ]
     },
     "execution_count": 21,
     "metadata": {},
     "output_type": "execute_result"
    }
   ],
   "source": [
    "####Flattened images data list\n",
    "\n",
    "flattened_img_data_list= []\n",
    "for index,ima in enumerate(monocolor_img_data_list):\n",
    "    \n",
    "    flattened_img= ima.flatten()\n",
    "    flattened_img= flattened_img.tolist()\n",
    "    \n",
    "    flattened_img_data_list.append(flattened_img)\n",
    "    \n",
    "    \n",
    "len(flattened_img_data_list[1])"
   ]
  },
  {
   "cell_type": "code",
   "execution_count": 22,
   "metadata": {},
   "outputs": [],
   "source": [
    "# Convolutional Layer 1.\n",
    "filter_size1 = 5          # Convolution filters are 5 x 5 pixels.\n",
    "num_filters1 = 16         # There are 16 of these filters.\n",
    "\n",
    "# Convolutional Layer 2.\n",
    "filter_size2 = 5          # Convolution filters are 5 x 5 pixels.\n",
    "num_filters2 = 36         # There are 36 of these filters.\n",
    "\n",
    "# Fully-connected layer.\n",
    "fc_size = 128  "
   ]
  },
  {
   "cell_type": "code",
   "execution_count": 25,
   "metadata": {},
   "outputs": [],
   "source": [
    "# We know that MNIST images are 28 pixels in each dimension.\n",
    "img_size = 80\n",
    "\n",
    "# Images are stored in one-dimensional arrays of this length.\n",
    "img_size_flat = img_size * img_size\n",
    "\n",
    "# Tuple with height and width of images used to reshape arrays.\n",
    "img_shape = (img_size, img_size)\n",
    "\n",
    "# Number of colour channels for the images: 1 channel for gray-scale.\n",
    "num_channels = 1\n",
    "\n",
    "# Number of classes, one class for each of 10 digits.\n",
    "#num_classes = 20\n",
    "num_classes= 6"
   ]
  },
  {
   "cell_type": "code",
   "execution_count": 28,
   "metadata": {},
   "outputs": [
    {
     "name": "stdout",
     "output_type": "stream",
     "text": [
      "[[0.0, 0.0, 0.0, 0.0, 1.0, 0.0], [0.0, 0.0, 0.0, 0.0, 1.0, 0.0], [0.0, 0.0, 0.0, 0.0, 0.0, 1.0], [0.0, 0.0, 0.0, 0.0, 1.0, 0.0]]\n"
     ]
    }
   ],
   "source": [
    "from sklearn.model_selection import train_test_split\n",
    "monocolor_train_images,monocolor_test_images,monocolor_train_label,monocolor_test_label=train_test_split(flattened_img_data_list, encoded_labels, test_size=0.2)\n",
    "# print(\"train_images:\",np.array(monocolor_train_images).shape)\n",
    "# print(\"train labels\",np.array(monocolor_train_label).shape)\n",
    "# print(\"test image:\",np.array(monocolor_test_images).shape)\n",
    "# print(\"test label\", np.array(monocolor_test_label).shape)\n",
    "# monocolor_test_label= np.array(monocolor_test_label)\n",
    "monocolor_test_label_true_cls= np.argmax(monocolor_test_label,axis=1)\n",
    "# monocolor_test_label_true_cls[0:20]\n",
    "print(monocolor_test_label[0:4])\n",
    "#print(monocolor_test_images[1])"
   ]
  },
  {
   "cell_type": "code",
   "execution_count": 29,
   "metadata": {},
   "outputs": [],
   "source": [
    "def plot_images(images, cls_true, cls_pred=None):\n",
    "    assert len(images) == len(cls_true) == 6\n",
    "    images= np.array(images)\n",
    "    \n",
    "    # Create figure with 3x3 sub-plots.\n",
    "    fig, axes = plt.subplots(2, 3)\n",
    "    fig.subplots_adjust(hspace=0.3, wspace=0.3)\n",
    "\n",
    "    for i, ax in enumerate(axes.flat):\n",
    "        # Plot image.\n",
    "        ax.imshow(images[i].reshape(img_shape), cmap='binary')\n",
    "\n",
    "        # Show true and predicted classes.\n",
    "        if cls_pred is None:\n",
    "            xlabel = \"True: {0}\".format(cls_true[i])\n",
    "        else:\n",
    "            xlabel = \"True: {0}, Pred: {1}\".format(cls_true[i], cls_pred[i])\n",
    "\n",
    "        # Show the classes as the label on the x-axis.\n",
    "        ax.set_xlabel(xlabel)\n",
    "        \n",
    "        # Remove ticks from the plot.\n",
    "        ax.set_xticks([])\n",
    "        ax.set_yticks([])\n",
    "    \n",
    "    # Ensure the plot is shown correctly with multiple plots\n",
    "    # in a single Notebook cell.\n",
    "    plt.show()"
   ]
  },
  {
   "cell_type": "code",
   "execution_count": 30,
   "metadata": {
    "scrolled": true
   },
   "outputs": [
    {
     "data": {
      "image/png": "[encoded data removed]",
      "text/plain": [
       "<Figure size 432x288 with 6 Axes>"
      ]
     },
     "metadata": {},
     "output_type": "display_data"
    }
   ],
   "source": [
    "# Get the first images from the test-set.\n",
    "images_test_data = monocolor_test_images[0:6]\n",
    "\n",
    "# Get the true classes for those images.\n",
    "test_true_cls= monocolor_test_label_true_cls[0:6]\n",
    "\n",
    "# Plot the images and labels using our helper-function above.\n",
    "plot_images(images=images_test_data, cls_true=test_true_cls)"
   ]
  },
  {
   "cell_type": "code",
   "execution_count": 31,
   "metadata": {},
   "outputs": [],
   "source": [
    "# our images are of 80 pixels\n",
    "img_size = 80\n",
    "\n",
    "# Images are stored in one-dimensional arrays of this length.\n",
    "img_size_flat = img_size * img_size\n",
    "\n",
    "# Tuple with height and width of images used to reshape arrays.\n",
    "img_shape = (img_size, img_size)\n",
    "\n",
    "#number of colour channels for each breed : 1 because we have converted images into a grey scale image\n",
    "num_channels= 1\n",
    "\n",
    "# Number of classes, one class for each of 20 selected breeds.\n",
    "#num_classes = 20\n",
    "num_classes= 6\n",
    "\n",
    "#dropout to reduce overfitting\n",
    "dropout= 0.75"
   ]
  },
  {
   "cell_type": "code",
   "execution_count": 32,
   "metadata": {},
   "outputs": [],
   "source": [
    "def new_weights(shape):\n",
    "    return tf.Variable(tf.truncated_normal(shape, stddev=0.05))\n",
    "def new_biases(length):\n",
    "    return tf.Variable(tf.constant(0.05, shape=[length]))"
   ]
  },
  {
   "cell_type": "code",
   "execution_count": 33,
   "metadata": {},
   "outputs": [],
   "source": [
    "def new_conv_layer(input,              # The previous layer.\n",
    "                   num_input_channels, # Num. channels in prev. layer.\n",
    "                   filter_size,        # Width and height of each filter.\n",
    "                   num_filters,        # Number of filters.\n",
    "                   use_pooling=True):  # Use 2x2 max-pooling.\n",
    "\n",
    "    # Shape of the filter-weights for the convolution.\n",
    "    # This format is determined by the TensorFlow API.\n",
    "    shape = [filter_size, filter_size, num_input_channels, num_filters]\n",
    "\n",
    "    # Create new weights aka. filters with the given shape.\n",
    "    weights = new_weights(shape=shape)\n",
    "\n",
    "    # Create new biases, one for each filter.\n",
    "    biases = new_biases(length=num_filters)\n",
    "\n",
    "    # Create the TensorFlow operation for convolution.\n",
    "    # Note the strides are set to 1 in all dimensions.\n",
    "    # The first and last stride must always be 1,\n",
    "    # because the first is for the image-number and\n",
    "    # the last is for the input-channel.\n",
    "    # But e.g. strides=[1, 2, 2, 1] would mean that the filter\n",
    "    # is moved 2 pixels across the x- and y-axis of the image.\n",
    "    # The padding is set to 'SAME' which means the input image\n",
    "    # is padded with zeroes so the size of the output is the same.\n",
    "    layer = tf.nn.conv2d(input=input,\n",
    "                         filter=weights,\n",
    "                         strides=[1, 1, 1, 1],\n",
    "                         padding='SAME')\n",
    "\n",
    "    # Add the biases to the results of the convolution.\n",
    "    # A bias-value is added to each filter-channel.\n",
    "    layer += biases\n",
    "\n",
    "    # Use pooling to down-sample the image resolution?\n",
    "    if use_pooling:\n",
    "        # This is 2x2 max-pooling, which means that we\n",
    "        # consider 2x2 windows and select the largest value\n",
    "        # in each window. Then we move 2 pixels to the next window.\n",
    "        layer = tf.nn.max_pool(value=layer,\n",
    "                               ksize=[1, 2, 2, 1],\n",
    "                               strides=[1, 2, 2, 1],\n",
    "                               padding='SAME')\n",
    "\n",
    "    # Rectified Linear Unit (ReLU).\n",
    "    # It calculates max(x, 0) for each input pixel x.\n",
    "    # This adds some non-linearity to the formula and allows us\n",
    "    # to learn more complicated functions.\n",
    "    layer = tf.nn.relu(layer)\n",
    "\n",
    "    # Note that ReLU is normally executed before the pooling,\n",
    "    # but since relu(max_pool(x)) == max_pool(relu(x)) we can\n",
    "    # save 75% of the relu-operations by max-pooling first.\n",
    "\n",
    "    # We return both the resulting layer and the filter-weights\n",
    "    # because we will plot the weights later.\n",
    "    return layer, weights"
   ]
  },
  {
   "cell_type": "code",
   "execution_count": 34,
   "metadata": {},
   "outputs": [],
   "source": [
    "def flatten_layer(layer):\n",
    "    # Get the shape of the input layer.\n",
    "    layer_shape = layer.get_shape()\n",
    "\n",
    "    # The shape of the input layer is assumed to be:\n",
    "    # layer_shape == [num_images, img_height, img_width, num_channels]\n",
    "\n",
    "    # The number of features is: img_height * img_width * num_channels\n",
    "    # We can use a function from TensorFlow to calculate this.\n",
    "    num_features = layer_shape[1:4].num_elements()\n",
    "    \n",
    "    # Reshape the layer to [num_images, num_features].\n",
    "    # Note that we just set the size of the second dimension\n",
    "    # to num_features and the size of the first dimension to -1\n",
    "    # which means the size in that dimension is calculated\n",
    "    # so the total size of the tensor is unchanged from the reshaping.\n",
    "    layer_flat = tf.reshape(layer, [-1, num_features])\n",
    "\n",
    "    # The shape of the flattened layer is now:\n",
    "    # [num_images, img_height * img_width * num_channels]\n",
    "\n",
    "    # Return both the flattened layer and the number of features.\n",
    "    return layer_flat, num_features"
   ]
  },
  {
   "cell_type": "code",
   "execution_count": 35,
   "metadata": {},
   "outputs": [],
   "source": [
    "def new_fc_layer(input,          # The previous layer.\n",
    "                 num_inputs,     # Num. inputs from prev. layer.\n",
    "                 num_outputs,    # Num. outputs.\n",
    "                 use_relu=True): # Use Rectified Linear Unit (ReLU)?\n",
    "\n",
    "    # Create new weights and biases.\n",
    "    weights = new_weights(shape=[num_inputs, num_outputs])\n",
    "    biases = new_biases(length=num_outputs)\n",
    "\n",
    "    # Calculate the layer as the matrix multiplication of\n",
    "    # the input and weights, and then add the bias-values.\n",
    "    layer = tf.matmul(input, weights) + biases\n",
    "\n",
    "    # Use ReLU?\n",
    "    if use_relu:\n",
    "        layer = tf.nn.relu(layer)\n",
    "\n",
    "    return layer"
   ]
  },
  {
   "cell_type": "code",
   "execution_count": 36,
   "metadata": {},
   "outputs": [],
   "source": [
    "input_tensor = tf.placeholder(tf.float32, shape=[None, img_size_flat], name='input_tensor')"
   ]
  },
  {
   "cell_type": "code",
   "execution_count": 37,
   "metadata": {},
   "outputs": [],
   "source": [
    "reshaped_input_tensor = tf.reshape(input_tensor, [-1, img_size, img_size, num_channels])"
   ]
  },
  {
   "cell_type": "code",
   "execution_count": 38,
   "metadata": {},
   "outputs": [],
   "source": [
    "label_tensor = tf.placeholder(tf.float32, shape=[None, num_classes], name='label_tensor')"
   ]
  },
  {
   "cell_type": "code",
   "execution_count": 39,
   "metadata": {},
   "outputs": [],
   "source": [
    "label_tensor_true_cls = tf.argmax(label_tensor, axis=1)"
   ]
  },
  {
   "cell_type": "code",
   "execution_count": 40,
   "metadata": {},
   "outputs": [],
   "source": [
    "layer_conv1, weights_conv1 = \\\n",
    "    new_conv_layer(input=reshaped_input_tensor,\n",
    "                   num_input_channels=num_channels,\n",
    "                   filter_size=filter_size1,\n",
    "                   num_filters=num_filters1,\n",
    "                   use_pooling=True)"
   ]
  },
  {
   "cell_type": "code",
   "execution_count": 41,
   "metadata": {},
   "outputs": [
    {
     "data": {
      "text/plain": [
       "<tf.Tensor 'Relu:0' shape=(?, 40, 40, 16) dtype=float32>"
      ]
     },
     "execution_count": 41,
     "metadata": {},
     "output_type": "execute_result"
    }
   ],
   "source": [
    "layer_conv1"
   ]
  },
  {
   "cell_type": "code",
   "execution_count": 42,
   "metadata": {},
   "outputs": [],
   "source": [
    "layer_conv2, weights_conv2 = \\\n",
    "    new_conv_layer(input=layer_conv1,\n",
    "                   num_input_channels=num_filters1,\n",
    "                   filter_size=filter_size2,\n",
    "                   num_filters=num_filters2,\n",
    "                   use_pooling=True)"
   ]
  },
  {
   "cell_type": "code",
   "execution_count": 43,
   "metadata": {},
   "outputs": [
    {
     "data": {
      "text/plain": [
       "<tf.Tensor 'Relu_1:0' shape=(?, 20, 20, 36) dtype=float32>"
      ]
     },
     "execution_count": 43,
     "metadata": {},
     "output_type": "execute_result"
    }
   ],
   "source": [
    "layer_conv2"
   ]
  },
  {
   "cell_type": "code",
   "execution_count": 44,
   "metadata": {},
   "outputs": [],
   "source": [
    "layer_flat, num_features = flatten_layer(layer_conv2)"
   ]
  },
  {
   "cell_type": "code",
   "execution_count": 45,
   "metadata": {},
   "outputs": [
    {
     "data": {
      "text/plain": [
       "<tf.Tensor 'Reshape_1:0' shape=(?, 14400) dtype=float32>"
      ]
     },
     "execution_count": 45,
     "metadata": {},
     "output_type": "execute_result"
    }
   ],
   "source": [
    "layer_flat"
   ]
  },
  {
   "cell_type": "code",
   "execution_count": 46,
   "metadata": {},
   "outputs": [
    {
     "data": {
      "text/plain": [
       "14400"
      ]
     },
     "execution_count": 46,
     "metadata": {},
     "output_type": "execute_result"
    }
   ],
   "source": [
    "num_features"
   ]
  },
  {
   "cell_type": "code",
   "execution_count": 47,
   "metadata": {},
   "outputs": [],
   "source": [
    "layer_fc1 = new_fc_layer(input=layer_flat,\n",
    "                         num_inputs=num_features,\n",
    "                         num_outputs=fc_size,\n",
    "                         use_relu=True)"
   ]
  },
  {
   "cell_type": "code",
   "execution_count": 48,
   "metadata": {},
   "outputs": [
    {
     "data": {
      "text/plain": [
       "<tf.Tensor 'Relu_2:0' shape=(?, 128) dtype=float32>"
      ]
     },
     "execution_count": 48,
     "metadata": {},
     "output_type": "execute_result"
    }
   ],
   "source": [
    "layer_fc1"
   ]
  },
  {
   "cell_type": "code",
   "execution_count": 49,
   "metadata": {},
   "outputs": [],
   "source": [
    "layer_fc2 = new_fc_layer(input=layer_fc1,\n",
    "                         num_inputs=fc_size,\n",
    "                         num_outputs=num_classes,\n",
    "                         use_relu=False)"
   ]
  },
  {
   "cell_type": "code",
   "execution_count": 50,
   "metadata": {},
   "outputs": [
    {
     "data": {
      "text/plain": [
       "<tf.Tensor 'add_3:0' shape=(?, 6) dtype=float32>"
      ]
     },
     "execution_count": 50,
     "metadata": {},
     "output_type": "execute_result"
    }
   ],
   "source": [
    "layer_fc2"
   ]
  },
  {
   "cell_type": "code",
   "execution_count": 51,
   "metadata": {},
   "outputs": [],
   "source": [
    "prediction = tf.nn.softmax(layer_fc2)"
   ]
  },
  {
   "cell_type": "code",
   "execution_count": 52,
   "metadata": {},
   "outputs": [],
   "source": [
    "prediction_cls = tf.argmax(prediction, axis=1)"
   ]
  },
  {
   "cell_type": "code",
   "execution_count": 53,
   "metadata": {},
   "outputs": [],
   "source": [
    "cross_entropy = tf.nn.softmax_cross_entropy_with_logits(logits=layer_fc2,\n",
    "                                                        labels=label_tensor)"
   ]
  },
  {
   "cell_type": "code",
   "execution_count": 54,
   "metadata": {},
   "outputs": [],
   "source": [
    "loss = tf.reduce_mean(cross_entropy)"
   ]
  },
  {
   "cell_type": "code",
   "execution_count": 55,
   "metadata": {},
   "outputs": [],
   "source": [
    "optimizer = tf.train.AdamOptimizer(learning_rate=1e-4).minimize(loss)"
   ]
  },
  {
   "cell_type": "code",
   "execution_count": 56,
   "metadata": {},
   "outputs": [],
   "source": [
    "correct_prediction = tf.equal(prediction_cls, label_tensor_true_cls)"
   ]
  },
  {
   "cell_type": "code",
   "execution_count": 57,
   "metadata": {},
   "outputs": [],
   "source": [
    "accuracy = tf.reduce_mean(tf.cast(correct_prediction, tf.float32))"
   ]
  },
  {
   "cell_type": "code",
   "execution_count": 58,
   "metadata": {},
   "outputs": [],
   "source": [
    "session = tf.Session()\n",
    "session.run(tf.global_variables_initializer())"
   ]
  },
  {
   "cell_type": "code",
   "execution_count": 59,
   "metadata": {},
   "outputs": [],
   "source": [
    "def next_batch(batch_size, imgdata, imglabels):\n",
    "    '''\n",
    "    Return a total of `batch_size` random samples and labels. \n",
    "    '''\n",
    "    idx = np.arange(0 , len(imgdata))\n",
    "    np.random.shuffle(idx)\n",
    "    idx = idx[:batch_size]\n",
    "    imgdata_shuffle = [imgdata[i] for i in idx]\n",
    "    imglabels_shuffle = [imglabels[i] for i in idx]\n",
    "\n",
    "    return np.asarray(imgdata_shuffle), np.asarray(imglabels_shuffle)"
   ]
  },
  {
   "cell_type": "code",
   "execution_count": 60,
   "metadata": {},
   "outputs": [],
   "source": [
    "# def get_batch(batch_size,train_label,train_images):\n",
    "\n",
    "#     batched_img_datalist= []\n",
    "#     batched_label_list= []\n",
    "#     if len(train_images)== len(train_label):\n",
    "#         total_batches= len(train_images)//batch_size\n",
    "#         for i in range(total_batches):\n",
    "#             start= i*batch_size\n",
    "#             end= start+batch_size\n",
    "        \n",
    "#             batched_img_datalist.append(train_images[start:end])\n",
    "#             batched_label_list.append(train_label[start:end])\n",
    "           \n",
    "    \n",
    "#     return batched_img_datalist,batched_label_list\n",
    "    \n",
    "\n",
    "# batched_monocolor_image_data_andlabel_list= get_batch(9,monocolor_train_label,monocolor_train_images)\n",
    "# print(np.array(batched_monocolor_image_data_andlabel_list[0]) .shape)\n",
    "# print(np.array(batched_monocolor_image_data_andlabel_list[1]).shape)\n",
    "# #print(len(batched_monocolor_image_data_andlabel_list[0][0]))"
   ]
  },
  {
   "cell_type": "code",
   "execution_count": 61,
   "metadata": {},
   "outputs": [],
   "source": [
    "# Counter for total number of iterations performed so far.\n",
    "total_iterations = 0\n",
    "\n",
    "def optimize(num_iterations):\n",
    "    # Ensure we update the global variable rather than a local copy.\n",
    "    global total_iterations\n",
    "\n",
    "    for i in range(total_iterations,\n",
    "                   total_iterations + num_iterations):\n",
    "\n",
    "        # Get a batch of training examples.\n",
    "        # batch_images_data now holds a batch of images and\n",
    "        # images_label are the true labels for those images.\n",
    "        batch_images_data,images_label= next_batch(9,monocolor_train_images,monocolor_train_label)\n",
    "        \n",
    "\n",
    "        # Put the batch into a dict with the proper names\n",
    "        # for placeholder variables in the TensorFlow graph.\n",
    "        feed_dict_train = {input_tensor: batch_images_data,\n",
    "                           label_tensor: images_label}\n",
    "\n",
    "        # Run the optimizer using this batch of training data.\n",
    "        # TensorFlow assigns the variables in feed_dict_train\n",
    "        # to the placeholder variables and then runs the optimizer.\n",
    "        session.run(optimizer, feed_dict=feed_dict_train)\n",
    "\n",
    "        # Print status every 100 iterations.\n",
    "        if i % 100 == 0:\n",
    "            # Calculate the accuracy on the training-set.\n",
    "            acc = session.run(accuracy, feed_dict=feed_dict_train)\n",
    "\n",
    "            # Message for printing.\n",
    "            msg = \"Optimization Iteration: {0:>6}, Training Accuracy: {1:>6.1%}\"\n",
    "\n",
    "            # Print it.\n",
    "            print(msg.format(i + 1, acc))\n",
    "\n",
    "    # Update the total number of iterations performed.\n",
    "    total_iterations += num_iterations"
   ]
  },
  {
   "cell_type": "code",
   "execution_count": null,
   "metadata": {},
   "outputs": [
    {
     "name": "stdout",
     "output_type": "stream",
     "text": [
      "Optimization Iteration:      1, Training Accuracy:  22.2%\n",
      "Optimization Iteration:    101, Training Accuracy:  33.3%\n",
      "Optimization Iteration:    201, Training Accuracy:  11.1%\n",
      "Optimization Iteration:    301, Training Accuracy:  33.3%\n",
      "Optimization Iteration:    401, Training Accuracy:  44.4%\n",
      "Optimization Iteration:    501, Training Accuracy:  22.2%\n",
      "Optimization Iteration:    601, Training Accuracy:  33.3%\n",
      "Optimization Iteration:    701, Training Accuracy:  77.8%\n",
      "Optimization Iteration:    801, Training Accuracy:  55.6%\n",
      "Optimization Iteration:    901, Training Accuracy:  88.9%\n",
      "Optimization Iteration:   1001, Training Accuracy:  44.4%\n",
      "Optimization Iteration:   1101, Training Accuracy:  66.7%\n",
      "Optimization Iteration:   1201, Training Accuracy: 100.0%\n",
      "Optimization Iteration:   1301, Training Accuracy:  77.8%\n",
      "Optimization Iteration:   1401, Training Accuracy:  88.9%\n",
      "Optimization Iteration:   1501, Training Accuracy:  77.8%\n",
      "Optimization Iteration:   1601, Training Accuracy:  77.8%\n",
      "Optimization Iteration:   1701, Training Accuracy: 100.0%\n",
      "Optimization Iteration:   1801, Training Accuracy: 100.0%\n",
      "Optimization Iteration:   1901, Training Accuracy:  77.8%\n",
      "Optimization Iteration:   2001, Training Accuracy: 100.0%\n",
      "Optimization Iteration:   2101, Training Accuracy: 100.0%\n",
      "Optimization Iteration:   2201, Training Accuracy: 100.0%\n"
     ]
    }
   ],
   "source": [
    "optimize(num_iterations=3000)"
   ]
  },
  {
   "cell_type": "code",
   "execution_count": null,
   "metadata": {},
   "outputs": [],
   "source": [
    "def plot_example_errors(cls_pred, correct):\n",
    "    # This function is called from print_test_accuracy() below.\n",
    "\n",
    "    # cls_pred is an array of the predicted class-number for\n",
    "    # all images in the test-set.\n",
    "\n",
    "    # correct is a boolean array whether the predicted class\n",
    "    # is equal to the true class for each image in the test-set.\n",
    "\n",
    "    # Negate the boolean array.\n",
    "    incorrect = (correct == False)\n",
    "    \n",
    "    # Get the images from the test-set that have been\n",
    "    # incorrectly classified.\n",
    "    test_images_data = monocolor_test_images[incorrect]\n",
    "    \n",
    "    # Get the predicted classes for those images.\n",
    "    prediction_cls = prediction_cls[incorrect]\n",
    "\n",
    "    # Get the true classes for those images.\n",
    "    test_true_cls = monocolor_test_label_true_cls[incorrect]\n",
    "    \n",
    "    # Plot the first 9 images.\n",
    "    plot_images(images=test_images_data[0:6],\n",
    "                cls_true=test_true_cls[0:6],\n",
    "                cls_pred=prediction_cls[0:6])"
   ]
  },
  {
   "cell_type": "code",
   "execution_count": null,
   "metadata": {},
   "outputs": [],
   "source": [
    "def plot_confusion_matrix(cls_pred):\n",
    "    # This is called from print_test_accuracy() below.\n",
    "\n",
    "    # cls_pred is an array of the predicted class-number for\n",
    "    # all images in the test-set.\n",
    "\n",
    "    # Get the true classifications for the test-set.\n",
    "    cls_true = monocolor_test_label_true_cls\n",
    "    \n",
    "    # Get the confusion matrix using sklearn.\n",
    "    cm = confusion_matrix(label_tensor=cls_true,\n",
    "                          cls_pred=prediction_cls)\n",
    "\n",
    "    # Print the confusion matrix as text.\n",
    "    print(cm)\n",
    "\n",
    "    # Plot the confusion matrix as an image.\n",
    "    plt.matshow(cm)\n",
    "\n",
    "    # Make various adjustments to the plot.\n",
    "    plt.colorbar()\n",
    "    tick_marks = np.arange(num_classes)\n",
    "    plt.xticks(tick_marks, range(num_classes))\n",
    "    plt.yticks(tick_marks, range(num_classes))\n",
    "    plt.xlabel('Predicted')\n",
    "    plt.ylabel('True')\n",
    "\n",
    "    # Ensure the plot is shown correctly with multiple plots\n",
    "    # in a single Notebook cell.\n",
    "    plt.show()"
   ]
  },
  {
   "cell_type": "code",
   "execution_count": null,
   "metadata": {},
   "outputs": [],
   "source": [
    "optimize(num_iterations=1)"
   ]
  },
  {
   "cell_type": "code",
   "execution_count": null,
   "metadata": {},
   "outputs": [],
   "source": [
    "# # Split the test-set into smaller batches of this size.\n",
    "# test_batch_size = 9\n",
    "\n",
    "# def print_test_accuracy(show_example_errors=False,\n",
    "#                         show_confusion_matrix=False):\n",
    "\n",
    "#     # Number of images in the test-set.\n",
    "#     num_test = len(monocolor_test_images)\n",
    "\n",
    "#     # Allocate an array for the predicted classes which\n",
    "#     # will be calculated in batches and filled into this array.\n",
    "#     cls_pred = np.zeros(shape=num_test, dtype=np.int)\n",
    "\n",
    "#     # Now calculate the predicted classes for the batches.\n",
    "#     # We will just iterate through all the batches.\n",
    "#     # There might be a more clever and Pythonic way of doing this.\n",
    "\n",
    "#     # The starting index for the next batch is denoted i.\n",
    "#     i = 0\n",
    "\n",
    "#     while i < num_test:\n",
    "#         # The ending index for the next batch is denoted j.\n",
    "#         j = min(i + test_batch_size, num_test)\n",
    "\n",
    "#         # Get the images from the test-set between index i and j.\n",
    "#         test_images = (monocolor_test_images)[i:j][:]\n",
    "        \n",
    "        \n",
    "\n",
    "#         # Get the associated labels.\n",
    "#         test_labels = monocolor_test_label[i:j][:]\n",
    "        \n",
    "\n",
    "#         # Create a feed-dict with these images and labels.\n",
    "#         feed_dict = {input_tensor: test_images,\n",
    "#                      label_tensor: test_labels}\n",
    "\n",
    "#         # Calculate the predicted class using TensorFlow.\n",
    "#         prediction_cls[i:j] = session.run(prediction_cls, feed_dict=feed_dict)\n",
    "\n",
    "# #         # Set the start-index for the next batch to the\n",
    "# #         # end-index of the current batch.\n",
    "# #         i = j\n",
    "\n",
    "# #     # Convenience variable for the true class-numbers of the test-set.\n",
    "# #     cls_true = monocolor_test_label_true_cls\n",
    "\n",
    "# #     # Create a boolean array whether each image is correctly classified.\n",
    "# #     correct = (cls_true == prediction_cls)\n",
    "\n",
    "# #     # Calculate the number of correctly classified images.\n",
    "# #     # When summing a boolean array, False means 0 and True means 1.\n",
    "# #     correct_sum = correct.sum()\n",
    "\n",
    "# #     # Classification accuracy is the number of correctly classified\n",
    "# #     # images divided by the total number of images in the test-set.\n",
    "# #     acc = float(correct_sum) / num_test\n",
    "\n",
    "# #     # Print the accuracy.\n",
    "# #     msg = \"Accuracy on Test-Set: {0:.1%} ({1} / {2})\"\n",
    "# #     print(msg.format(acc, correct_sum, num_test))\n",
    "\n",
    "# #     # Plot some examples of mis-classifications, if desired.\n",
    "# #     if show_example_errors:\n",
    "# #         print(\"Example errors:\")\n",
    "# #         plot_example_errors(cls_pred=prediction_cls, correct=correct)\n",
    "\n",
    "# #     # Plot the confusion matrix, if desired.\n",
    "# #     if show_confusion_matrix:\n",
    "# #         print(\"Confusion Matrix:\")\n",
    "# #         plot_confusion_matrix(cls_pred=prediction_cls)"
   ]
  },
  {
   "cell_type": "code",
   "execution_count": null,
   "metadata": {},
   "outputs": [],
   "source": [
    "#while i < num_test:\n",
    "test_batch_size=9\n",
    "i=0\n",
    "num_test = len(monocolor_test_images)\n",
    "print(num_test)\n",
    "j = min(i + test_batch_size, num_test)\n",
    "print(monocolor_test_images)[i]\n",
    "test_images = (monocolor_test_images)[i:j,:]\n",
    "\n",
    "test_labels = monocolor_test_label[i:j][:]\n",
    "print(test_images)\n",
    "feed_dict = {input_tensor: test_images,\n",
    "             label_tensor: test_labels}"
   ]
  },
  {
   "cell_type": "code",
   "execution_count": null,
   "metadata": {},
   "outputs": [],
   "source": [
    "print_test_accuracy()"
   ]
  },
  {
   "cell_type": "code",
   "execution_count": null,
   "metadata": {},
   "outputs": [],
   "source": [
    "reshape_input_tensor.shape"
   ]
  },
  {
   "cell_type": "code",
   "execution_count": null,
   "metadata": {},
   "outputs": [],
   "source": [
    "[np.array(value) for i,value in enumerate(converted_image_data_list)]\n"
   ]
  },
  {
   "cell_type": "code",
   "execution_count": null,
   "metadata": {},
   "outputs": [],
   "source": [
    "#for in in converted_image_data_list]\n",
    "\n",
    "def any_num(input_list, divider):\n",
    "    count=0\n",
    "    my_list=[]\n",
    "    for i in input_list:\n",
    "        count=count+1\n",
    "        if count % divider==0:\n",
    "            my_list.append(i)\n",
    "       \n",
    "    return my_list\n",
    "\n",
    "def print_image_list(images):\n",
    "    for ima in images:\n",
    "        plt.figure()\n",
    "        plt.imshow(ima)"
   ]
  },
  {
   "cell_type": "code",
   "execution_count": null,
   "metadata": {},
   "outputs": [],
   "source": [
    "images=any_num(converted_image_data_list,7)\n",
    "print_image_list(images)  "
   ]
  },
  {
   "cell_type": "code",
   "execution_count": null,
   "metadata": {
    "scrolled": false
   },
   "outputs": [],
   "source": [
    "#shape = [filter_size, filter_size, num_input_channels, num_filters]\n",
    "weights=  tf.Variable(tf.random_normal(shape= [8,8,1,20], stddev=0.05)) \n",
    "weights.shape\n"
   ]
  },
  {
   "cell_type": "code",
   "execution_count": null,
   "metadata": {},
   "outputs": [],
   "source": [
    "bias= tf.Variable(tf.random_normal([20]))\n",
    "keep_prob= tf.placeholder(tf.float32)\n",
    "bias.shape"
   ]
  },
  {
   "cell_type": "code",
   "execution_count": null,
   "metadata": {},
   "outputs": [],
   "source": [
    "def conv2d(input_tensor,weights,bias,strides = 1):\n",
    "    input_tensor= tf.nn.conv2d(input_tensor,weights,strides= [1,strides,strides,1],padding= 'SAME')\n",
    "    input_tensor=tf.nn.bias_add(input_tensor,bias)\n",
    "    return tf.nn.relu(input_tensor)\n",
    "def max_pool(input_tensor,k=2):\n",
    "    return tf.nn.max_pool(input_tensor,ksize= [1,k,k,1],strides= [1,k,k,1],padding= 'SAME')"
   ]
  },
  {
   "cell_type": "code",
   "execution_count": null,
   "metadata": {},
   "outputs": [],
   "source": [
    "#create model\n",
    "def conv_net(input_tensor,weights,bias,dropout):\n",
    "    #reshape input tensor # Tensor input become 4-D: [Batch Size, Height, Width,Channel]\n",
    "    #The convolutional layers expect input to be encoded as a 4-dim tensor so we have to reshape it \n",
    "    reshape_input_tensor= tf.reshape(input_tensor,[-1,500,500,num_channels])\n",
    "    \n",
    "    #convolutional layer 1\n",
    "    conv1= conv2d(input_tensor,weights['wc1'],bias['bc1'],) #wc means w=  weight,c= convlutional\n",
    "    #maxpooling-to reduce the spatial size(only width and height, not depth),\n",
    "    #reduces the number of parameters, hence computation is reduced.\n",
    "    conv1= maxpool2d(conv1,k=2)\n",
    "    \n",
    "    #convoltion layer 2\n",
    "    conv2= conv2d(conv1,weights['wc2'],bias['bc2'])\n",
    "    conv2= maxpool2d(conv2,k=2)\n",
    "    \n",
    "    #fully connected layer or dense layer and get the shape of layer\n",
    "    fc1= tf.reshape(conv2,[-1,weights['wd1'].getshape().as_list()])\n",
    "    fc1= tf.add(tf.matmul(fc1,weight['wd1']),bias['bd1'])  # matrix multification\n",
    "    fc1= tf.nn.relu(fc1)\n",
    "    #apply drop out(to reduce overfitting- networks gives better accuracy in training set but fails in giving accuracy during testing)\n",
    "    fc1= tf.nn.dropout(fc1,dropout)\n",
    "    \n",
    "    #output, class prediction\n",
    "    output= tf.add(tf.matmul(fc1,weights['output'],bias['output']))\n",
    "    return output"
   ]
  },
  {
   "cell_type": "code",
   "execution_count": null,
   "metadata": {},
   "outputs": [],
   "source": [
    "#store weights as dictonary\n",
    "weights= {\n",
    "    #4*4 convfilter, 1 input, 32 outputs\n",
    "    'wc1': tf.Variable(tf.random_normal([4,4,1,32])),\n",
    "    #4*4 convfilter, 32 input ,64 outputs\n",
    "    'wc2': tf.Variable(tf.random_normal([4,4,32,64])),\n",
    "    #fully connected 12*12*64 inputs, 1024 outputs\n",
    "    'wd1': tf.Variable(tf.random_normal([8*8*64, 1024])), # 20 is number of classes or breeds here\n",
    "    #1024 inputs , 20 out classes/breeds\n",
    "    'output': tf.Variable(tf.random_normal([1024,num_classes]))\n",
    "}\n",
    "# store biases in form of dictonary\n",
    "biases= {\n",
    "    #bias for conv1\n",
    "    'bc1': tf.Variable(tf.random_normal)\n",
    "\n"
   ]
  },
  {
   "cell_type": "code",
   "execution_count": null,
   "metadata": {},
   "outputs": [],
   "source": []
  },
  {
   "cell_type": "code",
   "execution_count": null,
   "metadata": {},
   "outputs": [],
   "source": []
  },
  {
   "cell_type": "code",
   "execution_count": null,
   "metadata": {},
   "outputs": [],
   "source": []
  },
  {
   "cell_type": "code",
   "execution_count": null,
   "metadata": {},
   "outputs": [],
   "source": []
  }
 ],
 "metadata": {
  "kernelspec": {
   "display_name": "Python 3",
   "language": "python",
   "name": "python3"
  },
  "language_info": {
   "codemirror_mode": {
    "name": "ipython",
    "version": 3
   },
   "file_extension": ".py",
   "mimetype": "text/x-python",
   "name": "python",
   "nbconvert_exporter": "python",
   "pygments_lexer": "ipython3",
   "version": "3.6.4"
  }
 },
 "nbformat": 4,
 "nbformat_minor": 2
}
