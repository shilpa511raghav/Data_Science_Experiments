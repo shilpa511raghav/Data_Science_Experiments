{
 "cells": [
  {
   "cell_type": "code",
   "execution_count": 37,
   "metadata": {},
   "outputs": [
    {
     "name": "stdout",
     "output_type": "stream",
     "text": [
      "1\n",
      " \n",
      "S R\n"
     ]
    },
    {
     "data": {
      "text/plain": [
       "'S R 1'"
      ]
     },
     "execution_count": 37,
     "metadata": {},
     "output_type": "execute_result"
    }
   ],
   "source": [
    "class Person(object):\n",
    "    #constructor\n",
    "    def __init__(self,firstname,lastname):\n",
    "        self.first=firstname\n",
    "        self.last=lastname\n",
    "        \n",
    "    def Name(self):\n",
    "        return self.first + \" \" +self.last\n",
    "    \n",
    "class Employee(Person):\n",
    "    def __init__(self, fname, lname, staffnum):\n",
    "        super().__init__(fname, lname)\n",
    "        self.staffnumber = staffnum\n",
    "        \n",
    "    def GetEmployee(self):\n",
    "        return self.Name() + \" \"+ self.staffnumber\n",
    "\n",
    "a= Person(\"shilpa\",\"raghav\")\n",
    "b=Employee(\"S\",\"R\", \"1\")\n",
    "\n",
    "\n",
    "print(b.staffnumber)\n",
    "print(\" \")\n",
    "print(b.Name())\n",
    "\n",
    "b.GetEmployee()"
   ]
  },
  {
   "cell_type": "code",
   "execution_count": null,
   "metadata": {},
   "outputs": [],
   "source": []
  }
 ],
 "metadata": {
  "kernelspec": {
   "display_name": "Python 3",
   "language": "python",
   "name": "python3"
  },
  "language_info": {
   "codemirror_mode": {
    "name": "ipython",
    "version": 3
   },
   "file_extension": ".py",
   "mimetype": "text/x-python",
   "name": "python",
   "nbconvert_exporter": "python",
   "pygments_lexer": "ipython3",
   "version": "3.6.4"
  }
 },
 "nbformat": 4,
 "nbformat_minor": 2
}
