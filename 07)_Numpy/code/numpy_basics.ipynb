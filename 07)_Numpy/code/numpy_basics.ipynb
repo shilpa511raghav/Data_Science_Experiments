{
 "cells": [
  {
   "cell_type": "code",
   "execution_count": 1,
   "metadata": {},
   "outputs": [
    {
     "name": "stdout",
     "output_type": "stream",
     "text": [
      "[1 2 3]\n"
     ]
    }
   ],
   "source": [
    "import numpy as np\n",
    "x= np.array([1,2,3]) #numpy single dimensional array \n",
    "print (x)"
   ]
  },
  {
   "cell_type": "code",
   "execution_count": 42,
   "metadata": {},
   "outputs": [
    {
     "name": "stdout",
     "output_type": "stream",
     "text": [
      "[[ 2  3 32  4]\n",
      " [61  1  9 -5]\n",
      " [ 3  6  7 10]]\n"
     ]
    }
   ],
   "source": [
    "x= np.array([(2,3,32,4),(61,1,9,-5),(3,6,7,10)])    # multidimensional array using numpy\n",
    "print(x)"
   ]
  },
  {
   "cell_type": "code",
   "execution_count": null,
   "metadata": {},
   "outputs": [],
   "source": [
    "# program to compare the size acquired by a list and numpy array\n",
    "#array acquires less memory  than list, faster and convenient\n",
    "import numpy as np\n",
    "import sys          #system module--gives system parameters info\n",
    "\n",
    "list1= range(100)#  sys.getsize of() ---Return the size of an object in bytes.\"sys is giving memory location (system info)\n",
    "print(\"memory size acquired by list1 is \",sys.getsizeof(4)*len(list1))  #size of list=get size of one element and multiply by length of list \n",
    "\n",
    "array1= np.arange(100)        #here array range is defined as arange()\n",
    "print(\"memory size acquired by array1 is \", array1.size *array1.itemsize)  #space occupied by numpy array *length of array(.itemsize)"
   ]
  },
  {
   "cell_type": "code",
   "execution_count": 9,
   "metadata": {},
   "outputs": [
    {
     "name": "stdout",
     "output_type": "stream",
     "text": [
      "(3, 4)\n"
     ]
    }
   ],
   "source": [
    "print(x.shape)  #shape of matrix (r,c)"
   ]
  },
  {
   "cell_type": "code",
   "execution_count": 43,
   "metadata": {},
   "outputs": [
    {
     "name": "stdout",
     "output_type": "stream",
     "text": [
      "[[ 2  3 32]\n",
      " [ 4 61  1]\n",
      " [ 9 -5  3]\n",
      " [ 6  7 10]]\n"
     ]
    }
   ],
   "source": [
    "print(x.reshape(4,3)) #interchange rows and columns"
   ]
  },
  {
   "cell_type": "code",
   "execution_count": 33,
   "metadata": {},
   "outputs": [
    {
     "name": "stdout",
     "output_type": "stream",
     "text": [
      "9\n"
     ]
    }
   ],
   "source": [
    "print(x[1,2])  # printing 1st element of row 2  as indexing starts from 0"
   ]
  },
  {
   "cell_type": "code",
   "execution_count": 86,
   "metadata": {},
   "outputs": [
    {
     "name": "stdout",
     "output_type": "stream",
     "text": [
      "[9]\n"
     ]
    }
   ],
   "source": [
    "print(x[1:2,2])   "
   ]
  },
  {
   "cell_type": "code",
   "execution_count": 108,
   "metadata": {},
   "outputs": [
    {
     "name": "stdout",
     "output_type": "stream",
     "text": [
      "squarerrot is:\n",
      " [[1.41421356 1.73205081 5.65685425 2.        ]\n",
      " [7.81024968 1.         3.                nan]\n",
      " [1.73205081 2.44948974 2.64575131 3.16227766]]\n"
     ]
    },
    {
     "name": "stderr",
     "output_type": "stream",
     "text": [
      "c:\\users\\r\\appdata\\local\\programs\\python\\python36-32\\lib\\site-packages\\ipykernel_launcher.py:1: RuntimeWarning: invalid value encountered in sqrt\n",
      "  \"\"\"Entry point for launching an IPython kernel.\n"
     ]
    }
   ],
   "source": [
    "print(\"squarerrot is:\\n\",np.sqrt(x))"
   ]
  },
  {
   "cell_type": "code",
   "execution_count": 106,
   "metadata": {},
   "outputs": [
    {
     "name": "stdout",
     "output_type": "stream",
     "text": [
      "standard deviation is:  17.322713092610204\n"
     ]
    }
   ],
   "source": [
    "deviation= np.std(x)\n",
    "print(\"standard deviation is: \",deviation)"
   ]
  },
  {
   "cell_type": "code",
   "execution_count": 103,
   "metadata": {},
   "outputs": [
    {
     "name": "stdout",
     "output_type": "stream",
     "text": [
      "addition of two matrix is:\n",
      " [[13 15 17]\n",
      " [19 21 23]\n",
      " [25 27 29]]\n"
     ]
    }
   ],
   "source": [
    "a1= np.array([(2,3,4),(5,6,7),(8,9,10)])\n",
    "a2= np.array([(11,12,13),(14,15,16),(17,18,19)])\n",
    "print(\"addition of two matrix is:\\n\",a1+a2)  #all mathematic operatons can beperformed like addition"
   ]
  },
  {
   "cell_type": "code",
   "execution_count": 113,
   "metadata": {},
   "outputs": [
    {
     "name": "stdout",
     "output_type": "stream",
     "text": [
      "vertical stacking:\n",
      " [[ 2  3  4]\n",
      " [ 5  6  7]\n",
      " [ 8  9 10]\n",
      " [11 12 13]\n",
      " [14 15 16]\n",
      " [17 18 19]]\n"
     ]
    }
   ],
   "source": [
    "print(\"vertical stacking:\\n\",np.vstack((a1,a2)))  # vertical stackig means two array are concatenated vertically"
   ]
  },
  {
   "cell_type": "code",
   "execution_count": 114,
   "metadata": {},
   "outputs": [
    {
     "name": "stdout",
     "output_type": "stream",
     "text": [
      "horizontal stacking is\n",
      " [[ 2  3  4 11 12 13]\n",
      " [ 5  6  7 14 15 16]\n",
      " [ 8  9 10 17 18 19]]\n"
     ]
    }
   ],
   "source": [
    "print(\"horizontal stacking is\\n\",np.hstack((a1,a2)))"
   ]
  },
  {
   "cell_type": "code",
   "execution_count": 120,
   "metadata": {
    "scrolled": true
   },
   "outputs": [
    {
     "name": "stdout",
     "output_type": "stream",
     "text": [
      "[11 12 13 14 15 16 17 18 19]\n"
     ]
    }
   ],
   "source": [
    "print(a2.ravel())"
   ]
  },
  {
   "cell_type": "code",
   "execution_count": null,
   "metadata": {},
   "outputs": [],
   "source": []
  }
 ],
 "metadata": {
  "kernelspec": {
   "display_name": "Python 3",
   "language": "python",
   "name": "python3"
  },
  "language_info": {
   "codemirror_mode": {
    "name": "ipython",
    "version": 3
   },
   "file_extension": ".py",
   "mimetype": "text/x-python",
   "name": "python",
   "nbconvert_exporter": "python",
   "pygments_lexer": "ipython3",
   "version": "3.6.4"
  }
 },
 "nbformat": 4,
 "nbformat_minor": 2
}
