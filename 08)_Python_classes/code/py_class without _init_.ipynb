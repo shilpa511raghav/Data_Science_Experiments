{
 "cells": [
  {
   "cell_type": "code",
   "execution_count": 1,
   "metadata": {},
   "outputs": [
    {
     "name": "stdout",
     "output_type": "stream",
     "text": [
      "Audi123\n",
      "grey\n"
     ]
    }
   ],
   "source": [
    "class car():\n",
    "    pass\n",
    "audi = car()\n",
    "bmw = car()\n",
    "\n",
    "audi.model_no = \"Audi123\"\n",
    "audi.colour= \"white\"\n",
    "audi.cost =\"$ 234\"\n",
    "\n",
    "bmw.model_no= \"bmw23456\"\n",
    "bmw.colour= \"grey\"\n",
    "bmw.cost= \"$70k\"\n",
    "\n",
    "print(audi.model_no)\n",
    "print(bmw.colour)"
   ]
  },
  {
   "cell_type": "code",
   "execution_count": null,
   "metadata": {},
   "outputs": [],
   "source": []
  }
 ],
 "metadata": {
  "kernelspec": {
   "display_name": "Python 3",
   "language": "python",
   "name": "python3"
  },
  "language_info": {
   "codemirror_mode": {
    "name": "ipython",
    "version": 3
   },
   "file_extension": ".py",
   "mimetype": "text/x-python",
   "name": "python",
   "nbconvert_exporter": "python",
   "pygments_lexer": "ipython3",
   "version": "3.6.4"
  }
 },
 "nbformat": 4,
 "nbformat_minor": 2
}
