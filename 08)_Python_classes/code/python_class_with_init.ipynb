{
 "cells": [
  {
   "cell_type": "code",
   "execution_count": 2,
   "metadata": {},
   "outputs": [
    {
     "name": "stdout",
     "output_type": "stream",
     "text": [
      "grey\n",
      "hondax2y\n",
      "audi123,grey\n"
     ]
    }
   ],
   "source": [
    "class car():\n",
    "    def __init__(self, model,colour):\n",
    "        self.model= model\n",
    "        self.colour= colour\n",
    "\n",
    "\n",
    "    def model_colour(self):\n",
    "         return (\"{},{}\".format(self.model,self.colour))\n",
    "\n",
    "\n",
    "audi = car('audi123','grey')\n",
    "honda = car('hondax2y','white')\n",
    "print(audi.colour)\n",
    "print(honda.model)\n",
    "\n",
    "print(audi.model_colour())"
   ]
  },
  {
   "cell_type": "code",
   "execution_count": null,
   "metadata": {},
   "outputs": [],
   "source": []
  },
  {
   "cell_type": "code",
   "execution_count": null,
   "metadata": {},
   "outputs": [],
   "source": []
  }
 ],
 "metadata": {
  "kernelspec": {
   "display_name": "Python 3",
   "language": "python",
   "name": "python3"
  }
 },
 "nbformat": 4,
 "nbformat_minor": 2
}
