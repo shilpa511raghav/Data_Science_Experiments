{
 "cells": [
  {
   "cell_type": "code",
   "execution_count": 1,
   "metadata": {},
   "outputs": [
    {
     "name": "stdout",
     "output_type": "stream",
     "text": [
      "[('johnson', 'mathew'), 'tweety', ('virat', 'sachin'), 't', 'o', 'n', 'e', 'y']\n",
      "mathew\n",
      "wehtam\n"
     ]
    }
   ],
   "source": [
    "# tupple inside a list\n",
    "\n",
    "list_1 = [('johnson', 'mathew'),('virat','sachin')]\n",
    "list_1.insert(1,'tweety')\n",
    "list_1.extend(('toney'))\n",
    "print(list_1)\n",
    "g= list_1[0][1]       # 1st argument of 0th position tupple inside list_1====mathew\n",
    "print(g)\n",
    "print(g[::-1])         # reverse a string (here mathew acc to coding )\n"
   ]
  },
  {
   "cell_type": "code",
   "execution_count": 4,
   "metadata": {},
   "outputs": [
    {
     "name": "stdout",
     "output_type": "stream",
     "text": [
      "{0, 'chem', 2, 3, 7, 'math', 'the', 'hist'}\n",
      "{0, 2, 3, 7, 'the'}\n",
      "None\n",
      "number is added in set1\n",
      "{0, 1, 2, 5, 6, 7, 'the', 'hist'}\n"
     ]
    }
   ],
   "source": [
    "#program\n",
    "\n",
    "set1 = {3, 7, 3, 7, 0, 2, 'the', 3}   #sets uses curly braces and print values in sequence and doent duplicates the values written twice\n",
    "set2 = {3,0,2,'chem','math','hist'}\n",
    "print(set1|set2)  #union of two sets \n",
    "print(set1)\n",
    "set1.add('hist')   #we can add integers also, but add take single argument\n",
    "set1.add(5)\n",
    "set1.update((7,1,6))\n",
    "print(set1.discard(3))\n",
    "list1=list(set1)\n",
    "if(5 in list1):\n",
    "    print(\"number is added in set1\")\n",
    "print(set1)"
   ]
  },
  {
   "cell_type": "code",
   "execution_count": null,
   "metadata": {},
   "outputs": [],
   "source": []
  }
 ],
 "metadata": {
  "kernelspec": {
   "display_name": "Python 3",
   "language": "python",
   "name": "python3"
  },
  "language_info": {
   "codemirror_mode": {
    "name": "ipython",
    "version": 3
   },
   "file_extension": ".py",
   "mimetype": "text/x-python",
   "name": "python",
   "nbconvert_exporter": "python",
   "pygments_lexer": "ipython3",
   "version": "3.6.4"
  }
 },
 "nbformat": 4,
 "nbformat_minor": 2
}
