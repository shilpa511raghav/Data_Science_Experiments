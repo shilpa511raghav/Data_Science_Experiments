{
 "cells": [
  {
   "cell_type": "code",
   "execution_count": 6,
   "metadata": {},
   "outputs": [
    {
     "name": "stdout",
     "output_type": "stream",
     "text": [
      "('joy', 'happiness', 'lovely', 'smile')\n",
      "joy\n",
      "happiness\n",
      "lovely\n",
      "smile\n"
     ]
    }
   ],
   "source": [
    "def kitten(*args):  # *args is used when you want to pass number of arguments\n",
    "    if len(args):\n",
    "        for s in args:\n",
    "            print(s)\n",
    "    else: print('Meow.')\n",
    "\n",
    "def main():\n",
    "    t= ('joy','happiness','lovely','smile')\n",
    "    kitten(t)   \n",
    "    kitten(*t)  \n",
    "\n",
    "if __name__ == '__main__':  main()     # way to call a function"
   ]
  },
  {
   "cell_type": "code",
   "execution_count": null,
   "metadata": {},
   "outputs": [],
   "source": []
  }
 ],
 "metadata": {
  "kernelspec": {
   "display_name": "Python 3",
   "language": "python",
   "name": "python3"
  },
  "language_info": {
   "codemirror_mode": {
    "name": "ipython",
    "version": 3
   },
   "file_extension": ".py",
   "mimetype": "text/x-python",
   "name": "python",
   "nbconvert_exporter": "python",
   "pygments_lexer": "ipython3",
   "version": "3.6.4"
  }
 },
 "nbformat": 4,
 "nbformat_minor": 2
}
