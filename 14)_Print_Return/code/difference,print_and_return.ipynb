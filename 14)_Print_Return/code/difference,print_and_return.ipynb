{
 "cells": [
  {
   "cell_type": "code",
   "execution_count": 2,
   "metadata": {},
   "outputs": [
    {
     "name": "stdout",
     "output_type": "stream",
     "text": [
      "good\n",
      "ret is:  None\n",
      "other is:  hello\n"
     ]
    }
   ],
   "source": [
    "def printAndReturnNothing():\n",
    "    x = \"hello\"\n",
    "    #print(x)\n",
    "    return x\n",
    "\n",
    "def printAndReturn():\n",
    "    x = \"good\"\n",
    "    print(x)\n",
    "    #return x\n",
    "\n",
    "def ptr():\n",
    "    ret = printAndReturn()\n",
    "    other = printAndReturnNothing()\n",
    "\n",
    "    print(\"ret is: \" , ret)\n",
    "    print(\"other is: \" , other)\n",
    "\n",
    "if __name__ == \"__main__\":\n",
    "    ptr()"
   ]
  },
  {
   "cell_type": "code",
   "execution_count": null,
   "metadata": {},
   "outputs": [],
   "source": []
  }
 ],
 "metadata": {
  "kernelspec": {
   "display_name": "Python 3",
   "language": "python",
   "name": "python3"
  },
  "language_info": {
   "codemirror_mode": {
    "name": "ipython",
    "version": 3
   },
   "file_extension": ".py",
   "mimetype": "text/x-python",
   "name": "python",
   "nbconvert_exporter": "python",
   "pygments_lexer": "ipython3",
   "version": "3.6.4"
  }
 },
 "nbformat": 4,
 "nbformat_minor": 2
}
