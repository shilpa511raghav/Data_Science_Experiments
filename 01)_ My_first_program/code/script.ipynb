{
 "cells": [
  {
   "cell_type": "code",
   "execution_count": 2,
   "metadata": {},
   "outputs": [
    {
     "name": "stdout",
     "output_type": "stream",
     "text": [
      "grey\n",
      "hondax2y\n",
      "audi123,grey\n"
     ]
    }
   ],
   "source": [
    "class car():\n",
    "    def __init__(self, model,colour):\n",
    "        self.model= model\n",
    "        self.colour= colour\n",
    "\n",
    "\n",
    "    def model_colour(self):\n",
    "         return (\"{},{}\".format(self.model,self.colour))\n",
    "\n",
    "\n",
    "audi = car('audi123','grey')\n",
    "honda = car('hondax2y','white')\n",
    "print(audi.colour)\n",
    "print(honda.model)\n",
    "\n",
    "print(audi.model_colour())\n"
   ]
  },
  {
   "cell_type": "code",
   "execution_count": null,
   "metadata": {},
   "outputs": [],
   "source": []
  },
  {
   "cell_type": "code",
   "execution_count": null,
   "metadata": {},
   "outputs": [],
   "source": []
  }
 ],
 "metadata": {
  "kernelspec": {
   "display_name": "Python 3",
   "language": "python",
   "name": "python3"
  },
  "language_info": {
   "codemirror_mode": {
    "name": "ipython",
    "version": 3
   },
   "file_extension": ".py",
   "mimetype": "text/x-python",
   "name": "python",
   "nbconvert_exporter": "python",
   "pygments_lexer": "ipython3",
   "version": "3.6.4"
  }
 },
 "nbformat": 4,
 "nbformat_minor": 2
}
