{
 "cells": [
  {
   "cell_type": "code",
   "execution_count": 130,
   "metadata": {},
   "outputs": [
    {
     "name": "stdout",
     "output_type": "stream",
     "text": [
      "The Product is:  144000\n"
     ]
    }
   ],
   "source": [
    "x= 320\n",
    "y= 450\n",
    "print(\"The Product is:  {}\".format(x*y))\n",
    "\n",
    "#in python version 3.6 we can use format with single alphabet (lower case or uppercase)in front of :\n",
    "#print(f 'product is {x*y}')\n"
   ]
  },
  {
   "cell_type": "markdown",
   "metadata": {},
   "source": [
    "*We can also name the variables in between curly braces like :\n"
   ]
  },
  {
   "cell_type": "code",
   "execution_count": 36,
   "metadata": {},
   "outputs": [
    {
     "name": "stdout",
     "output_type": "stream",
     "text": [
      "The numbers are 320 450\n",
      "the numbers are 450 320\n"
     ]
    }
   ],
   "source": [
    "x = 320\n",
    "y= 450\n",
    "print(\"The numbers are {first} {second}\" .format( first =x , second=y))\n",
    "# change the position \n",
    "print(\"the numbers are {second} {first}\".format(first=x ,second=y))"
   ]
  },
  {
   "cell_type": "markdown",
   "metadata": {},
   "source": [
    "* We can also change the positions using index"
   ]
  },
  {
   "cell_type": "code",
   "execution_count": 39,
   "metadata": {},
   "outputs": [
    {
     "name": "stdout",
     "output_type": "stream",
     "text": [
      "the numbers are 450 320\n",
      "the numbers are 320 450 320 \n"
     ]
    }
   ],
   "source": [
    "x= 320\n",
    "y= 450\n",
    "print(\"the numbers are {1} {0}\".format(x,y))\n",
    "#if We want to repeat the value \n",
    "print(\"the numbers are {0} {1} {0} \".format(x,y))"
   ]
  },
  {
   "cell_type": "markdown",
   "metadata": {},
   "source": [
    "# Alignment\n"
   ]
  },
  {
   "cell_type": "code",
   "execution_count": 108,
   "metadata": {},
   "outputs": [
    {
     "name": "stdout",
     "output_type": "stream",
     "text": [
      "the numbers are     450 43434426\n",
      "the numbers are   450   43434426\n"
     ]
    }
   ],
   "source": [
    "#for e.g {position:right/left by how many} in curly braces \n",
    "#first digit is showing the position ,after colon sign is  either u want to space left or right with respect to that sign is used and by how many spaces is written after that \n",
    "print(\"the numbers are {1:>7} {0:>8}\" .format (x,y))\n",
    "\n",
    "#\"centre aligned\n",
    "\n",
    "print(\"the numbers are {1:^7} {0:^8}\".format(x,y))"
   ]
  },
  {
   "cell_type": "code",
   "execution_count": 50,
   "metadata": {},
   "outputs": [
    {
     "name": "stdout",
     "output_type": "stream",
     "text": [
      "the numbers are 4500000 000320\n"
     ]
    }
   ],
   "source": [
    "#Add leading zero at any side\n",
    "print(\"the numbers are {1:<07} {0:>06}\".format(x,y))"
   ]
  },
  {
   "cell_type": "code",
   "execution_count": null,
   "metadata": {},
   "outputs": [],
   "source": []
  },
  {
   "cell_type": "code",
   "execution_count": 57,
   "metadata": {},
   "outputs": [
    {
     "name": "stdout",
     "output_type": "stream",
     "text": [
      "the numbers are +450 320\n"
     ]
    }
   ],
   "source": [
    "# Add sign in front of number if number is positive the\n",
    "#we can add sign even sign postive sign doesnt show and\n",
    "#if number is +ve and we are trying to give it a negative sign the it will not add -ve sign\n",
    "print(\"the numbers are {1:+} {0:-}\".format(x,y))"
   ]
  },
  {
   "cell_type": "code",
   "execution_count": 118,
   "metadata": {},
   "outputs": [
    {
     "name": "stdout",
     "output_type": "stream",
     "text": [
      "product is 43,434,426\n",
      "product is 43.434.426\n",
      "the product is 43434426.000000, 43434426.000000\n",
      "the product is 43434426\n",
      "the product is 43434426.000\n"
     ]
    }
   ],
   "source": [
    "# seperate the output using comma if output is in thousands or more than that\n",
    "x= 478*90867\n",
    "print(\"product is {:,}\" .format(x))\n",
    "\n",
    "#if we want to replace comma using any special character then use replace \n",
    "#but if we will use directly any other special character is place of comma in above example \n",
    "#then  error will occur\n",
    "\n",
    "\n",
    "print(\"product is {:,}\".format(x).replace(',' , '.'))\n",
    "\n",
    "# we can also add a fixed number of decimal places by using {:f }inside curly braces\n",
    "\n",
    "print(\"the product is {0:f}, {0:.6f}\".format(x))  # here by default decimal places is printed\n",
    "\n",
    "print(\"the product is {:.0f}\".format(x)) # here zero is added with f after decimal means no decimal places \n",
    "\n",
    "print(\"the product is {:.3f}\".format(x))  # here .3f denotes 3 decimal places after decimal"
   ]
  },
  {
   "cell_type": "markdown",
   "metadata": {},
   "source": [
    "###  We can also convert numbers in various digital formats \n",
    "#*hexadecimal {x} \n",
    "#*octal -{o}\n",
    "#*binary- {b} and many more"
   ]
  },
  {
   "cell_type": "code",
   "execution_count": 124,
   "metadata": {},
   "outputs": [
    {
     "name": "stdout",
     "output_type": "stream",
     "text": [
      "digital formats are int =14 , octal=24 , binary= 10100 \n",
      "digital format is binary:10100 \n"
     ]
    }
   ],
   "source": [
    "# if we want to print a single number in different format using  .format once\n",
    "#then we have to use indexing such as here is only single number 20 which is to be converted\n",
    "# so for single number we use index 0 for all digi formats we want to print.\n",
    "\n",
    "print(\"digital formats are int ={0:x} , octal={0:o} , binary= {0:b} \".format(20))\n",
    "\n",
    "#but for a single number to be printed then no need of index number\n",
    "print(\"digital format is binary:{:b} \".format (20))"
   ]
  },
  {
   "cell_type": "code",
   "execution_count": null,
   "metadata": {},
   "outputs": [],
   "source": []
  }
 ],
 "metadata": {
  "kernelspec": {
   "display_name": "Python 3",
   "language": "python",
   "name": "python3"
  }
 },
 "nbformat": 4,
 "nbformat_minor": 2
}
