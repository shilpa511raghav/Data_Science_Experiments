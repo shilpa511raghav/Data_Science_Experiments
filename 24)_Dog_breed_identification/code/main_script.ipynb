{
 "cells": [
  {
   "cell_type": "code",
   "execution_count": 1,
   "metadata": {
    "scrolled": true
   },
   "outputs": [
    {
     "name": "stdout",
     "output_type": "stream",
     "text": [
      "imported\n"
     ]
    }
   ],
   "source": [
    "#### import required libraries\n",
    "import pandas as pd\n",
    "import numpy as np\n",
    "import matplotlib.pyplot as plt\n",
    "import tensorflow as tf\n",
    "import os\n",
    "\n",
    "#Open a Zip File\n",
    "from zipfile import ZipFile\n",
    "\n",
    "\n",
    "#Image manipulation\n",
    "from PIL import Image\n",
    "print('imported')"
   ]
  },
  {
   "cell_type": "code",
   "execution_count": 2,
   "metadata": {},
   "outputs": [],
   "source": [
    "#unzip files\n",
    "#Z and F in ZipFile always be capital whenever their usage in Python otherwise it will give error cannot import module \n",
    "\n",
    "train_zip= ZipFile(\"../data/train.zip\",mode='r')\n"
   ]
  },
  {
   "cell_type": "code",
   "execution_count": 3,
   "metadata": {},
   "outputs": [
    {
     "data": {
      "text/html": [
       "<div>\n",
       "<style scoped>\n",
       "    .dataframe tbody tr th:only-of-type {\n",
       "        vertical-align: middle;\n",
       "    }\n",
       "\n",
       "    .dataframe tbody tr th {\n",
       "        vertical-align: top;\n",
       "    }\n",
       "\n",
       "    .dataframe thead th {\n",
       "        text-align: right;\n",
       "    }\n",
       "</style>\n",
       "<table border=\"1\" class=\"dataframe\">\n",
       "  <thead>\n",
       "    <tr style=\"text-align: right;\">\n",
       "      <th></th>\n",
       "      <th>id</th>\n",
       "      <th>breed</th>\n",
       "    </tr>\n",
       "  </thead>\n",
       "  <tbody>\n",
       "    <tr>\n",
       "      <th>0</th>\n",
       "      <td>000bec180eb18c7604dcecc8fe0dba07</td>\n",
       "      <td>boston_bull</td>\n",
       "    </tr>\n",
       "    <tr>\n",
       "      <th>1</th>\n",
       "      <td>001513dfcb2ffafc82cccf4d8bbaba97</td>\n",
       "      <td>dingo</td>\n",
       "    </tr>\n",
       "    <tr>\n",
       "      <th>2</th>\n",
       "      <td>001cdf01b096e06d78e9e5112d419397</td>\n",
       "      <td>pekinese</td>\n",
       "    </tr>\n",
       "    <tr>\n",
       "      <th>3</th>\n",
       "      <td>00214f311d5d2247d5dfe4fe24b2303d</td>\n",
       "      <td>bluetick</td>\n",
       "    </tr>\n",
       "    <tr>\n",
       "      <th>4</th>\n",
       "      <td>0021f9ceb3235effd7fcde7f7538ed62</td>\n",
       "      <td>golden_retriever</td>\n",
       "    </tr>\n",
       "  </tbody>\n",
       "</table>\n",
       "</div>"
      ],
      "text/plain": [
       "                                 id             breed\n",
       "0  000bec180eb18c7604dcecc8fe0dba07       boston_bull\n",
       "1  001513dfcb2ffafc82cccf4d8bbaba97             dingo\n",
       "2  001cdf01b096e06d78e9e5112d419397          pekinese\n",
       "3  00214f311d5d2247d5dfe4fe24b2303d          bluetick\n",
       "4  0021f9ceb3235effd7fcde7f7538ed62  golden_retriever"
      ]
     },
     "execution_count": 3,
     "metadata": {},
     "output_type": "execute_result"
    }
   ],
   "source": [
    "#read labels \n",
    "labels= pd.read_csv(\"../data/labels.csv\")\n",
    "labels.head()"
   ]
  },
  {
   "cell_type": "code",
   "execution_count": 4,
   "metadata": {},
   "outputs": [
    {
     "data": {
      "text/plain": [
       "(10222, 2)"
      ]
     },
     "execution_count": 4,
     "metadata": {},
     "output_type": "execute_result"
    }
   ],
   "source": [
    "labels.shape"
   ]
  },
  {
   "cell_type": "code",
   "execution_count": 5,
   "metadata": {},
   "outputs": [
    {
     "data": {
      "text/html": [
       "<div>\n",
       "<style scoped>\n",
       "    .dataframe tbody tr th:only-of-type {\n",
       "        vertical-align: middle;\n",
       "    }\n",
       "\n",
       "    .dataframe tbody tr th {\n",
       "        vertical-align: top;\n",
       "    }\n",
       "\n",
       "    .dataframe thead th {\n",
       "        text-align: right;\n",
       "    }\n",
       "</style>\n",
       "<table border=\"1\" class=\"dataframe\">\n",
       "  <thead>\n",
       "    <tr style=\"text-align: right;\">\n",
       "      <th></th>\n",
       "      <th>breed</th>\n",
       "      <th>id</th>\n",
       "    </tr>\n",
       "  </thead>\n",
       "  <tbody>\n",
       "    <tr>\n",
       "      <th>97</th>\n",
       "      <td>scottish_deerhound</td>\n",
       "      <td>126</td>\n",
       "    </tr>\n",
       "    <tr>\n",
       "      <th>73</th>\n",
       "      <td>maltese_dog</td>\n",
       "      <td>117</td>\n",
       "    </tr>\n",
       "    <tr>\n",
       "      <th>1</th>\n",
       "      <td>afghan_hound</td>\n",
       "      <td>116</td>\n",
       "    </tr>\n",
       "    <tr>\n",
       "      <th>42</th>\n",
       "      <td>entlebucher</td>\n",
       "      <td>115</td>\n",
       "    </tr>\n",
       "    <tr>\n",
       "      <th>11</th>\n",
       "      <td>bernese_mountain_dog</td>\n",
       "      <td>114</td>\n",
       "    </tr>\n",
       "  </tbody>\n",
       "</table>\n",
       "</div>"
      ],
      "text/plain": [
       "                   breed   id\n",
       "97    scottish_deerhound  126\n",
       "73           maltese_dog  117\n",
       "1           afghan_hound  116\n",
       "42           entlebucher  115\n",
       "11  bernese_mountain_dog  114"
      ]
     },
     "execution_count": 5,
     "metadata": {},
     "output_type": "execute_result"
    }
   ],
   "source": [
    "unique_breeds= labels['breed'].unique()\n",
    "len(unique_breeds) \n",
    "total_breeds_taken= labels.groupby('breed')['breed'].count().reset_index(name= 'id').sort_values(by= 'id', ascending = False).head(20)\n",
    "total_breeds_taken.head()"
   ]
  },
  {
   "cell_type": "code",
   "execution_count": 6,
   "metadata": {},
   "outputs": [
    {
     "data": {
      "text/plain": [
       "20"
      ]
     },
     "execution_count": 6,
     "metadata": {},
     "output_type": "execute_result"
    }
   ],
   "source": [
    "#make a list of breeds that are unique\n",
    "\n",
    "unique_breeds= list(total_breeds_taken['breed'])\n",
    "unique_breeds\n",
    "len(unique_breeds)"
   ]
  },
  {
   "cell_type": "code",
   "execution_count": 7,
   "metadata": {
    "scrolled": true
   },
   "outputs": [
    {
     "name": "stdout",
     "output_type": "stream",
     "text": [
      "03dc61595ad9dbf49e3998cf586ca8cb\n",
      "../data/train/03dc61595ad9dbf49e3998cf586ca8cb.jpg\n"
     ]
    }
   ],
   "source": [
    "#So most popular breed in dataset is scottish deerhound with 126 images. Lets look on one of them\n",
    "import PIL.Image as Image\n",
    "scottish_deerhound_id= labels.loc[labels['breed']== 'scottish_deerhound'].iloc[2,0]  #iloc 2 shows row number and 0 shows column index as in label csv there are only 2 columns\n",
    "print(scottish_deerhound_id)\n",
    "path= (\"../data/train/\")\n",
    "print(path + scottish_deerhound_id + \".jpg\")\n",
    "#Image.open(path + scottish_deerhound_id + \".jpg\")  #image format should be correctly filled\n"
   ]
  },
  {
   "cell_type": "code",
   "execution_count": 8,
   "metadata": {},
   "outputs": [
    {
     "data": {
      "text/plain": [
       "(2184, 2)"
      ]
     },
     "execution_count": 8,
     "metadata": {},
     "output_type": "execute_result"
    }
   ],
   "source": [
    "imagesToRead= labels[labels['breed'].isin(unique_breeds)]\n",
    "imagesToRead.head()\n",
    "imagesToRead.shape"
   ]
  },
  {
   "cell_type": "code",
   "execution_count": 9,
   "metadata": {},
   "outputs": [
    {
     "data": {
      "text/html": [
       "<div>\n",
       "<style scoped>\n",
       "    .dataframe tbody tr th:only-of-type {\n",
       "        vertical-align: middle;\n",
       "    }\n",
       "\n",
       "    .dataframe tbody tr th {\n",
       "        vertical-align: top;\n",
       "    }\n",
       "\n",
       "    .dataframe thead th {\n",
       "        text-align: right;\n",
       "    }\n",
       "</style>\n",
       "<table border=\"1\" class=\"dataframe\">\n",
       "  <thead>\n",
       "    <tr style=\"text-align: right;\">\n",
       "      <th></th>\n",
       "      <th>breed</th>\n",
       "      <th>count</th>\n",
       "    </tr>\n",
       "  </thead>\n",
       "  <tbody>\n",
       "    <tr>\n",
       "      <th>97</th>\n",
       "      <td>scottish_deerhound</td>\n",
       "      <td>126</td>\n",
       "    </tr>\n",
       "    <tr>\n",
       "      <th>73</th>\n",
       "      <td>maltese_dog</td>\n",
       "      <td>117</td>\n",
       "    </tr>\n",
       "    <tr>\n",
       "      <th>1</th>\n",
       "      <td>afghan_hound</td>\n",
       "      <td>116</td>\n",
       "    </tr>\n",
       "    <tr>\n",
       "      <th>42</th>\n",
       "      <td>entlebucher</td>\n",
       "      <td>115</td>\n",
       "    </tr>\n",
       "    <tr>\n",
       "      <th>11</th>\n",
       "      <td>bernese_mountain_dog</td>\n",
       "      <td>114</td>\n",
       "    </tr>\n",
       "  </tbody>\n",
       "</table>\n",
       "</div>"
      ],
      "text/plain": [
       "                   breed  count\n",
       "97    scottish_deerhound    126\n",
       "73           maltese_dog    117\n",
       "1           afghan_hound    116\n",
       "42           entlebucher    115\n",
       "11  bernese_mountain_dog    114"
      ]
     },
     "execution_count": 9,
     "metadata": {},
     "output_type": "execute_result"
    }
   ],
   "source": [
    "#as we know that by default here index is taken as breed so we need to reset index and as in initial stage we will take only top breeds (here 10 is taken) in order to easy calculation and training\n",
    "total_label= (labels.groupby('breed')['breed'].count().reset_index(name='count').sort_values('count',ascending = False)).head(20)\n",
    "total_label.head()\n"
   ]
  },
  {
   "cell_type": "code",
   "execution_count": 10,
   "metadata": {},
   "outputs": [
    {
     "data": {
      "text/plain": [
       "['scottish_deerhound',\n",
       " 'maltese_dog',\n",
       " 'afghan_hound',\n",
       " 'entlebucher',\n",
       " 'bernese_mountain_dog',\n",
       " 'shih-tzu',\n",
       " 'great_pyrenees',\n",
       " 'pomeranian',\n",
       " 'basenji',\n",
       " 'samoyed',\n",
       " 'airedale',\n",
       " 'tibetan_terrier',\n",
       " 'leonberg',\n",
       " 'cairn',\n",
       " 'beagle',\n",
       " 'japanese_spaniel',\n",
       " 'australian_terrier',\n",
       " 'blenheim_spaniel',\n",
       " 'miniature_pinscher',\n",
       " 'irish_wolfhound']"
      ]
     },
     "execution_count": 10,
     "metadata": {},
     "output_type": "execute_result"
    }
   ],
   "source": [
    "# so now from whole dataset we will consider these top 10 breed who have more number of images per breed\n",
    "unique_breed_list = list(total_label.reset_index()['breed'])\n",
    "unique_breed_list"
   ]
  },
  {
   "cell_type": "code",
   "execution_count": 11,
   "metadata": {},
   "outputs": [
    {
     "data": {
      "text/plain": [
       "(2184, 2)"
      ]
     },
     "execution_count": 11,
     "metadata": {},
     "output_type": "execute_result"
    }
   ],
   "source": [
    "\n",
    "labels=labels[labels['breed'].isin(unique_breed_list)]\n",
    "#print(np.array(labels).shape)\n",
    "labels.shape"
   ]
  },
  {
   "cell_type": "code",
   "execution_count": 12,
   "metadata": {},
   "outputs": [
    {
     "data": {
      "text/plain": [
       "(['basenji',\n",
       "  'scottish_deerhound',\n",
       "  'maltese_dog',\n",
       "  'cairn',\n",
       "  'tibetan_terrier',\n",
       "  'shih-tzu',\n",
       "  'australian_terrier',\n",
       "  'samoyed',\n",
       "  'scottish_deerhound',\n",
       "  'entlebucher',\n",
       "  'entlebucher'],\n",
       " '        ',\n",
       " 2184)"
      ]
     },
     "execution_count": 12,
     "metadata": {},
     "output_type": "execute_result"
    }
   ],
   "source": [
    "gross_breeds= imagesToRead[\"breed\"]\n",
    "gross_breed_list= (list(gross_breeds))\n",
    "\n",
    "gross_breed_list[:11], \"        \",len(gross_breed_list)"
   ]
  },
  {
   "cell_type": "code",
   "execution_count": 13,
   "metadata": {},
   "outputs": [
    {
     "data": {
      "text/plain": [
       "2184"
      ]
     },
     "execution_count": 13,
     "metadata": {},
     "output_type": "execute_result"
    }
   ],
   "source": [
    "#filter the names of images of selected breeds that we will resize\n",
    "image_names= imagesToRead[\"id\"]\n",
    "image_name_list= list(image_names)\n",
    "\n",
    "len(image_name_list)"
   ]
  },
  {
   "cell_type": "code",
   "execution_count": 14,
   "metadata": {},
   "outputs": [
    {
     "name": "stdout",
     "output_type": "stream",
     "text": [
      "{'scottish_deerhound': [1.0, 0.0, 0.0, 0.0, 0.0, 0.0, 0.0, 0.0, 0.0, 0.0, 0.0, 0.0, 0.0, 0.0, 0.0, 0.0, 0.0, 0.0, 0.0, 0.0], 'maltese_dog': [0.0, 1.0, 0.0, 0.0, 0.0, 0.0, 0.0, 0.0, 0.0, 0.0, 0.0, 0.0, 0.0, 0.0, 0.0, 0.0, 0.0, 0.0, 0.0, 0.0], 'afghan_hound': [0.0, 0.0, 1.0, 0.0, 0.0, 0.0, 0.0, 0.0, 0.0, 0.0, 0.0, 0.0, 0.0, 0.0, 0.0, 0.0, 0.0, 0.0, 0.0, 0.0], 'entlebucher': [0.0, 0.0, 0.0, 1.0, 0.0, 0.0, 0.0, 0.0, 0.0, 0.0, 0.0, 0.0, 0.0, 0.0, 0.0, 0.0, 0.0, 0.0, 0.0, 0.0], 'bernese_mountain_dog': [0.0, 0.0, 0.0, 0.0, 1.0, 0.0, 0.0, 0.0, 0.0, 0.0, 0.0, 0.0, 0.0, 0.0, 0.0, 0.0, 0.0, 0.0, 0.0, 0.0], 'shih-tzu': [0.0, 0.0, 0.0, 0.0, 0.0, 1.0, 0.0, 0.0, 0.0, 0.0, 0.0, 0.0, 0.0, 0.0, 0.0, 0.0, 0.0, 0.0, 0.0, 0.0], 'great_pyrenees': [0.0, 0.0, 0.0, 0.0, 0.0, 0.0, 1.0, 0.0, 0.0, 0.0, 0.0, 0.0, 0.0, 0.0, 0.0, 0.0, 0.0, 0.0, 0.0, 0.0], 'pomeranian': [0.0, 0.0, 0.0, 0.0, 0.0, 0.0, 0.0, 1.0, 0.0, 0.0, 0.0, 0.0, 0.0, 0.0, 0.0, 0.0, 0.0, 0.0, 0.0, 0.0], 'basenji': [0.0, 0.0, 0.0, 0.0, 0.0, 0.0, 0.0, 0.0, 1.0, 0.0, 0.0, 0.0, 0.0, 0.0, 0.0, 0.0, 0.0, 0.0, 0.0, 0.0], 'samoyed': [0.0, 0.0, 0.0, 0.0, 0.0, 0.0, 0.0, 0.0, 0.0, 1.0, 0.0, 0.0, 0.0, 0.0, 0.0, 0.0, 0.0, 0.0, 0.0, 0.0], 'airedale': [0.0, 0.0, 0.0, 0.0, 0.0, 0.0, 0.0, 0.0, 0.0, 0.0, 1.0, 0.0, 0.0, 0.0, 0.0, 0.0, 0.0, 0.0, 0.0, 0.0], 'tibetan_terrier': [0.0, 0.0, 0.0, 0.0, 0.0, 0.0, 0.0, 0.0, 0.0, 0.0, 0.0, 1.0, 0.0, 0.0, 0.0, 0.0, 0.0, 0.0, 0.0, 0.0], 'leonberg': [0.0, 0.0, 0.0, 0.0, 0.0, 0.0, 0.0, 0.0, 0.0, 0.0, 0.0, 0.0, 1.0, 0.0, 0.0, 0.0, 0.0, 0.0, 0.0, 0.0], 'cairn': [0.0, 0.0, 0.0, 0.0, 0.0, 0.0, 0.0, 0.0, 0.0, 0.0, 0.0, 0.0, 0.0, 1.0, 0.0, 0.0, 0.0, 0.0, 0.0, 0.0], 'beagle': [0.0, 0.0, 0.0, 0.0, 0.0, 0.0, 0.0, 0.0, 0.0, 0.0, 0.0, 0.0, 0.0, 0.0, 1.0, 0.0, 0.0, 0.0, 0.0, 0.0], 'japanese_spaniel': [0.0, 0.0, 0.0, 0.0, 0.0, 0.0, 0.0, 0.0, 0.0, 0.0, 0.0, 0.0, 0.0, 0.0, 0.0, 1.0, 0.0, 0.0, 0.0, 0.0], 'australian_terrier': [0.0, 0.0, 0.0, 0.0, 0.0, 0.0, 0.0, 0.0, 0.0, 0.0, 0.0, 0.0, 0.0, 0.0, 0.0, 0.0, 1.0, 0.0, 0.0, 0.0], 'blenheim_spaniel': [0.0, 0.0, 0.0, 0.0, 0.0, 0.0, 0.0, 0.0, 0.0, 0.0, 0.0, 0.0, 0.0, 0.0, 0.0, 0.0, 0.0, 1.0, 0.0, 0.0], 'miniature_pinscher': [0.0, 0.0, 0.0, 0.0, 0.0, 0.0, 0.0, 0.0, 0.0, 0.0, 0.0, 0.0, 0.0, 0.0, 0.0, 0.0, 0.0, 0.0, 1.0, 0.0], 'irish_wolfhound': [0.0, 0.0, 0.0, 0.0, 0.0, 0.0, 0.0, 0.0, 0.0, 0.0, 0.0, 0.0, 0.0, 0.0, 0.0, 0.0, 0.0, 0.0, 0.0, 1.0]}\n"
     ]
    }
   ],
   "source": [
    "#Now to create one hot encoded labels we need to create an array of zeroes\n",
    "def get_encoder(unique_breed_list):\n",
    "    zero_array=np.zeros([20,20])\n",
    "    enc={}\n",
    "    encoded=[[ 1.0 if i==k else 0.0 for i ,eachinside in enumerate(value)] for k,value in enumerate(zero_array)] \n",
    "    for breed,encoding in zip (unique_breed_list,encoded):\n",
    "        enc[breed]= (encoding)\n",
    "    return enc\n",
    "\n",
    "\n",
    "encoder= get_encoder(unique_breeds)\n",
    "print(encoder)"
   ]
  },
  {
   "cell_type": "code",
   "execution_count": 15,
   "metadata": {},
   "outputs": [],
   "source": [
    "def encode_gross(gross_list,unique_list):\n",
    "    encoded_list=[]\n",
    "    \n",
    "    for each in (gross_list):\n",
    "        #print(each)\n",
    "        encoder= get_encoder(unique_list)\n",
    "        enc= encoder[each]\n",
    "        #print(enc)\n",
    "        encoded_list.append(enc)\n",
    "    return encoded_list\n",
    "        #return enc\n",
    "gross_encoded_labels= encode_gross(gross_breed_list,unique_breeds)\n",
    "encoded_labels= gross_encoded_labels\n"
   ]
  },
  {
   "cell_type": "code",
   "execution_count": 16,
   "metadata": {},
   "outputs": [
    {
     "name": "stdout",
     "output_type": "stream",
     "text": [
      "[0.0, 0.0, 0.0, 0.0, 0.0, 0.0, 0.0, 0.0, 0.0, 0.0, 0.0, 0.0, 0.0, 0.0, 0.0, 0.0, 0.0, 1.0, 0.0, 0.0]\n"
     ]
    }
   ],
   "source": [
    "print(encoder[\"blenheim_spaniel\"])"
   ]
  },
  {
   "cell_type": "code",
   "execution_count": 17,
   "metadata": {},
   "outputs": [
    {
     "name": "stdout",
     "output_type": "stream",
     "text": [
      "unique breed label list:   [0, 1, 2, 3, 4, 5, 6, 7, 8, 9, 10, 11, 12, 13, 14, 15, 16, 17, 18, 19]\n"
     ]
    }
   ],
   "source": [
    "unique_breed_label_list= [  each for each in range(len(unique_breeds))]\n",
    "print(\"unique breed label list:  \", unique_breed_label_list)"
   ]
  },
  {
   "cell_type": "code",
   "execution_count": 18,
   "metadata": {},
   "outputs": [
    {
     "name": "stdout",
     "output_type": "stream",
     "text": [
      "resizing started\n",
      "resizing done\n"
     ]
    }
   ],
   "source": [
    "def resize(image_nameslist,height= \"300\",width= \"300\"):\n",
    "    train_dir_path= \"../data/train/\"\n",
    "    resized_image_name_list= []\n",
    "    print(\"resizing started\")\n",
    "    \n",
    "    for ima in image_nameslist:  \n",
    "        path= train_dir_path + ima + \".jpg\"\n",
    "        img= Image.open(path)\n",
    "        resized_image = img.resize((height,width), Image.ANTIALIAS)\n",
    "        resized_image_name_list.append(resized_image)\n",
    "    print(\"resizing done\")\n",
    "    return resized_image_name_list\n",
    "\n",
    "    #img_data= cv2.imread(path)\n",
    "    #print(img_data)\n",
    "    #cv2.imshow(\"image\",img_data)\n",
    "resized_imaname_list= resize(image_name_list,80,80)\n"
   ]
  },
  {
   "cell_type": "code",
   "execution_count": 19,
   "metadata": {},
   "outputs": [
    {
     "data": {
      "image/png": "[encoded data removed]",
      "text/plain": [
       "<PIL.Image.Image image mode=RGB size=80x80 at 0x71875C0>"
      ]
     },
     "execution_count": 19,
     "metadata": {},
     "output_type": "execute_result"
    }
   ],
   "source": [
    "resized_imaname_list[2]"
   ]
  },
  {
   "cell_type": "code",
   "execution_count": 20,
   "metadata": {},
   "outputs": [
    {
     "name": "stdout",
     "output_type": "stream",
     "text": [
      "monochrome conversion started..........\n",
      "conversion done !!!!!\n"
     ]
    },
    {
     "data": {
      "text/plain": [
       "80"
      ]
     },
     "execution_count": 20,
     "metadata": {},
     "output_type": "execute_result"
    }
   ],
   "source": [
    "# convert image into black and white\n",
    "\n",
    "def convert_to_monochrome(resized_imaname_list):\n",
    "    converted_monochrome_image_list=[]\n",
    "    print(\"monochrome conversion started..........\")\n",
    "    #converted_image_list=[]\n",
    "    for eachimage_path in resized_imaname_list:\n",
    "        each_img_data= np.array(eachimage_path)\n",
    "        \n",
    "        image = Image.fromarray(each_img_data)#fromarray take the numpy array as input.\n",
    "        \n",
    "        \n",
    "        converted_image= image.convert('L')\n",
    "        \n",
    "#         print(converted_image)\n",
    "#         print(converted_image[:1])\n",
    "        converted_image= np.array(converted_image)   \n",
    "        \n",
    "        converted_image = np.clip(converted_image/255.0, 0.0, 1.0)\n",
    "        \n",
    "        \n",
    "        \n",
    "        converted_monochrome_image_list.append(converted_image)\n",
    "        \n",
    "    print(\"conversion done !!!!!\")\n",
    "    return converted_monochrome_image_list\n",
    "    \n",
    "\n",
    "monocolor_img_data_list= convert_to_monochrome(resized_imaname_list)\n",
    "len(monocolor_img_data_list[1])"
   ]
  },
  {
   "cell_type": "code",
   "execution_count": 21,
   "metadata": {},
   "outputs": [
    {
     "data": {
      "text/plain": [
       "6400"
      ]
     },
     "execution_count": 21,
     "metadata": {},
     "output_type": "execute_result"
    }
   ],
   "source": [
    "####Flattened images data list\n",
    "\n",
    "flattened_img_data_list= []\n",
    "for index,ima in enumerate(monocolor_img_data_list):\n",
    "    \n",
    "    flattened_img= ima.flatten()\n",
    "    flattened_img= flattened_img.tolist()\n",
    "    \n",
    "    flattened_img_data_list.append(flattened_img)\n",
    "    \n",
    "    \n",
    "len(flattened_img_data_list[1])"
   ]
  },
  {
   "cell_type": "code",
   "execution_count": 22,
   "metadata": {},
   "outputs": [],
   "source": [
    "# Convolutional Layer 1.\n",
    "filter_size1 = 5          # Convolution filters are 5 x 5 pixels.\n",
    "num_filters1 = 16         # There are 16 of these filters.\n",
    "\n",
    "# Convolutional Layer 2.\n",
    "filter_size2 = 5          # Convolution filters are 5 x 5 pixels.\n",
    "num_filters2 = 36         # There are 36 of these filters.\n",
    "\n",
    "# Fully-connected layer.\n",
    "fc_size = 128  "
   ]
  },
  {
   "cell_type": "code",
   "execution_count": 23,
   "metadata": {},
   "outputs": [],
   "source": [
    "# We know that MNIST images are 28 pixels in each dimension.\n",
    "img_size = 80\n",
    "\n",
    "# Images are stored in one-dimensional arrays of this length.\n",
    "img_size_flat = img_size * img_size\n",
    "\n",
    "# Tuple with height and width of images used to reshape arrays.\n",
    "img_shape = (img_size, img_size)\n",
    "\n",
    "# Number of colour channels for the images: 1 channel for gray-scale.\n",
    "num_channels = 1\n",
    "\n",
    "# Number of classes, one class for each of 10 digits.\n",
    "num_classes = 20"
   ]
  },
  {
   "cell_type": "code",
   "execution_count": 27,
   "metadata": {},
   "outputs": [
    {
     "name": "stdout",
     "output_type": "stream",
     "text": [
      "[[1.0, 0.0, 0.0, 0.0, 0.0, 0.0, 0.0, 0.0, 0.0, 0.0, 0.0, 0.0, 0.0, 0.0, 0.0, 0.0, 0.0, 0.0, 0.0, 0.0], [0.0, 1.0, 0.0, 0.0, 0.0, 0.0, 0.0, 0.0, 0.0, 0.0, 0.0, 0.0, 0.0, 0.0, 0.0, 0.0, 0.0, 0.0, 0.0, 0.0]]\n"
     ]
    }
   ],
   "source": [
    "from sklearn.model_selection import train_test_split\n",
    "monocolor_train_images,monocolor_test_images,monocolor_train_label,monocolor_test_label=train_test_split(flattened_img_data_list, encoded_labels, test_size=0.2)\n",
    "# print(\"train_images:\",np.array(monocolor_train_images).shape)\n",
    "# print(\"train labels\",np.array(monocolor_train_label).shape)\n",
    "# print(\"test image:\",np.array(monocolor_test_images).shape)\n",
    "# print(\"test label\", np.array(monocolor_test_label).shape)\n",
    "# monocolor_test_label= np.array(monocolor_test_label)\n",
    "monocolor_test_label_true_cls= np.argmax(monocolor_test_label,axis=1)\n",
    "# monocolor_test_label_true_cls[0:20]\n",
    "print(monocolor_test_label[0:2])\n",
    "#print(monocolor_test_images[1])"
   ]
  },
  {
   "cell_type": "code",
   "execution_count": 32,
   "metadata": {},
   "outputs": [],
   "source": [
    "def plot_images(images, cls_true, cls_pred=None):\n",
    "    assert len(images) == len(cls_true) == 9\n",
    "    images= np.array(images)\n",
    "    \n",
    "    # Create figure with 3x3 sub-plots.\n",
    "    fig, axes = plt.subplots(3, 3)\n",
    "    fig.subplots_adjust(hspace=0.3, wspace=0.3)\n",
    "\n",
    "    for i, ax in enumerate(axes.flat):\n",
    "        # Plot image.\n",
    "        ax.imshow(images[i].reshape(img_shape), cmap='binary')\n",
    "\n",
    "        # Show true and predicted classes.\n",
    "        if cls_pred is None:\n",
    "            xlabel = \"True: {0}\".format(cls_true[i])\n",
    "        else:\n",
    "            xlabel = \"True: {0}, Pred: {1}\".format(cls_true[i], cls_pred[i])\n",
    "\n",
    "        # Show the classes as the label on the x-axis.\n",
    "        ax.set_xlabel(xlabel)\n",
    "        \n",
    "        # Remove ticks from the plot.\n",
    "        ax.set_xticks([])\n",
    "        ax.set_yticks([])\n",
    "    \n",
    "    # Ensure the plot is shown correctly with multiple plots\n",
    "    # in a single Notebook cell.\n",
    "    plt.show()"
   ]
  },
  {
   "cell_type": "code",
   "execution_count": 33,
   "metadata": {
    "scrolled": true
   },
   "outputs": [
    {
     "data": {
      "image/png": "[encoded data removed]",
      "text/plain": [
       "<Figure size 432x288 with 9 Axes>"
      ]
     },
     "metadata": {},
     "output_type": "display_data"
    }
   ],
   "source": [
    "# Get the first images from the test-set.\n",
    "images_test_data = monocolor_test_images[0:9]\n",
    "\n",
    "# Get the true classes for those images.\n",
    "test_true_cls= monocolor_test_label_true_cls[0:9]\n",
    "\n",
    "# Plot the images and labels using our helper-function above.\n",
    "plot_images(images=images_test_data, cls_true=test_true_cls)"
   ]
  },
  {
   "cell_type": "code",
   "execution_count": 34,
   "metadata": {},
   "outputs": [],
   "source": [
    "# our images are of 80 pixels\n",
    "img_size = 80\n",
    "\n",
    "# Images are stored in one-dimensional arrays of this length.\n",
    "img_size_flat = img_size * img_size\n",
    "\n",
    "# Tuple with height and width of images used to reshape arrays.\n",
    "img_shape = (img_size, img_size)\n",
    "\n",
    "#number of colour channels for each breed : 1 because we have converted images into a grey scale image\n",
    "num_channels= 1\n",
    "\n",
    "# Number of classes, one class for each of 20 selected breeds.\n",
    "num_classes = 20\n",
    "\n",
    "#dropout to reduce overfitting\n",
    "dropout= 0.75"
   ]
  },
  {
   "cell_type": "code",
   "execution_count": 35,
   "metadata": {},
   "outputs": [],
   "source": [
    "def new_weights(shape):\n",
    "    return tf.Variable(tf.truncated_normal(shape, stddev=0.05))\n",
    "def new_biases(length):\n",
    "    return tf.Variable(tf.constant(0.05, shape=[length]))"
   ]
  },
  {
   "cell_type": "code",
   "execution_count": 36,
   "metadata": {},
   "outputs": [],
   "source": [
    "def new_conv_layer(input,              # The previous layer.\n",
    "                   num_input_channels, # Num. channels in prev. layer.\n",
    "                   filter_size,        # Width and height of each filter.\n",
    "                   num_filters,        # Number of filters.\n",
    "                   use_pooling=True):  # Use 2x2 max-pooling.\n",
    "\n",
    "    # Shape of the filter-weights for the convolution.\n",
    "    # This format is determined by the TensorFlow API.\n",
    "    shape = [filter_size, filter_size, num_input_channels, num_filters]\n",
    "\n",
    "    # Create new weights aka. filters with the given shape.\n",
    "    weights = new_weights(shape=shape)\n",
    "\n",
    "    # Create new biases, one for each filter.\n",
    "    biases = new_biases(length=num_filters)\n",
    "\n",
    "    # Create the TensorFlow operation for convolution.\n",
    "    # Note the strides are set to 1 in all dimensions.\n",
    "    # The first and last stride must always be 1,\n",
    "    # because the first is for the image-number and\n",
    "    # the last is for the input-channel.\n",
    "    # But e.g. strides=[1, 2, 2, 1] would mean that the filter\n",
    "    # is moved 2 pixels across the x- and y-axis of the image.\n",
    "    # The padding is set to 'SAME' which means the input image\n",
    "    # is padded with zeroes so the size of the output is the same.\n",
    "    layer = tf.nn.conv2d(input=input,\n",
    "                         filter=weights,\n",
    "                         strides=[1, 1, 1, 1],\n",
    "                         padding='SAME')\n",
    "\n",
    "    # Add the biases to the results of the convolution.\n",
    "    # A bias-value is added to each filter-channel.\n",
    "    layer += biases\n",
    "\n",
    "    # Use pooling to down-sample the image resolution?\n",
    "    if use_pooling:\n",
    "        # This is 2x2 max-pooling, which means that we\n",
    "        # consider 2x2 windows and select the largest value\n",
    "        # in each window. Then we move 2 pixels to the next window.\n",
    "        layer = tf.nn.max_pool(value=layer,\n",
    "                               ksize=[1, 2, 2, 1],\n",
    "                               strides=[1, 2, 2, 1],\n",
    "                               padding='SAME')\n",
    "\n",
    "    # Rectified Linear Unit (ReLU).\n",
    "    # It calculates max(x, 0) for each input pixel x.\n",
    "    # This adds some non-linearity to the formula and allows us\n",
    "    # to learn more complicated functions.\n",
    "    layer = tf.nn.relu(layer)\n",
    "\n",
    "    # Note that ReLU is normally executed before the pooling,\n",
    "    # but since relu(max_pool(x)) == max_pool(relu(x)) we can\n",
    "    # save 75% of the relu-operations by max-pooling first.\n",
    "\n",
    "    # We return both the resulting layer and the filter-weights\n",
    "    # because we will plot the weights later.\n",
    "    return layer, weights"
   ]
  },
  {
   "cell_type": "code",
   "execution_count": 37,
   "metadata": {},
   "outputs": [],
   "source": [
    "def flatten_layer(layer):\n",
    "    # Get the shape of the input layer.\n",
    "    layer_shape = layer.get_shape()\n",
    "\n",
    "    # The shape of the input layer is assumed to be:\n",
    "    # layer_shape == [num_images, img_height, img_width, num_channels]\n",
    "\n",
    "    # The number of features is: img_height * img_width * num_channels\n",
    "    # We can use a function from TensorFlow to calculate this.\n",
    "    num_features = layer_shape[1:4].num_elements()\n",
    "    \n",
    "    # Reshape the layer to [num_images, num_features].\n",
    "    # Note that we just set the size of the second dimension\n",
    "    # to num_features and the size of the first dimension to -1\n",
    "    # which means the size in that dimension is calculated\n",
    "    # so the total size of the tensor is unchanged from the reshaping.\n",
    "    layer_flat = tf.reshape(layer, [-1, num_features])\n",
    "\n",
    "    # The shape of the flattened layer is now:\n",
    "    # [num_images, img_height * img_width * num_channels]\n",
    "\n",
    "    # Return both the flattened layer and the number of features.\n",
    "    return layer_flat, num_features"
   ]
  },
  {
   "cell_type": "code",
   "execution_count": 38,
   "metadata": {},
   "outputs": [],
   "source": [
    "def new_fc_layer(input,          # The previous layer.\n",
    "                 num_inputs,     # Num. inputs from prev. layer.\n",
    "                 num_outputs,    # Num. outputs.\n",
    "                 use_relu=True): # Use Rectified Linear Unit (ReLU)?\n",
    "\n",
    "    # Create new weights and biases.\n",
    "    weights = new_weights(shape=[num_inputs, num_outputs])\n",
    "    biases = new_biases(length=num_outputs)\n",
    "\n",
    "    # Calculate the layer as the matrix multiplication of\n",
    "    # the input and weights, and then add the bias-values.\n",
    "    layer = tf.matmul(input, weights) + biases\n",
    "\n",
    "    # Use ReLU?\n",
    "    if use_relu:\n",
    "        layer = tf.nn.relu(layer)\n",
    "\n",
    "    return layer"
   ]
  },
  {
   "cell_type": "code",
   "execution_count": 39,
   "metadata": {},
   "outputs": [],
   "source": [
    "input_tensor = tf.placeholder(tf.float32, shape=[None, img_size_flat], name='input_tensor')"
   ]
  },
  {
   "cell_type": "code",
   "execution_count": 40,
   "metadata": {},
   "outputs": [],
   "source": [
    "reshaped_input_tensor = tf.reshape(input_tensor, [-1, img_size, img_size, num_channels])"
   ]
  },
  {
   "cell_type": "code",
   "execution_count": 41,
   "metadata": {},
   "outputs": [],
   "source": [
    "label_tensor = tf.placeholder(tf.float32, shape=[None, num_classes], name='label_tensor')"
   ]
  },
  {
   "cell_type": "code",
   "execution_count": 42,
   "metadata": {},
   "outputs": [],
   "source": [
    "label_tensor_true_cls = tf.argmax(label_tensor, axis=1)"
   ]
  },
  {
   "cell_type": "code",
   "execution_count": 43,
   "metadata": {},
   "outputs": [],
   "source": [
    "layer_conv1, weights_conv1 = \\\n",
    "    new_conv_layer(input=reshaped_input_tensor,\n",
    "                   num_input_channels=num_channels,\n",
    "                   filter_size=filter_size1,\n",
    "                   num_filters=num_filters1,\n",
    "                   use_pooling=True)"
   ]
  },
  {
   "cell_type": "code",
   "execution_count": 44,
   "metadata": {},
   "outputs": [
    {
     "data": {
      "text/plain": [
       "<tf.Tensor 'Relu:0' shape=(?, 40, 40, 16) dtype=float32>"
      ]
     },
     "execution_count": 44,
     "metadata": {},
     "output_type": "execute_result"
    }
   ],
   "source": [
    "layer_conv1"
   ]
  },
  {
   "cell_type": "code",
   "execution_count": 45,
   "metadata": {},
   "outputs": [],
   "source": [
    "layer_conv2, weights_conv2 = \\\n",
    "    new_conv_layer(input=layer_conv1,\n",
    "                   num_input_channels=num_filters1,\n",
    "                   filter_size=filter_size2,\n",
    "                   num_filters=num_filters2,\n",
    "                   use_pooling=True)"
   ]
  },
  {
   "cell_type": "code",
   "execution_count": 46,
   "metadata": {},
   "outputs": [
    {
     "data": {
      "text/plain": [
       "<tf.Tensor 'Relu_1:0' shape=(?, 20, 20, 36) dtype=float32>"
      ]
     },
     "execution_count": 46,
     "metadata": {},
     "output_type": "execute_result"
    }
   ],
   "source": [
    "layer_conv2"
   ]
  },
  {
   "cell_type": "code",
   "execution_count": 47,
   "metadata": {},
   "outputs": [],
   "source": [
    "layer_flat, num_features = flatten_layer(layer_conv2)"
   ]
  },
  {
   "cell_type": "code",
   "execution_count": 48,
   "metadata": {},
   "outputs": [
    {
     "data": {
      "text/plain": [
       "<tf.Tensor 'Reshape_1:0' shape=(?, 14400) dtype=float32>"
      ]
     },
     "execution_count": 48,
     "metadata": {},
     "output_type": "execute_result"
    }
   ],
   "source": [
    "layer_flat"
   ]
  },
  {
   "cell_type": "code",
   "execution_count": 49,
   "metadata": {},
   "outputs": [
    {
     "data": {
      "text/plain": [
       "14400"
      ]
     },
     "execution_count": 49,
     "metadata": {},
     "output_type": "execute_result"
    }
   ],
   "source": [
    "num_features"
   ]
  },
  {
   "cell_type": "code",
   "execution_count": 50,
   "metadata": {},
   "outputs": [],
   "source": [
    "layer_fc1 = new_fc_layer(input=layer_flat,\n",
    "                         num_inputs=num_features,\n",
    "                         num_outputs=fc_size,\n",
    "                         use_relu=True)"
   ]
  },
  {
   "cell_type": "code",
   "execution_count": 51,
   "metadata": {},
   "outputs": [
    {
     "data": {
      "text/plain": [
       "<tf.Tensor 'Relu_2:0' shape=(?, 128) dtype=float32>"
      ]
     },
     "execution_count": 51,
     "metadata": {},
     "output_type": "execute_result"
    }
   ],
   "source": [
    "layer_fc1"
   ]
  },
  {
   "cell_type": "code",
   "execution_count": 52,
   "metadata": {},
   "outputs": [],
   "source": [
    "layer_fc2 = new_fc_layer(input=layer_fc1,\n",
    "                         num_inputs=fc_size,\n",
    "                         num_outputs=num_classes,\n",
    "                         use_relu=False)"
   ]
  },
  {
   "cell_type": "code",
   "execution_count": 53,
   "metadata": {},
   "outputs": [
    {
     "data": {
      "text/plain": [
       "<tf.Tensor 'add_3:0' shape=(?, 20) dtype=float32>"
      ]
     },
     "execution_count": 53,
     "metadata": {},
     "output_type": "execute_result"
    }
   ],
   "source": [
    "layer_fc2"
   ]
  },
  {
   "cell_type": "code",
   "execution_count": 54,
   "metadata": {},
   "outputs": [],
   "source": [
    "prediction = tf.nn.softmax(layer_fc2)"
   ]
  },
  {
   "cell_type": "code",
   "execution_count": 55,
   "metadata": {},
   "outputs": [],
   "source": [
    "prediction_cls = tf.argmax(prediction, axis=1)"
   ]
  },
  {
   "cell_type": "code",
   "execution_count": 56,
   "metadata": {},
   "outputs": [],
   "source": [
    "cross_entropy = tf.nn.softmax_cross_entropy_with_logits(logits=layer_fc2,\n",
    "                                                        labels=label_tensor)"
   ]
  },
  {
   "cell_type": "code",
   "execution_count": 57,
   "metadata": {},
   "outputs": [],
   "source": [
    "loss = tf.reduce_mean(cross_entropy)"
   ]
  },
  {
   "cell_type": "code",
   "execution_count": 58,
   "metadata": {},
   "outputs": [],
   "source": [
    "optimizer = tf.train.AdamOptimizer(learning_rate=1e-4).minimize(loss)"
   ]
  },
  {
   "cell_type": "code",
   "execution_count": 59,
   "metadata": {},
   "outputs": [],
   "source": [
    "correct_prediction = tf.equal(prediction_cls, label_tensor_true_cls)"
   ]
  },
  {
   "cell_type": "code",
   "execution_count": 60,
   "metadata": {},
   "outputs": [],
   "source": [
    "accuracy = tf.reduce_mean(tf.cast(correct_prediction, tf.float32))"
   ]
  },
  {
   "cell_type": "code",
   "execution_count": 61,
   "metadata": {},
   "outputs": [],
   "source": [
    "session = tf.Session()\n",
    "session.run(tf.global_variables_initializer())"
   ]
  },
  {
   "cell_type": "code",
   "execution_count": 64,
   "metadata": {},
   "outputs": [],
   "source": [
    "def next_batch(batch_size, imgdata, imglabels):\n",
    "    '''\n",
    "    Return a total of `batch_size` random samples and labels. \n",
    "    '''\n",
    "    idx = np.arange(0 , len(imgdata))\n",
    "    np.random.shuffle(idx)\n",
    "    idx = idx[:batch_size]\n",
    "    imgdata_shuffle = [imgdata[i] for i in idx]\n",
    "    imglabels_shuffle = [imglabels[i] for i in idx]\n",
    "\n",
    "    return np.asarray(imgdata_shuffle), np.asarray(imglabels_shuffle)"
   ]
  },
  {
   "cell_type": "code",
   "execution_count": 65,
   "metadata": {},
   "outputs": [],
   "source": [
    "# def get_batch(batch_size,train_label,train_images):\n",
    "\n",
    "#     batched_img_datalist= []\n",
    "#     batched_label_list= []\n",
    "#     if len(train_images)== len(train_label):\n",
    "#         total_batches= len(train_images)//batch_size\n",
    "#         for i in range(total_batches):\n",
    "#             start= i*batch_size\n",
    "#             end= start+batch_size\n",
    "        \n",
    "#             batched_img_datalist.append(train_images[start:end])\n",
    "#             batched_label_list.append(train_label[start:end])\n",
    "           \n",
    "    \n",
    "#     return batched_img_datalist,batched_label_list\n",
    "    \n",
    "\n",
    "# batched_monocolor_image_data_andlabel_list= get_batch(9,monocolor_train_label,monocolor_train_images)\n",
    "# print(np.array(batched_monocolor_image_data_andlabel_list[0]) .shape)\n",
    "# print(np.array(batched_monocolor_image_data_andlabel_list[1]).shape)\n",
    "# #print(len(batched_monocolor_image_data_andlabel_list[0][0]))"
   ]
  },
  {
   "cell_type": "code",
   "execution_count": 68,
   "metadata": {},
   "outputs": [],
   "source": [
    "# Counter for total number of iterations performed so far.\n",
    "total_iterations = 0\n",
    "\n",
    "def optimize(num_iterations):\n",
    "    # Ensure we update the global variable rather than a local copy.\n",
    "    global total_iterations\n",
    "\n",
    "    for i in range(total_iterations,\n",
    "                   total_iterations + num_iterations):\n",
    "\n",
    "        # Get a batch of training examples.\n",
    "        # batch_images_data now holds a batch of images and\n",
    "        # images_label are the true labels for those images.\n",
    "        batch_images_data,images_label= next_batch(9,monocolor_train_images,monocolor_train_label)\n",
    "        \n",
    "\n",
    "        # Put the batch into a dict with the proper names\n",
    "        # for placeholder variables in the TensorFlow graph.\n",
    "        feed_dict_train = {input_tensor: batch_images_data,\n",
    "                           label_tensor: images_label}\n",
    "\n",
    "        # Run the optimizer using this batch of training data.\n",
    "        # TensorFlow assigns the variables in feed_dict_train\n",
    "        # to the placeholder variables and then runs the optimizer.\n",
    "        session.run(optimizer, feed_dict=feed_dict_train)\n",
    "\n",
    "        # Print status every 100 iterations.\n",
    "        if i % 100 == 0:\n",
    "            # Calculate the accuracy on the training-set.\n",
    "            acc = session.run(accuracy, feed_dict=feed_dict_train)\n",
    "\n",
    "            # Message for printing.\n",
    "            msg = \"Optimization Iteration: {0:>6}, Training Accuracy: {1:>6.1%}\"\n",
    "\n",
    "            # Print it.\n",
    "            print(msg.format(i + 1, acc))\n",
    "\n",
    "    # Update the total number of iterations performed.\n",
    "    total_iterations += num_iterations"
   ]
  },
  {
   "cell_type": "code",
   "execution_count": 71,
   "metadata": {},
   "outputs": [
    {
     "name": "stdout",
     "output_type": "stream",
     "text": [
      "Optimization Iteration:      1, Training Accuracy:   0.0%\n",
      "Optimization Iteration:    101, Training Accuracy:   0.0%\n",
      "Optimization Iteration:    201, Training Accuracy:   0.0%\n",
      "Optimization Iteration:    301, Training Accuracy:   0.0%\n",
      "Optimization Iteration:    401, Training Accuracy:   0.0%\n",
      "Optimization Iteration:    501, Training Accuracy:   0.0%\n",
      "Optimization Iteration:    601, Training Accuracy:  11.1%\n",
      "Optimization Iteration:    701, Training Accuracy:  11.1%\n",
      "Optimization Iteration:    801, Training Accuracy:  11.1%\n",
      "Optimization Iteration:    901, Training Accuracy:  22.2%\n",
      "Optimization Iteration:   1001, Training Accuracy:  11.1%\n",
      "Optimization Iteration:   1101, Training Accuracy:  11.1%\n",
      "Optimization Iteration:   1201, Training Accuracy:  22.2%\n",
      "Optimization Iteration:   1301, Training Accuracy:   0.0%\n",
      "Optimization Iteration:   1401, Training Accuracy:  33.3%\n",
      "Optimization Iteration:   1501, Training Accuracy:  33.3%\n",
      "Optimization Iteration:   1601, Training Accuracy:  11.1%\n",
      "Optimization Iteration:   1701, Training Accuracy:  22.2%\n",
      "Optimization Iteration:   1801, Training Accuracy:  33.3%\n",
      "Optimization Iteration:   1901, Training Accuracy:  11.1%\n",
      "Optimization Iteration:   2001, Training Accuracy:  44.4%\n"
     ]
    },
    {
     "ename": "KeyboardInterrupt",
     "evalue": "",
     "output_type": "error",
     "traceback": [
      "\u001b[1;31m---------------------------------------------------------------------------\u001b[0m",
      "\u001b[1;31mKeyboardInterrupt\u001b[0m                         Traceback (most recent call last)",
      "\u001b[1;32m<ipython-input-71-ecdcfbc55028>\u001b[0m in \u001b[0;36m<module>\u001b[1;34m()\u001b[0m\n\u001b[1;32m----> 1\u001b[1;33m \u001b[0moptimize\u001b[0m\u001b[1;33m(\u001b[0m\u001b[0mnum_iterations\u001b[0m\u001b[1;33m=\u001b[0m\u001b[1;36m3000\u001b[0m\u001b[1;33m)\u001b[0m\u001b[1;33m\u001b[0m\u001b[0m\n\u001b[0m",
      "\u001b[1;32m<ipython-input-68-dc5702478222>\u001b[0m in \u001b[0;36moptimize\u001b[1;34m(num_iterations)\u001b[0m\n\u001b[0;32m     23\u001b[0m         \u001b[1;31m# TensorFlow assigns the variables in feed_dict_train\u001b[0m\u001b[1;33m\u001b[0m\u001b[1;33m\u001b[0m\u001b[0m\n\u001b[0;32m     24\u001b[0m         \u001b[1;31m# to the placeholder variables and then runs the optimizer.\u001b[0m\u001b[1;33m\u001b[0m\u001b[1;33m\u001b[0m\u001b[0m\n\u001b[1;32m---> 25\u001b[1;33m         \u001b[0msession\u001b[0m\u001b[1;33m.\u001b[0m\u001b[0mrun\u001b[0m\u001b[1;33m(\u001b[0m\u001b[0moptimizer\u001b[0m\u001b[1;33m,\u001b[0m \u001b[0mfeed_dict\u001b[0m\u001b[1;33m=\u001b[0m\u001b[0mfeed_dict_train\u001b[0m\u001b[1;33m)\u001b[0m\u001b[1;33m\u001b[0m\u001b[0m\n\u001b[0m\u001b[0;32m     26\u001b[0m \u001b[1;33m\u001b[0m\u001b[0m\n\u001b[0;32m     27\u001b[0m         \u001b[1;31m# Print status every 100 iterations.\u001b[0m\u001b[1;33m\u001b[0m\u001b[1;33m\u001b[0m\u001b[0m\n",
      "\u001b[1;32mc:\\users\\shilpa\\appdata\\local\\programs\\python\\python36\\lib\\site-packages\\tensorflow\\python\\client\\session.py\u001b[0m in \u001b[0;36mrun\u001b[1;34m(self, fetches, feed_dict, options, run_metadata)\u001b[0m\n\u001b[0;32m    893\u001b[0m     \u001b[1;32mtry\u001b[0m\u001b[1;33m:\u001b[0m\u001b[1;33m\u001b[0m\u001b[0m\n\u001b[0;32m    894\u001b[0m       result = self._run(None, fetches, feed_dict, options_ptr,\n\u001b[1;32m--> 895\u001b[1;33m                          run_metadata_ptr)\n\u001b[0m\u001b[0;32m    896\u001b[0m       \u001b[1;32mif\u001b[0m \u001b[0mrun_metadata\u001b[0m\u001b[1;33m:\u001b[0m\u001b[1;33m\u001b[0m\u001b[0m\n\u001b[0;32m    897\u001b[0m         \u001b[0mproto_data\u001b[0m \u001b[1;33m=\u001b[0m \u001b[0mtf_session\u001b[0m\u001b[1;33m.\u001b[0m\u001b[0mTF_GetBuffer\u001b[0m\u001b[1;33m(\u001b[0m\u001b[0mrun_metadata_ptr\u001b[0m\u001b[1;33m)\u001b[0m\u001b[1;33m\u001b[0m\u001b[0m\n",
      "\u001b[1;32mc:\\users\\shilpa\\appdata\\local\\programs\\python\\python36\\lib\\site-packages\\tensorflow\\python\\client\\session.py\u001b[0m in \u001b[0;36m_run\u001b[1;34m(self, handle, fetches, feed_dict, options, run_metadata)\u001b[0m\n\u001b[0;32m   1122\u001b[0m     \u001b[1;32mif\u001b[0m \u001b[0mfinal_fetches\u001b[0m \u001b[1;32mor\u001b[0m \u001b[0mfinal_targets\u001b[0m \u001b[1;32mor\u001b[0m \u001b[1;33m(\u001b[0m\u001b[0mhandle\u001b[0m \u001b[1;32mand\u001b[0m \u001b[0mfeed_dict_tensor\u001b[0m\u001b[1;33m)\u001b[0m\u001b[1;33m:\u001b[0m\u001b[1;33m\u001b[0m\u001b[0m\n\u001b[0;32m   1123\u001b[0m       results = self._do_run(handle, final_targets, final_fetches,\n\u001b[1;32m-> 1124\u001b[1;33m                              feed_dict_tensor, options, run_metadata)\n\u001b[0m\u001b[0;32m   1125\u001b[0m     \u001b[1;32melse\u001b[0m\u001b[1;33m:\u001b[0m\u001b[1;33m\u001b[0m\u001b[0m\n\u001b[0;32m   1126\u001b[0m       \u001b[0mresults\u001b[0m \u001b[1;33m=\u001b[0m \u001b[1;33m[\u001b[0m\u001b[1;33m]\u001b[0m\u001b[1;33m\u001b[0m\u001b[0m\n",
      "\u001b[1;32mc:\\users\\shilpa\\appdata\\local\\programs\\python\\python36\\lib\\site-packages\\tensorflow\\python\\client\\session.py\u001b[0m in \u001b[0;36m_do_run\u001b[1;34m(self, handle, target_list, fetch_list, feed_dict, options, run_metadata)\u001b[0m\n\u001b[0;32m   1319\u001b[0m     \u001b[1;32mif\u001b[0m \u001b[0mhandle\u001b[0m \u001b[1;32mis\u001b[0m \u001b[1;32mNone\u001b[0m\u001b[1;33m:\u001b[0m\u001b[1;33m\u001b[0m\u001b[0m\n\u001b[0;32m   1320\u001b[0m       return self._do_call(_run_fn, self._session, feeds, fetches, targets,\n\u001b[1;32m-> 1321\u001b[1;33m                            options, run_metadata)\n\u001b[0m\u001b[0;32m   1322\u001b[0m     \u001b[1;32melse\u001b[0m\u001b[1;33m:\u001b[0m\u001b[1;33m\u001b[0m\u001b[0m\n\u001b[0;32m   1323\u001b[0m       \u001b[1;32mreturn\u001b[0m \u001b[0mself\u001b[0m\u001b[1;33m.\u001b[0m\u001b[0m_do_call\u001b[0m\u001b[1;33m(\u001b[0m\u001b[0m_prun_fn\u001b[0m\u001b[1;33m,\u001b[0m \u001b[0mself\u001b[0m\u001b[1;33m.\u001b[0m\u001b[0m_session\u001b[0m\u001b[1;33m,\u001b[0m \u001b[0mhandle\u001b[0m\u001b[1;33m,\u001b[0m \u001b[0mfeeds\u001b[0m\u001b[1;33m,\u001b[0m \u001b[0mfetches\u001b[0m\u001b[1;33m)\u001b[0m\u001b[1;33m\u001b[0m\u001b[0m\n",
      "\u001b[1;32mc:\\users\\shilpa\\appdata\\local\\programs\\python\\python36\\lib\\site-packages\\tensorflow\\python\\client\\session.py\u001b[0m in \u001b[0;36m_do_call\u001b[1;34m(self, fn, *args)\u001b[0m\n\u001b[0;32m   1325\u001b[0m   \u001b[1;32mdef\u001b[0m \u001b[0m_do_call\u001b[0m\u001b[1;33m(\u001b[0m\u001b[0mself\u001b[0m\u001b[1;33m,\u001b[0m \u001b[0mfn\u001b[0m\u001b[1;33m,\u001b[0m \u001b[1;33m*\u001b[0m\u001b[0margs\u001b[0m\u001b[1;33m)\u001b[0m\u001b[1;33m:\u001b[0m\u001b[1;33m\u001b[0m\u001b[0m\n\u001b[0;32m   1326\u001b[0m     \u001b[1;32mtry\u001b[0m\u001b[1;33m:\u001b[0m\u001b[1;33m\u001b[0m\u001b[0m\n\u001b[1;32m-> 1327\u001b[1;33m       \u001b[1;32mreturn\u001b[0m \u001b[0mfn\u001b[0m\u001b[1;33m(\u001b[0m\u001b[1;33m*\u001b[0m\u001b[0margs\u001b[0m\u001b[1;33m)\u001b[0m\u001b[1;33m\u001b[0m\u001b[0m\n\u001b[0m\u001b[0;32m   1328\u001b[0m     \u001b[1;32mexcept\u001b[0m \u001b[0merrors\u001b[0m\u001b[1;33m.\u001b[0m\u001b[0mOpError\u001b[0m \u001b[1;32mas\u001b[0m \u001b[0me\u001b[0m\u001b[1;33m:\u001b[0m\u001b[1;33m\u001b[0m\u001b[0m\n\u001b[0;32m   1329\u001b[0m       \u001b[0mmessage\u001b[0m \u001b[1;33m=\u001b[0m \u001b[0mcompat\u001b[0m\u001b[1;33m.\u001b[0m\u001b[0mas_text\u001b[0m\u001b[1;33m(\u001b[0m\u001b[0me\u001b[0m\u001b[1;33m.\u001b[0m\u001b[0mmessage\u001b[0m\u001b[1;33m)\u001b[0m\u001b[1;33m\u001b[0m\u001b[0m\n",
      "\u001b[1;32mc:\\users\\shilpa\\appdata\\local\\programs\\python\\python36\\lib\\site-packages\\tensorflow\\python\\client\\session.py\u001b[0m in \u001b[0;36m_run_fn\u001b[1;34m(session, feed_dict, fetch_list, target_list, options, run_metadata)\u001b[0m\n\u001b[0;32m   1304\u001b[0m           return tf_session.TF_Run(session, options,\n\u001b[0;32m   1305\u001b[0m                                    \u001b[0mfeed_dict\u001b[0m\u001b[1;33m,\u001b[0m \u001b[0mfetch_list\u001b[0m\u001b[1;33m,\u001b[0m \u001b[0mtarget_list\u001b[0m\u001b[1;33m,\u001b[0m\u001b[1;33m\u001b[0m\u001b[0m\n\u001b[1;32m-> 1306\u001b[1;33m                                    status, run_metadata)\n\u001b[0m\u001b[0;32m   1307\u001b[0m \u001b[1;33m\u001b[0m\u001b[0m\n\u001b[0;32m   1308\u001b[0m     \u001b[1;32mdef\u001b[0m \u001b[0m_prun_fn\u001b[0m\u001b[1;33m(\u001b[0m\u001b[0msession\u001b[0m\u001b[1;33m,\u001b[0m \u001b[0mhandle\u001b[0m\u001b[1;33m,\u001b[0m \u001b[0mfeed_dict\u001b[0m\u001b[1;33m,\u001b[0m \u001b[0mfetch_list\u001b[0m\u001b[1;33m)\u001b[0m\u001b[1;33m:\u001b[0m\u001b[1;33m\u001b[0m\u001b[0m\n",
      "\u001b[1;31mKeyboardInterrupt\u001b[0m: "
     ]
    }
   ],
   "source": [
    "optimize(num_iterations=3000)"
   ]
  },
  {
   "cell_type": "code",
   "execution_count": 155,
   "metadata": {},
   "outputs": [],
   "source": [
    "def plot_example_errors(cls_pred, correct):\n",
    "    # This function is called from print_test_accuracy() below.\n",
    "\n",
    "    # cls_pred is an array of the predicted class-number for\n",
    "    # all images in the test-set.\n",
    "\n",
    "    # correct is a boolean array whether the predicted class\n",
    "    # is equal to the true class for each image in the test-set.\n",
    "\n",
    "    # Negate the boolean array.\n",
    "    incorrect = (correct == False)\n",
    "    \n",
    "    # Get the images from the test-set that have been\n",
    "    # incorrectly classified.\n",
    "    test_images_data = monocolor_test_images[incorrect]\n",
    "    \n",
    "    # Get the predicted classes for those images.\n",
    "    prediction_cls = prediction_cls[incorrect]\n",
    "\n",
    "    # Get the true classes for those images.\n",
    "    test_true_cls = monocolor_test_label_true_cls[incorrect]\n",
    "    \n",
    "    # Plot the first 9 images.\n",
    "    plot_images(images=test_images_data[0:9],\n",
    "                cls_true=test_true_cls[0:9],\n",
    "                cls_pred=prediction_cls[0:9])"
   ]
  },
  {
   "cell_type": "code",
   "execution_count": 156,
   "metadata": {},
   "outputs": [],
   "source": [
    "def plot_confusion_matrix(cls_pred):\n",
    "    # This is called from print_test_accuracy() below.\n",
    "\n",
    "    # cls_pred is an array of the predicted class-number for\n",
    "    # all images in the test-set.\n",
    "\n",
    "    # Get the true classifications for the test-set.\n",
    "    cls_true = monocolor_test_label_true_cls\n",
    "    \n",
    "    # Get the confusion matrix using sklearn.\n",
    "    cm = confusion_matrix(label_tensor=cls_true,\n",
    "                          cls_pred=prediction_cls)\n",
    "\n",
    "    # Print the confusion matrix as text.\n",
    "    print(cm)\n",
    "\n",
    "    # Plot the confusion matrix as an image.\n",
    "    plt.matshow(cm)\n",
    "\n",
    "    # Make various adjustments to the plot.\n",
    "    plt.colorbar()\n",
    "    tick_marks = np.arange(num_classes)\n",
    "    plt.xticks(tick_marks, range(num_classes))\n",
    "    plt.yticks(tick_marks, range(num_classes))\n",
    "    plt.xlabel('Predicted')\n",
    "    plt.ylabel('True')\n",
    "\n",
    "    # Ensure the plot is shown correctly with multiple plots\n",
    "    # in a single Notebook cell.\n",
    "    plt.show()"
   ]
  },
  {
   "cell_type": "code",
   "execution_count": 157,
   "metadata": {},
   "outputs": [
    {
     "name": "stdout",
     "output_type": "stream",
     "text": [
      "Optimization Iteration:      1, Training Accuracy:  22.2%\n"
     ]
    }
   ],
   "source": [
    "optimize(num_iterations=1)"
   ]
  },
  {
   "cell_type": "code",
   "execution_count": 161,
   "metadata": {},
   "outputs": [],
   "source": [
    "# # Split the test-set into smaller batches of this size.\n",
    "# test_batch_size = 9\n",
    "\n",
    "# def print_test_accuracy(show_example_errors=False,\n",
    "#                         show_confusion_matrix=False):\n",
    "\n",
    "#     # Number of images in the test-set.\n",
    "#     num_test = len(monocolor_test_images)\n",
    "\n",
    "#     # Allocate an array for the predicted classes which\n",
    "#     # will be calculated in batches and filled into this array.\n",
    "#     cls_pred = np.zeros(shape=num_test, dtype=np.int)\n",
    "\n",
    "#     # Now calculate the predicted classes for the batches.\n",
    "#     # We will just iterate through all the batches.\n",
    "#     # There might be a more clever and Pythonic way of doing this.\n",
    "\n",
    "#     # The starting index for the next batch is denoted i.\n",
    "#     i = 0\n",
    "\n",
    "#     while i < num_test:\n",
    "#         # The ending index for the next batch is denoted j.\n",
    "#         j = min(i + test_batch_size, num_test)\n",
    "\n",
    "#         # Get the images from the test-set between index i and j.\n",
    "#         test_images = (monocolor_test_images)[i:j][:]\n",
    "        \n",
    "        \n",
    "\n",
    "#         # Get the associated labels.\n",
    "#         test_labels = monocolor_test_label[i:j][:]\n",
    "        \n",
    "\n",
    "#         # Create a feed-dict with these images and labels.\n",
    "#         feed_dict = {input_tensor: test_images,\n",
    "#                      label_tensor: test_labels}\n",
    "\n",
    "#         # Calculate the predicted class using TensorFlow.\n",
    "#         prediction_cls[i:j] = session.run(prediction_cls, feed_dict=feed_dict)\n",
    "\n",
    "# #         # Set the start-index for the next batch to the\n",
    "# #         # end-index of the current batch.\n",
    "# #         i = j\n",
    "\n",
    "# #     # Convenience variable for the true class-numbers of the test-set.\n",
    "# #     cls_true = monocolor_test_label_true_cls\n",
    "\n",
    "# #     # Create a boolean array whether each image is correctly classified.\n",
    "# #     correct = (cls_true == prediction_cls)\n",
    "\n",
    "# #     # Calculate the number of correctly classified images.\n",
    "# #     # When summing a boolean array, False means 0 and True means 1.\n",
    "# #     correct_sum = correct.sum()\n",
    "\n",
    "# #     # Classification accuracy is the number of correctly classified\n",
    "# #     # images divided by the total number of images in the test-set.\n",
    "# #     acc = float(correct_sum) / num_test\n",
    "\n",
    "# #     # Print the accuracy.\n",
    "# #     msg = \"Accuracy on Test-Set: {0:.1%} ({1} / {2})\"\n",
    "# #     print(msg.format(acc, correct_sum, num_test))\n",
    "\n",
    "# #     # Plot some examples of mis-classifications, if desired.\n",
    "# #     if show_example_errors:\n",
    "# #         print(\"Example errors:\")\n",
    "# #         plot_example_errors(cls_pred=prediction_cls, correct=correct)\n",
    "\n",
    "# #     # Plot the confusion matrix, if desired.\n",
    "# #     if show_confusion_matrix:\n",
    "# #         print(\"Confusion Matrix:\")\n",
    "# #         plot_confusion_matrix(cls_pred=prediction_cls)"
   ]
  },
  {
   "cell_type": "code",
   "execution_count": 167,
   "metadata": {},
   "outputs": [
    {
     "name": "stdout",
     "output_type": "stream",
     "text": [
      "437\n",
      "[array([0.56078431, 0.56862745, 0.57647059, ..., 0.14509804, 0.19215686,\n",
      "       0.14117647]), array([0.27058824, 0.26666667, 0.07843137, ..., 0.35294118, 0.45490196,\n",
      "       0.49803922]), array([0.01960784, 0.03137255, 0.04705882, ..., 0.        , 0.        ,\n",
      "       0.        ]), array([0.90196078, 0.90196078, 0.90196078, ..., 0.31372549, 0.31764706,\n",
      "       0.3372549 ]), array([0.46666667, 0.45098039, 0.43137255, ..., 0.46666667, 0.45098039,\n",
      "       0.39607843]), array([0.70588235, 0.69803922, 0.64313725, ..., 0.64313725, 0.74509804,\n",
      "       0.56078431]), array([0.85882353, 0.85882353, 0.87058824, ..., 0.34509804, 0.35294118,\n",
      "       0.42352941]), array([0.57254902, 0.49411765, 0.54509804, ..., 0.28627451, 0.28235294,\n",
      "       0.25490196]), array([0.54901961, 0.54901961, 0.55294118, ..., 0.49019608, 0.50196078,\n",
      "       0.49803922]), array([0.29019608, 0.04313725, 0.0745098 , ..., 0.48235294, 0.46666667,\n",
      "       0.4745098 ]), array([0.36470588, 0.36862745, 0.30980392, ..., 0.19607843, 0.29019608,\n",
      "       0.19215686]), array([0.16862745, 0.18823529, 0.16862745, ..., 0.69019608, 0.67843137,\n",
      "       0.67058824]), array([0.61960784, 0.60784314, 0.61960784, ..., 0.90980392, 0.89411765,\n",
      "       0.89019608]), array([0.3254902 , 0.34509804, 0.35294118, ..., 0.2745098 , 0.30588235,\n",
      "       0.3254902 ]), array([0.91764706, 0.91764706, 0.91764706, ..., 0.3254902 , 0.30588235,\n",
      "       0.32941176]), array([0.54901961, 0.54117647, 0.4745098 , ..., 0.38431373, 0.39215686,\n",
      "       0.40784314]), array([0.2627451 , 0.18431373, 0.14509804, ..., 0.63921569, 0.59607843,\n",
      "       0.56078431]), array([0.23137255, 0.25490196, 0.27843137, ..., 0.80784314, 0.89019608,\n",
      "       0.64313725]), array([0.3372549 , 0.32156863, 0.32156863, ..., 0.59607843, 0.45098039,\n",
      "       0.41568627]), array([0.17254902, 0.38823529, 0.61568627, ..., 0.53333333, 0.5254902 ,\n",
      "       0.49411765]), array([0.39607843, 0.56470588, 0.46666667, ..., 0.58823529, 0.61176471,\n",
      "       0.56470588]), array([0.41568627, 0.41568627, 0.43137255, ..., 0.49411765, 0.47058824,\n",
      "       0.65882353]), array([0.88627451, 0.88627451, 0.89411765, ..., 0.45490196, 0.31764706,\n",
      "       0.2745098 ]), array([0.19607843, 0.17647059, 0.2       , ..., 0.16862745, 0.15294118,\n",
      "       0.18431373]), array([0.60784314, 0.61960784, 0.23921569, ..., 0.22352941, 0.35686275,\n",
      "       0.54117647]), array([0.00392157, 0.03137255, 0.10588235, ..., 0.10588235, 0.03137255,\n",
      "       0.00392157]), array([0.40784314, 0.42352941, 0.50196078, ..., 0.61176471, 0.63529412,\n",
      "       0.62352941]), array([0.54117647, 0.43921569, 0.45882353, ..., 0.86666667, 0.86666667,\n",
      "       0.89019608]), array([0.43529412, 0.4627451 , 0.52156863, ..., 0.62745098, 0.60784314,\n",
      "       0.54901961]), array([0.60784314, 0.7254902 , 0.78823529, ..., 0.9372549 , 0.98431373,\n",
      "       0.95686275]), array([0.53333333, 0.5372549 , 0.5372549 , ..., 0.44313725, 0.58431373,\n",
      "       0.60392157]), array([0.65098039, 0.66666667, 0.61568627, ..., 0.50196078, 0.49803922,\n",
      "       0.50980392]), array([0.87058824, 0.87058824, 0.87058824, ..., 0.90196078, 0.89803922,\n",
      "       0.90196078]), array([0.73333333, 0.72156863, 0.78039216, ..., 0.78431373, 0.76862745,\n",
      "       0.72156863]), array([0.17647059, 0.17647059, 0.09019608, ..., 0.57254902, 0.78039216,\n",
      "       0.79215686]), array([0.14509804, 0.15294118, 0.16078431, ..., 0.40392157, 0.40392157,\n",
      "       0.40392157]), array([0.6627451 , 0.65882353, 0.66666667, ..., 0.35294118, 0.43921569,\n",
      "       0.34509804]), array([0.89411765, 0.89411765, 0.89411765, ..., 0.40784314, 0.40392157,\n",
      "       0.43137255]), array([0.29019608, 0.2       , 0.11764706, ..., 0.61960784, 0.64313725,\n",
      "       0.63137255]), array([0.75294118, 0.69411765, 0.64705882, ..., 0.90196078, 0.89803922,\n",
      "       0.89411765]), array([0.13333333, 0.41176471, 0.65882353, ..., 0.21960784, 0.23137255,\n",
      "       0.22352941]), array([0.36862745, 0.34901961, 0.37254902, ..., 0.40392157, 0.50980392,\n",
      "       0.56078431]), array([0.37647059, 0.33333333, 0.34901961, ..., 0.54901961, 0.51764706,\n",
      "       0.49411765]), array([0.7372549 , 0.75294118, 0.77254902, ..., 0.4627451 , 0.47058824,\n",
      "       0.49411765]), array([0.23529412, 0.25490196, 0.2627451 , ..., 0.45882353, 0.48235294,\n",
      "       0.48235294]), array([0.24313725, 0.4745098 , 0.4       , ..., 0.70980392, 0.6745098 ,\n",
      "       0.65882353]), array([0.16078431, 0.3254902 , 0.72156863, ..., 0.71764706, 0.70980392,\n",
      "       0.71372549]), array([0.60392157, 0.66666667, 0.65882353, ..., 0.64705882, 0.58823529,\n",
      "       0.67843137]), array([0.62745098, 0.54117647, 0.57647059, ..., 0.43529412, 0.47843137,\n",
      "       0.46666667]), array([0.34509804, 0.31764706, 0.29019608, ..., 0.39607843, 0.4       ,\n",
      "       0.41568627]), array([0.11372549, 0.14117647, 0.14509804, ..., 0.59607843, 0.61960784,\n",
      "       0.67843137]), array([0.41176471, 0.41176471, 0.41176471, ..., 0.36470588, 0.32941176,\n",
      "       0.23137255]), array([0.4       , 0.49803922, 0.53333333, ..., 0.70196078, 0.70196078,\n",
      "       0.70588235]), array([0.86666667, 0.99607843, 0.88627451, ..., 0.38431373, 0.34117647,\n",
      "       0.34901961]), array([0.06666667, 0.08627451, 0.09803922, ..., 0.04313725, 0.05098039,\n",
      "       0.03921569]), array([0.09019608, 0.11764706, 0.10196078, ..., 0.45098039, 0.45882353,\n",
      "       0.46666667]), array([0.2       , 0.18431373, 0.16862745, ..., 0.33333333, 0.30980392,\n",
      "       0.39607843]), array([0.46666667, 0.29411765, 0.34117647, ..., 0.11372549, 0.11372549,\n",
      "       0.11372549]), array([0.45490196, 0.49411765, 0.56470588, ..., 0.31764706, 0.27843137,\n",
      "       0.35686275]), array([0.25490196, 0.16862745, 0.21568627, ..., 0.10588235, 0.15686275,\n",
      "       0.16862745]), array([0.32156863, 0.37254902, 0.27058824, ..., 0.32156863, 0.63137255,\n",
      "       0.51764706]), array([0.36078431, 0.34117647, 0.36470588, ..., 0.2       , 0.14117647,\n",
      "       0.12941176]), array([0.42352941, 0.44705882, 0.43921569, ..., 0.34117647, 0.47843137,\n",
      "       0.4745098 ]), array([0.49411765, 0.3254902 , 0.55686275, ..., 0.61568627, 0.64705882,\n",
      "       0.65098039]), array([0.04705882, 0.04705882, 0.04705882, ..., 0.36078431, 0.34901961,\n",
      "       0.33333333]), array([0.23137255, 0.21960784, 0.21176471, ..., 0.22352941, 0.21960784,\n",
      "       0.23137255]), array([0.43137255, 0.45098039, 0.34117647, ..., 0.24313725, 0.23137255,\n",
      "       0.2627451 ]), array([0.1254902 , 0.19607843, 0.19607843, ..., 0.40784314, 0.45490196,\n",
      "       0.39215686]), array([0.04313725, 0.03921569, 0.03529412, ..., 0.02352941, 0.02352941,\n",
      "       0.01960784]), array([0.74901961, 0.74901961, 0.74901961, ..., 0.16078431, 0.10588235,\n",
      "       0.08627451]), array([0.41176471, 0.40784314, 0.41568627, ..., 0.43529412, 0.40392157,\n",
      "       0.39215686]), array([0.16470588, 0.20784314, 0.21568627, ..., 0.6       , 0.6627451 ,\n",
      "       0.67058824]), array([0.6       , 0.61568627, 0.62352941, ..., 0.44705882, 0.41568627,\n",
      "       0.41568627]), array([0.10588235, 0.10980392, 0.11764706, ..., 0.50588235, 0.46666667,\n",
      "       0.45882353]), array([0.68235294, 0.70588235, 0.67843137, ..., 0.4627451 , 0.45882353,\n",
      "       0.34509804]), array([0.28235294, 0.30196078, 0.61568627, ..., 0.59215686, 0.65098039,\n",
      "       0.64313725]), array([0.32941176, 0.35686275, 0.38039216, ..., 0.11372549, 0.10980392,\n",
      "       0.10196078]), array([0.70980392, 0.72941176, 0.72156863, ..., 0.45490196, 0.58431373,\n",
      "       0.7254902 ]), array([0.15686275, 0.11764706, 0.14901961, ..., 0.68627451, 0.72941176,\n",
      "       0.74117647]), array([0.0627451 , 0.0627451 , 0.0627451 , ..., 0.21176471, 0.21176471,\n",
      "       0.20392157]), array([0.00392157, 0.00392157, 0.00392157, ..., 0.65490196, 0.70980392,\n",
      "       0.76862745]), array([0.21568627, 0.21568627, 0.18823529, ..., 0.34509804, 0.29411765,\n",
      "       0.27843137]), array([0.34901961, 0.26666667, 0.22745098, ..., 0.2745098 , 0.36078431,\n",
      "       0.39215686]), array([0.16862745, 0.1372549 , 0.15686275, ..., 0.29411765, 0.27058824,\n",
      "       0.29019608]), array([0.99215686, 0.99215686, 0.99215686, ..., 0.17647059, 0.17647059,\n",
      "       0.22745098]), array([0.35686275, 0.34901961, 0.38431373, ..., 0.20392157, 0.17647059,\n",
      "       0.23529412]), array([0.35294118, 0.35294118, 0.39215686, ..., 0.16862745, 0.16470588,\n",
      "       0.16078431]), array([0.38823529, 0.40784314, 0.39607843, ..., 0.61960784, 0.63529412,\n",
      "       0.62745098]), array([0.21568627, 0.21176471, 0.21176471, ..., 0.54901961, 0.53333333,\n",
      "       0.52156863]), array([0.        , 0.01960784, 0.03137255, ..., 0.47058824, 0.4627451 ,\n",
      "       0.45098039]), array([0.05490196, 0.05490196, 0.05490196, ..., 0.40784314, 0.43921569,\n",
      "       0.40784314]), array([0.6627451 , 0.69803922, 0.7254902 , ..., 0.34509804, 0.42352941,\n",
      "       0.34117647]), array([0.45882353, 0.46666667, 0.46666667, ..., 0.68235294, 0.67843137,\n",
      "       0.67058824]), array([0.32941176, 0.30588235, 0.23529412, ..., 0.60392157, 0.62352941,\n",
      "       0.63921569]), array([0.70588235, 0.61960784, 0.33333333, ..., 0.02352941, 0.16862745,\n",
      "       0.23529412]), array([0.34509804, 0.33333333, 0.29803922, ..., 0.40784314, 0.45098039,\n",
      "       0.40784314]), array([0.43137255, 0.58039216, 0.56862745, ..., 0.50980392, 0.48235294,\n",
      "       0.45490196]), array([0.65882353, 0.69019608, 0.62352941, ..., 0.53333333, 0.74117647,\n",
      "       0.7372549 ]), array([0.45490196, 0.59215686, 0.55294118, ..., 0.38039216, 0.3372549 ,\n",
      "       0.42352941]), array([0.1372549 , 0.1372549 , 0.14509804, ..., 0.64705882, 0.65882353,\n",
      "       0.61960784]), array([0.23137255, 0.15686275, 0.25490196, ..., 0.3372549 , 0.3372549 ,\n",
      "       0.3254902 ]), array([0.32941176, 0.36862745, 0.36470588, ..., 0.47058824, 0.49411765,\n",
      "       0.4745098 ]), array([0.50980392, 0.51372549, 0.5254902 , ..., 0.90980392, 0.90980392,\n",
      "       0.91764706]), array([0.92941176, 0.94117647, 0.95294118, ..., 0.95294118, 0.94509804,\n",
      "       0.92941176]), array([0.01176471, 0.20392157, 0.28627451, ..., 0.36862745, 0.38039216,\n",
      "       0.38823529]), array([0.38823529, 0.43529412, 0.46666667, ..., 0.40784314, 0.36078431,\n",
      "       0.42352941]), array([0.43921569, 0.43529412, 0.51372549, ..., 0.93333333, 0.92941176,\n",
      "       0.92156863]), array([0.51372549, 0.50196078, 0.50196078, ..., 0.57254902, 0.58823529,\n",
      "       0.60392157]), array([0.03921569, 0.03921569, 0.04313725, ..., 0.18431373, 0.19607843,\n",
      "       0.29411765]), array([0.52156863, 0.5372549 , 0.41960784, ..., 0.29019608, 0.29411765,\n",
      "       0.29411765]), array([0.38823529, 0.43137255, 0.37647059, ..., 0.0745098 , 0.09019608,\n",
      "       0.07058824]), array([0.06666667, 0.07843137, 0.07843137, ..., 0.25882353, 0.25882353,\n",
      "       0.23137255]), array([0.05882353, 0.05098039, 0.05882353, ..., 0.15686275, 0.15294118,\n",
      "       0.14509804]), array([0.89019608, 0.88627451, 0.8745098 , ..., 0.43137255, 0.45882353,\n",
      "       0.44313725]), array([0.43137255, 0.38431373, 0.40392157, ..., 0.46666667, 0.44705882,\n",
      "       0.43921569]), array([0.16470588, 0.19607843, 0.18039216, ..., 0.67058824, 0.65490196,\n",
      "       0.65098039]), array([0.00392157, 0.        , 0.02352941, ..., 0.4627451 , 0.4627451 ,\n",
      "       0.47058824]), array([0.09019608, 0.09411765, 0.10196078, ..., 0.56470588, 0.56862745,\n",
      "       0.55686275]), array([0.47843137, 0.48627451, 0.49803922, ..., 0.59215686, 0.57254902,\n",
      "       0.51372549]), array([0.03529412, 0.04313725, 0.03921569, ..., 0.23529412, 0.23529412,\n",
      "       0.23529412]), array([0.62352941, 0.63921569, 0.65490196, ..., 0.19607843, 0.19215686,\n",
      "       0.18431373]), array([0.4745098 , 0.50588235, 0.50980392, ..., 0.36862745, 0.47058824,\n",
      "       0.49019608]), array([0.83529412, 0.81176471, 0.77647059, ..., 0.83137255, 0.8627451 ,\n",
      "       0.85098039]), array([0.70588235, 0.75686275, 0.76862745, ..., 0.59607843, 0.59607843,\n",
      "       0.6       ]), array([0.1254902 , 0.14901961, 0.10196078, ..., 0.20784314, 0.23921569,\n",
      "       0.23137255]), array([0.36078431, 0.34901961, 0.31372549, ..., 0.34509804, 0.31764706,\n",
      "       0.30196078]), array([0.29803922, 0.29803922, 0.18431373, ..., 0.75294118, 0.87843137,\n",
      "       0.82352941]), array([0.69803922, 0.68235294, 0.37647059, ..., 0.99607843, 0.99607843,\n",
      "       0.99607843]), array([0.31372549, 0.30980392, 0.56470588, ..., 0.50980392, 0.52156863,\n",
      "       0.50980392]), array([0.32156863, 0.36470588, 0.38823529, ..., 0.05882353, 0.08627451,\n",
      "       0.08627451]), array([0.38431373, 0.39215686, 0.38431373, ..., 0.20784314, 0.10196078,\n",
      "       0.2       ]), array([0.88627451, 0.88627451, 0.88627451, ..., 0.74901961, 0.76470588,\n",
      "       0.74509804]), array([0.1254902 , 0.15294118, 0.15294118, ..., 0.05098039, 0.04705882,\n",
      "       0.04313725]), array([0.38431373, 0.35294118, 0.38039216, ..., 0.3372549 , 0.35294118,\n",
      "       0.40392157]), array([0.55294118, 0.48235294, 0.54901961, ..., 0.54901961, 0.5372549 ,\n",
      "       0.57647059]), array([0.87058824, 0.83529412, 0.82745098, ..., 0.55294118, 0.54901961,\n",
      "       0.5372549 ]), array([0.5254902 , 0.53333333, 0.53333333, ..., 0.30588235, 0.31764706,\n",
      "       0.30196078]), array([0.64313725, 0.64313725, 0.42352941, ..., 0.49803922, 0.4745098 ,\n",
      "       0.46666667]), array([0.56078431, 0.57647059, 0.68627451, ..., 0.1372549 , 0.11372549,\n",
      "       0.09803922]), array([0.4745098 , 0.48627451, 0.49411765, ..., 0.31372549, 0.31764706,\n",
      "       0.31764706]), array([0.28627451, 0.35686275, 0.39215686, ..., 0.16078431, 0.16078431,\n",
      "       0.18823529]), array([0.18823529, 0.23529412, 0.24313725, ..., 0.5372549 , 0.50588235,\n",
      "       0.51764706]), array([0.49019608, 0.52156863, 0.5372549 , ..., 0.18431373, 0.19607843,\n",
      "       0.21568627]), array([1.        , 1.        , 1.        , ..., 0.32941176, 0.3372549 ,\n",
      "       0.41960784]), array([0.70196078, 0.70980392, 0.71372549, ..., 0.65490196, 0.64705882,\n",
      "       0.63921569]), array([0.64705882, 0.62352941, 0.64313725, ..., 0.61176471, 0.43921569,\n",
      "       0.46666667]), array([0.2       , 0.18823529, 0.18823529, ..., 0.21960784, 0.16862745,\n",
      "       0.1372549 ]), array([0.23921569, 0.16862745, 0.12941176, ..., 0.50196078, 0.51372549,\n",
      "       0.51372549]), array([0.0627451 , 0.0627451 , 0.0627451 , ..., 0.71372549, 0.64313725,\n",
      "       0.61960784]), array([0.08235294, 0.08235294, 0.08235294, ..., 0.54509804, 0.54509804,\n",
      "       0.54117647]), array([0.38823529, 0.34117647, 0.19215686, ..., 0.54901961, 0.55686275,\n",
      "       0.54117647]), array([0.61960784, 0.62745098, 0.63137255, ..., 0.71764706, 0.70588235,\n",
      "       0.70196078]), array([0.43921569, 0.44313725, 0.45098039, ..., 0.68235294, 0.68235294,\n",
      "       0.64313725]), array([0.01176471, 0.02745098, 0.02352941, ..., 0.43137255, 0.41176471,\n",
      "       0.38823529]), array([0.18823529, 0.19607843, 0.21568627, ..., 0.50588235, 0.50588235,\n",
      "       0.51764706]), array([0.7254902 , 0.72156863, 0.71764706, ..., 0.35294118, 0.35294118,\n",
      "       0.38823529]), array([0.0745098 , 0.17647059, 0.15294118, ..., 0.1372549 , 0.1254902 ,\n",
      "       0.05098039]), array([0.83529412, 0.83529412, 0.83529412, ..., 0.54901961, 0.58039216,\n",
      "       0.6       ]), array([0.52156863, 0.50588235, 0.70980392, ..., 0.54509804, 0.55294118,\n",
      "       0.52156863]), array([0.42745098, 0.43137255, 0.43529412, ..., 0.41176471, 0.39215686,\n",
      "       0.45882353]), array([0.87058824, 0.92156863, 0.77647059, ..., 0.13333333, 0.24313725,\n",
      "       0.26666667]), array([0.51372549, 0.56470588, 0.47843137, ..., 0.49411765, 0.48235294,\n",
      "       0.4627451 ]), array([0.24313725, 0.22352941, 0.25882353, ..., 0.2745098 , 0.31372549,\n",
      "       0.31764706]), array([0.54509804, 0.65098039, 0.89411765, ..., 0.45490196, 0.44313725,\n",
      "       0.43921569]), array([0.10588235, 0.16862745, 0.16862745, ..., 0.7254902 , 0.71372549,\n",
      "       0.69411765]), array([0.49411765, 0.58039216, 0.64705882, ..., 0.49411765, 0.50980392,\n",
      "       0.50980392]), array([0.10980392, 0.19607843, 0.17647059, ..., 0.16078431, 0.17254902,\n",
      "       0.15294118]), array([0.40392157, 0.40784314, 0.40784314, ..., 0.70196078, 0.68627451,\n",
      "       0.67843137]), array([0.04705882, 0.03529412, 0.02745098, ..., 0.8627451 , 0.88235294,\n",
      "       0.8627451 ]), array([0.54509804, 0.56078431, 0.56862745, ..., 0.1372549 , 0.12941176,\n",
      "       0.12941176]), array([0.43137255, 0.45490196, 0.48235294, ..., 0.29411765, 0.30196078,\n",
      "       0.30980392]), array([0.61568627, 0.64705882, 0.69803922, ..., 0.7254902 , 0.74901961,\n",
      "       0.70196078]), array([0.69803922, 0.47058824, 0.18039216, ..., 0.05098039, 0.03137255,\n",
      "       0.02352941]), array([0.17254902, 0.74117647, 1.        , ..., 0.12156863, 0.10980392,\n",
      "       0.10980392]), array([0.45490196, 0.46666667, 0.47843137, ..., 0.2627451 , 0.23529412,\n",
      "       0.21960784]), array([0.31764706, 0.30196078, 0.29803922, ..., 0.52941176, 0.52156863,\n",
      "       0.54117647]), array([0.96078431, 0.96470588, 0.95294118, ..., 0.6745098 , 0.70588235,\n",
      "       0.66666667]), array([0.22352941, 0.24313725, 0.25098039, ..., 0.28627451, 0.34509804,\n",
      "       0.3254902 ]), array([0.18823529, 0.16078431, 0.17647059, ..., 0.21960784, 0.19607843,\n",
      "       0.19215686]), array([0.54117647, 0.57254902, 0.55686275, ..., 0.61176471, 0.60392157,\n",
      "       0.61176471]), array([0.42745098, 0.42745098, 0.42352941, ..., 0.45882353, 0.45882353,\n",
      "       0.43921569]), array([0.84313725, 0.83529412, 0.83529412, ..., 0.65098039, 0.64313725,\n",
      "       0.71764706]), array([0.18823529, 0.16078431, 0.14117647, ..., 0.23137255, 0.1372549 ,\n",
      "       0.04705882]), array([0.75686275, 0.77647059, 0.70980392, ..., 0.5372549 , 0.54117647,\n",
      "       0.49803922]), array([0.57254902, 0.61568627, 0.6627451 , ..., 0.39607843, 0.42352941,\n",
      "       0.42745098]), array([0.29019608, 0.18431373, 0.25098039, ..., 0.57647059, 0.83529412,\n",
      "       0.69803922]), array([0.18431373, 0.18431373, 0.19607843, ..., 0.38823529, 0.40784314,\n",
      "       0.41960784]), array([0.36470588, 0.34901961, 0.35686275, ..., 0.36078431, 0.36078431,\n",
      "       0.38823529]), array([0.41176471, 0.39607843, 0.33333333, ..., 0.38431373, 0.48235294,\n",
      "       0.44705882]), array([0.30196078, 0.34901961, 0.3372549 , ..., 0.76862745, 0.70980392,\n",
      "       0.6745098 ]), array([0.33333333, 0.34117647, 0.34509804, ..., 0.32156863, 0.30196078,\n",
      "       0.29019608]), array([0.81960784, 0.81960784, 0.71764706, ..., 0.80392157, 0.80784314,\n",
      "       0.80784314]), array([0.18431373, 0.18431373, 0.19607843, ..., 0.28627451, 0.26666667,\n",
      "       0.19215686]), array([0.59607843, 0.65490196, 0.69411765, ..., 0.09411765, 0.10588235,\n",
      "       0.11764706]), array([0.35294118, 0.3254902 , 0.29803922, ..., 0.80784314, 0.78823529,\n",
      "       0.78823529]), array([0.21176471, 0.2       , 0.19607843, ..., 0.56862745, 0.55294118,\n",
      "       0.55686275]), array([0.62352941, 0.62352941, 0.62745098, ..., 0.41568627, 0.40784314,\n",
      "       0.40784314]), array([0.14509804, 0.17254902, 0.13333333, ..., 0.88235294, 0.77647059,\n",
      "       0.80392157]), array([0.19607843, 0.14901961, 0.28235294, ..., 0.83137255, 0.8627451 ,\n",
      "       0.86666667]), array([0.08235294, 0.10588235, 0.12941176, ..., 0.10980392, 0.16862745,\n",
      "       0.23921569]), array([0.4745098 , 0.47058824, 0.4627451 , ..., 0.4627451 , 0.39215686,\n",
      "       0.29803922]), array([0.84313725, 0.85098039, 0.8627451 , ..., 0.6       , 0.58431373,\n",
      "       0.57254902]), array([0.69411765, 0.69411765, 0.69411765, ..., 0.44705882, 0.45098039,\n",
      "       0.36470588]), array([0.03137255, 0.04313725, 0.04313725, ..., 0.4       , 0.38823529,\n",
      "       0.35294118]), array([0.56862745, 0.56078431, 0.55294118, ..., 0.34117647, 0.34901961,\n",
      "       0.35686275]), array([0.38823529, 0.16078431, 0.2627451 , ..., 0.17254902, 0.18431373,\n",
      "       0.17254902]), array([0.77254902, 0.65490196, 0.46666667, ..., 0.03921569, 0.1372549 ,\n",
      "       0.08235294]), array([0.56862745, 0.50980392, 0.55686275, ..., 0.72941176, 0.71764706,\n",
      "       0.74901961]), array([0.51372549, 0.49411765, 0.49019608, ..., 0.51764706, 0.54509804,\n",
      "       0.54117647]), array([0.4627451 , 0.45882353, 0.50196078, ..., 0.42745098, 0.43921569,\n",
      "       0.50588235]), array([0.05882353, 0.05490196, 0.09803922, ..., 0.17647059, 0.21568627,\n",
      "       0.30980392]), array([0.34117647, 0.32156863, 0.29019608, ..., 0.2627451 , 0.27058824,\n",
      "       0.30196078]), array([0.56862745, 0.55686275, 0.55686275, ..., 0.03137255, 0.03137255,\n",
      "       0.02745098]), array([0.15686275, 0.17647059, 0.18039216, ..., 0.31372549, 0.31372549,\n",
      "       0.32156863]), array([0.29803922, 0.32941176, 0.38431373, ..., 0.63921569, 0.43137255,\n",
      "       0.38431373]), array([0.76862745, 0.80392157, 0.81176471, ..., 0.69803922, 0.67843137,\n",
      "       0.6627451 ]), array([0.54509804, 0.5254902 , 0.50588235, ..., 0.45490196, 0.49803922,\n",
      "       0.5372549 ]), array([0.29019608, 0.25098039, 0.2745098 , ..., 0.95686275, 0.96862745,\n",
      "       0.97254902]), array([0.2745098 , 0.29803922, 0.31764706, ..., 0.24313725, 0.2745098 ,\n",
      "       0.2627451 ]), array([0.68235294, 0.68627451, 0.69019608, ..., 0.51764706, 0.51372549,\n",
      "       0.51764706]), array([0.02352941, 0.04313725, 0.03529412, ..., 0.3254902 , 0.36470588,\n",
      "       0.36862745]), array([0.43921569, 0.3372549 , 0.2627451 , ..., 0.42352941, 0.40784314,\n",
      "       0.39607843]), array([0.25490196, 0.22745098, 0.21176471, ..., 0.33333333, 0.3372549 ,\n",
      "       0.32941176]), array([0.45490196, 0.59215686, 0.55294118, ..., 0.38039216, 0.3372549 ,\n",
      "       0.42352941]), array([0.30980392, 0.29803922, 0.25098039, ..., 0.04705882, 0.20784314,\n",
      "       0.37647059]), array([0.1254902 , 0.09803922, 0.10588235, ..., 0.21960784, 0.34117647,\n",
      "       0.35294118]), array([0.23529412, 0.23529412, 0.23921569, ..., 0.15686275, 0.16078431,\n",
      "       0.15294118]), array([0.1372549 , 0.14901961, 0.14117647, ..., 0.49803922, 0.58039216,\n",
      "       0.52156863]), array([0.01176471, 0.01568627, 0.        , ..., 0.41960784, 0.41960784,\n",
      "       0.44705882]), array([0.4       , 0.30196078, 0.36078431, ..., 0.19215686, 0.18431373,\n",
      "       0.2627451 ]), array([0.82745098, 0.81960784, 0.82352941, ..., 0.46666667, 0.48627451,\n",
      "       0.46666667]), array([0.42745098, 0.38039216, 0.39215686, ..., 0.35686275, 0.32156863,\n",
      "       0.30196078]), array([0.35294118, 0.62745098, 0.5254902 , ..., 0.65882353, 0.64313725,\n",
      "       0.64313725]), array([0.05098039, 0.05098039, 0.0627451 , ..., 0.14901961, 0.1372549 ,\n",
      "       0.13333333]), array([0.60784314, 0.6745098 , 0.71372549, ..., 0.25882353, 0.24313725,\n",
      "       0.2627451 ]), array([0.94117647, 0.94117647, 0.9372549 , ..., 0.62745098, 0.57647059,\n",
      "       0.57647059]), array([0.07058824, 0.05882353, 0.09803922, ..., 0.78823529, 0.77647059,\n",
      "       0.76078431]), array([0.45098039, 0.42352941, 0.42352941, ..., 0.39607843, 0.35294118,\n",
      "       0.45098039]), array([0.12941176, 0.13333333, 0.13333333, ..., 0.49411765, 0.50196078,\n",
      "       0.51764706]), array([0.30196078, 0.32156863, 0.32941176, ..., 0.4745098 , 0.50196078,\n",
      "       0.43529412]), array([0.39607843, 0.43529412, 0.44313725, ..., 0.50588235, 0.48627451,\n",
      "       0.50588235]), array([0.24705882, 0.25490196, 0.2627451 , ..., 0.57254902, 0.51764706,\n",
      "       0.49019608]), array([0.09411765, 0.07843137, 0.07843137, ..., 0.38039216, 0.3372549 ,\n",
      "       0.34901961]), array([0.08235294, 0.04705882, 0.05490196, ..., 0.75686275, 0.75294118,\n",
      "       0.79215686]), array([0.01960784, 0.01176471, 0.00784314, ..., 0.40392157, 0.40392157,\n",
      "       0.43529412]), array([0.3254902 , 0.33333333, 0.30980392, ..., 0.18039216, 0.18431373,\n",
      "       0.18823529]), array([0.2745098 , 0.2745098 , 0.2627451 , ..., 0.58431373, 0.58039216,\n",
      "       0.57254902]), array([0.04705882, 0.03921569, 0.04705882, ..., 0.04313725, 0.03921569,\n",
      "       0.03529412]), array([0.02352941, 0.05490196, 0.07843137, ..., 0.01960784, 0.01568627,\n",
      "       0.01568627]), array([0.28235294, 0.29411765, 0.28627451, ..., 0.70196078, 0.66666667,\n",
      "       0.78039216]), array([0.37254902, 0.37647059, 0.37254902, ..., 0.65098039, 0.65098039,\n",
      "       0.60784314]), array([0.48627451, 0.42352941, 0.40392157, ..., 0.34117647, 0.31764706,\n",
      "       0.41960784]), array([0.4       , 0.36078431, 0.4       , ..., 0.31764706, 0.30196078,\n",
      "       0.29803922]), array([0.54901961, 0.56862745, 0.55294118, ..., 0.46666667, 0.41176471,\n",
      "       0.4627451 ]), array([0.55686275, 0.55686275, 0.61176471, ..., 0.70196078, 0.67843137,\n",
      "       0.61568627]), array([0.79607843, 0.76470588, 0.7372549 , ..., 0.57647059, 0.55294118,\n",
      "       0.50980392]), array([0.32156863, 0.34509804, 0.42745098, ..., 0.18039216, 0.17647059,\n",
      "       0.17647059]), array([0.39607843, 0.3254902 , 0.48627451, ..., 0.98039216, 0.99215686,\n",
      "       0.98823529]), array([0.74117647, 0.74117647, 0.74509804, ..., 0.35686275, 0.44313725,\n",
      "       0.49019608]), array([0.36470588, 0.37647059, 0.39607843, ..., 0.07843137, 0.14117647,\n",
      "       0.21960784]), array([0.65882353, 0.65098039, 0.69803922, ..., 0.00392157, 0.00392157,\n",
      "       0.00392157]), array([0.22352941, 0.21960784, 0.23137255, ..., 0.50196078, 0.50196078,\n",
      "       0.50588235]), array([0.76862745, 0.78823529, 0.78823529, ..., 0.71372549, 0.69411765,\n",
      "       0.6627451 ]), array([0.53333333, 0.55294118, 0.54509804, ..., 0.62745098, 0.61176471,\n",
      "       0.56470588]), array([0.4       , 0.14509804, 0.18039216, ..., 0.14509804, 0.14117647,\n",
      "       0.13333333]), array([0.1254902 , 0.18823529, 0.23529412, ..., 0.17254902, 0.16470588,\n",
      "       0.14901961]), array([0.52156863, 0.52941176, 0.53333333, ..., 0.01176471, 0.05490196,\n",
      "       0.14509804]), array([0.21568627, 0.24313725, 0.25882353, ..., 0.38823529, 0.40784314,\n",
      "       0.42745098]), array([1., 1., 1., ..., 1., 1., 1.]), array([0.70980392, 0.70980392, 0.69019608, ..., 0.94901961, 0.98039216,\n",
      "       0.98039216]), array([0.61960784, 0.61960784, 0.61960784, ..., 0.49803922, 0.49411765,\n",
      "       0.52156863]), array([0.89803922, 0.90588235, 0.89803922, ..., 0.84313725, 0.81568627,\n",
      "       0.81176471]), array([0.64705882, 0.64705882, 0.69411765, ..., 0.57254902, 0.61176471,\n",
      "       0.59607843]), array([0.12156863, 0.05882353, 0.06666667, ..., 0.51764706, 0.5254902 ,\n",
      "       0.51372549]), array([0.12941176, 0.11764706, 0.09803922, ..., 0.20392157, 0.33333333,\n",
      "       0.73333333]), array([0.05098039, 0.11764706, 0.1372549 , ..., 0.20784314, 0.18431373,\n",
      "       0.16862745]), array([0.70196078, 0.82352941, 0.85098039, ..., 0.05098039, 0.04705882,\n",
      "       0.04313725]), array([0.41568627, 0.34117647, 0.16470588, ..., 0.32941176, 0.36470588,\n",
      "       0.3254902 ]), array([0.56078431, 0.55686275, 0.55294118, ..., 0.55686275, 0.56078431,\n",
      "       0.56078431]), array([0.50196078, 0.50588235, 0.61568627, ..., 0.60784314, 0.56078431,\n",
      "       0.57254902]), array([0.31764706, 0.31372549, 0.31764706, ..., 0.23137255, 0.21568627,\n",
      "       0.22352941]), array([0.41176471, 0.43921569, 0.48235294, ..., 0.15294118, 0.12941176,\n",
      "       0.07843137]), array([0.70196078, 0.51372549, 0.30196078, ..., 0.32156863, 0.38039216,\n",
      "       0.34117647]), array([0.27843137, 0.27843137, 0.27843137, ..., 0.41568627, 0.54509804,\n",
      "       0.50588235]), array([0.17647059, 0.17647059, 0.19215686, ..., 0.50196078, 0.52941176,\n",
      "       0.50980392]), array([0.25882353, 0.26666667, 0.27843137, ..., 0.30980392, 0.32941176,\n",
      "       0.37647059]), array([0.52156863, 0.62352941, 0.71372549, ..., 0.46666667, 0.47058824,\n",
      "       0.45098039]), array([0.23529412, 0.22352941, 0.02745098, ..., 0.29019608, 0.28235294,\n",
      "       0.26666667]), array([0.28235294, 0.26666667, 0.23529412, ..., 0.10588235, 0.11372549,\n",
      "       0.20784314]), array([0.25882353, 0.25882353, 0.25882353, ..., 0.16078431, 0.16470588,\n",
      "       0.14901961]), array([0.61568627, 0.6745098 , 0.71372549, ..., 0.42745098, 0.41960784,\n",
      "       0.41960784]), array([0.6745098 , 0.71372549, 0.67843137, ..., 0.56862745, 0.56470588,\n",
      "       0.55686275]), array([0.43921569, 0.4745098 , 0.4627451 , ..., 0.38431373, 0.47058824,\n",
      "       0.42745098]), array([0.31372549, 0.32941176, 0.31764706, ..., 0.31372549, 0.51372549,\n",
      "       0.36470588]), array([0.18431373, 0.2       , 0.14901961, ..., 0.10588235, 0.11372549,\n",
      "       0.11372549]), array([0.54509804, 0.56078431, 0.54901961, ..., 0.4627451 , 0.48235294,\n",
      "       0.78039216]), array([0.31372549, 0.43529412, 0.54117647, ..., 1.        , 1.        ,\n",
      "       1.        ]), array([0.10980392, 0.10196078, 0.10588235, ..., 0.10980392, 0.12941176,\n",
      "       0.10588235]), array([0.28627451, 0.22352941, 0.23921569, ..., 0.39215686, 0.36862745,\n",
      "       0.36470588]), array([0.14117647, 0.11764706, 0.04705882, ..., 0.73333333, 0.69411765,\n",
      "       0.67058824]), array([0.83921569, 0.85882353, 0.86666667, ..., 0.70980392, 0.70980392,\n",
      "       0.63529412]), array([0.00784314, 0.02745098, 0.03921569, ..., 0.14117647, 0.08235294,\n",
      "       0.00784314]), array([0.89019608, 0.90588235, 0.92156863, ..., 0.59607843, 0.58823529,\n",
      "       0.57254902]), array([0.24313725, 0.24705882, 0.25098039, ..., 0.69803922, 0.70980392,\n",
      "       0.70588235]), array([0.90588235, 0.87058824, 0.85882353, ..., 0.48235294, 0.44705882,\n",
      "       0.41960784]), array([0.27058824, 0.36078431, 0.2627451 , ..., 0.40784314, 0.39607843,\n",
      "       0.41568627]), array([0.90980392, 0.95686275, 0.98039216, ..., 0.65882353, 0.64313725,\n",
      "       0.67058824]), array([0.50980392, 0.49019608, 0.46666667, ..., 0.46666667, 0.52941176,\n",
      "       0.45098039]), array([0.63529412, 0.62745098, 0.65882353, ..., 0.8       , 0.78431373,\n",
      "       0.8       ]), array([0.44705882, 0.44313725, 0.43137255, ..., 0.44313725, 0.38823529,\n",
      "       0.41568627]), array([0.01176471, 0.01960784, 0.01176471, ..., 0.30196078, 0.27843137,\n",
      "       0.2745098 ]), array([0.78431373, 0.57254902, 0.1372549 , ..., 0.23529412, 0.23921569,\n",
      "       0.23529412]), array([0.09803922, 0.10196078, 0.10980392, ..., 0.02745098, 0.03137255,\n",
      "       0.02745098]), array([0.54901961, 0.56470588, 0.58823529, ..., 0.3372549 , 0.32941176,\n",
      "       0.31372549]), array([0.85882353, 0.87058824, 0.85098039, ..., 0.31372549, 0.20784314,\n",
      "       0.12941176]), array([0.75686275, 0.75686275, 0.76078431, ..., 0.45882353, 0.49019608,\n",
      "       0.58039216]), array([0.42352941, 0.36470588, 0.36470588, ..., 0.49019608, 0.43529412,\n",
      "       0.2745098 ]), array([0.47058824, 0.43921569, 0.47843137, ..., 0.11372549, 0.10588235,\n",
      "       0.08627451]), array([0.03921569, 0.01568627, 0.01960784, ..., 0.63921569, 0.61960784,\n",
      "       0.62352941]), array([0.09019608, 0.11764706, 0.11372549, ..., 0.11372549, 0.11764706,\n",
      "       0.13333333]), array([0.13333333, 0.11764706, 0.13333333, ..., 0.37647059, 0.37647059,\n",
      "       0.37254902]), array([0.19215686, 0.1372549 , 0.07058824, ..., 0.14901961, 0.12941176,\n",
      "       0.12156863]), array([0.28627451, 0.27843137, 0.25490196, ..., 0.3254902 , 0.32156863,\n",
      "       0.31764706]), array([0.17254902, 0.09411765, 0.15686275, ..., 0.1372549 , 0.23137255,\n",
      "       0.21568627]), array([0.75294118, 0.74901961, 0.77254902, ..., 0.6745098 , 0.66666667,\n",
      "       0.6627451 ]), array([0.03137255, 0.00784314, 0.01176471, ..., 0.23529412, 0.22352941,\n",
      "       0.20392157]), array([0.12941176, 0.12941176, 0.1372549 , ..., 0.2627451 , 0.25490196,\n",
      "       0.25882353]), array([0.87058824, 0.99607843, 0.99215686, ..., 0.36470588, 0.35686275,\n",
      "       0.33333333]), array([0.95686275, 0.96862745, 0.96078431, ..., 0.92941176, 0.94509804,\n",
      "       0.96078431]), array([0.2745098 , 0.29019608, 0.30196078, ..., 0.38039216, 0.37647059,\n",
      "       0.36862745]), array([0.13333333, 0.14117647, 0.14901961, ..., 0.86666667, 0.83529412,\n",
      "       0.8745098 ]), array([0.8       , 0.23529412, 0.54901961, ..., 0.42745098, 0.43137255,\n",
      "       0.43529412]), array([0.89803922, 0.89803922, 0.90980392, ..., 0.16862745, 0.12941176,\n",
      "       0.05098039]), array([0.02745098, 0.03137255, 0.03137255, ..., 0.61176471, 0.50588235,\n",
      "       0.54117647]), array([0.21960784, 0.4627451 , 0.66666667, ..., 0.63529412, 0.56078431,\n",
      "       0.52941176]), array([0.0627451 , 0.07058824, 0.07058824, ..., 0.21960784, 0.29803922,\n",
      "       0.23921569]), array([0.43921569, 0.43529412, 0.4627451 , ..., 0.49019608, 0.63529412,\n",
      "       0.5372549 ]), array([0.60784314, 0.49019608, 0.28235294, ..., 0.25882353, 0.23137255,\n",
      "       0.24705882]), array([0.34901961, 0.32156863, 0.29411765, ..., 0.35686275, 0.34509804,\n",
      "       0.54509804]), array([0.0745098 , 0.0745098 , 0.07843137, ..., 0.31764706, 0.29411765,\n",
      "       0.28235294]), array([0.03921569, 0.03529412, 0.01960784, ..., 0.55686275, 0.69019608,\n",
      "       0.58823529]), array([0.5372549 , 0.54509804, 0.54509804, ..., 0.45882353, 0.34509804,\n",
      "       0.31764706]), array([0.68235294, 0.69411765, 0.70196078, ..., 0.10588235, 0.07843137,\n",
      "       0.07843137]), array([0.34509804, 0.36078431, 0.37647059, ..., 0.58039216, 0.56470588,\n",
      "       0.61176471]), array([0.89019608, 0.89019608, 0.89019608, ..., 0.18039216, 0.21568627,\n",
      "       0.25490196]), array([0.10588235, 0.08627451, 0.04705882, ..., 0.10588235, 0.09019608,\n",
      "       0.07058824]), array([0.15686275, 0.16862745, 0.27843137, ..., 0.10196078, 0.0745098 ,\n",
      "       0.11372549]), array([0.95686275, 0.98431373, 0.74901961, ..., 0.45882353, 0.4       ,\n",
      "       0.45490196]), array([0.69019608, 0.69411765, 0.70196078, ..., 0.1372549 , 0.1372549 ,\n",
      "       0.11764706]), array([0.2       , 0.13333333, 0.10980392, ..., 0.67058824, 0.65098039,\n",
      "       0.78823529]), array([0.29803922, 0.29803922, 0.29803922, ..., 0.32941176, 0.3254902 ,\n",
      "       0.30980392]), array([0.02745098, 0.03529412, 0.03529412, ..., 0.43921569, 0.43137255,\n",
      "       0.44705882]), array([0.97254902, 0.97254902, 0.97647059, ..., 0.74117647, 0.76862745,\n",
      "       0.77254902]), array([0.15294118, 0.16078431, 0.15686275, ..., 0.2       , 0.19215686,\n",
      "       0.18823529]), array([0.17254902, 0.16470588, 0.20784314, ..., 0.55686275, 0.55686275,\n",
      "       0.60392157]), array([0.56470588, 0.54901961, 0.54509804, ..., 0.41176471, 0.30980392,\n",
      "       0.34117647]), array([0.94901961, 0.96862745, 0.9372549 , ..., 0.31372549, 0.32941176,\n",
      "       0.36078431]), array([0.60784314, 0.6       , 0.60392157, ..., 0.57254902, 0.57254902,\n",
      "       0.58039216]), array([0.0745098 , 0.10196078, 0.08627451, ..., 0.11764706, 0.14509804,\n",
      "       0.13333333]), array([0.54509804, 0.55686275, 0.5372549 , ..., 0.49803922, 0.47843137,\n",
      "       0.49803922]), array([0.76470588, 0.78431373, 0.80784314, ..., 0.64705882, 0.62352941,\n",
      "       0.56862745]), array([0.50196078, 0.50196078, 0.52156863, ..., 0.51764706, 0.54901961,\n",
      "       0.54117647]), array([0.12941176, 0.10588235, 0.07843137, ..., 0.46666667, 0.47843137,\n",
      "       0.47058824]), array([0.62352941, 0.60784314, 0.63529412, ..., 0.03137255, 0.03529412,\n",
      "       0.07058824]), array([0.24705882, 0.14117647, 0.18039216, ..., 0.61960784, 0.64313725,\n",
      "       0.39607843]), array([0.28235294, 0.72156863, 0.94901961, ..., 0.10588235, 0.07843137,\n",
      "       0.07058824]), array([0.68627451, 0.67058824, 0.65882353, ..., 0.41176471, 0.30980392,\n",
      "       0.18823529]), array([0.22745098, 0.16862745, 0.21960784, ..., 0.36078431, 0.29411765,\n",
      "       0.32156863]), array([0.62745098, 0.60784314, 0.65098039, ..., 0.47843137, 0.51372549,\n",
      "       0.47058824]), array([0.31372549, 0.24313725, 0.15294118, ..., 0.61960784, 0.60392157,\n",
      "       0.59607843]), array([0.02745098, 0.01960784, 0.01960784, ..., 0.04705882, 0.04705882,\n",
      "       0.04705882]), array([0.56862745, 0.56470588, 0.56862745, ..., 0.58431373, 0.58039216,\n",
      "       0.57254902]), array([0.74509804, 0.74509804, 0.74509804, ..., 0.38039216, 0.56078431,\n",
      "       0.34509804]), array([0.66666667, 0.65882353, 0.65098039, ..., 0.15294118, 0.10980392,\n",
      "       0.05882353]), array([0.10980392, 0.10196078, 0.12156863, ..., 0.47058824, 0.44313725,\n",
      "       0.45098039]), array([0.32156863, 0.40392157, 0.65490196, ..., 0.34509804, 0.30588235,\n",
      "       0.30980392]), array([0.24313725, 0.25490196, 0.23529412, ..., 0.36078431, 0.36470588,\n",
      "       0.36078431]), array([0.89803922, 0.94117647, 0.96470588, ..., 0.19215686, 0.41176471,\n",
      "       0.64705882]), array([0.55686275, 0.53333333, 0.45490196, ..., 0.74117647, 0.78823529,\n",
      "       0.72156863]), array([0.51764706, 0.50588235, 0.42745098, ..., 0.71764706, 0.71764706,\n",
      "       0.72156863]), array([0.67843137, 0.59215686, 0.60784314, ..., 0.63921569, 0.77254902,\n",
      "       0.77647059]), array([0.31764706, 0.29803922, 0.30196078, ..., 0.34509804, 0.54117647,\n",
      "       0.60392157]), array([0.24313725, 0.25098039, 0.25882353, ..., 0.3372549 , 0.23921569,\n",
      "       0.23529412]), array([0.14509804, 0.10588235, 0.09803922, ..., 0.28627451, 0.24313725,\n",
      "       0.23137255]), array([0.8627451 , 0.91372549, 0.95294118, ..., 0.45098039, 0.43529412,\n",
      "       0.4       ]), array([0.40392157, 0.25490196, 0.35686275, ..., 0.57647059, 0.56470588,\n",
      "       0.52941176]), array([0.29411765, 0.34509804, 0.28235294, ..., 0.30588235, 0.41960784,\n",
      "       0.31372549]), array([0.95686275, 0.97254902, 0.99607843, ..., 0.9372549 , 0.99215686,\n",
      "       0.99607843]), array([0.8745098 , 0.80784314, 0.81568627, ..., 0.44313725, 0.43921569,\n",
      "       0.43137255]), array([0.09411765, 0.09803922, 0.09411765, ..., 0.07843137, 0.06666667,\n",
      "       0.05882353]), array([0.71372549, 0.85882353, 0.77254902, ..., 0.75686275, 0.78039216,\n",
      "       0.73333333]), array([0.1372549 , 0.14117647, 0.14901961, ..., 0.00392157, 0.00392157,\n",
      "       0.        ]), array([0.58431373, 0.60392157, 0.61568627, ..., 0.4627451 , 0.51764706,\n",
      "       0.51372549]), array([0.37254902, 0.37647059, 0.40784314, ..., 0.00392157, 0.00784314,\n",
      "       0.00784314]), array([0.68235294, 0.67058824, 0.66666667, ..., 0.49411765, 0.4745098 ,\n",
      "       0.4745098 ]), array([0.5372549 , 0.54509804, 0.55294118, ..., 0.4745098 , 0.4627451 ,\n",
      "       0.44705882]), array([0.20784314, 0.21568627, 0.19607843, ..., 0.10588235, 0.07058824,\n",
      "       0.07058824]), array([0.36078431, 0.42745098, 0.55294118, ..., 0.49411765, 0.51372549,\n",
      "       0.48235294]), array([0.21176471, 0.1254902 , 0.16470588, ..., 0.40392157, 0.36862745,\n",
      "       0.26666667]), array([0.74509804, 0.75294118, 0.74901961, ..., 0.45490196, 0.45490196,\n",
      "       0.44705882]), array([0.98823529, 0.98823529, 1.        , ..., 1.        , 0.99607843,\n",
      "       0.99607843]), array([0.39215686, 0.41176471, 0.40784314, ..., 0.37254902, 0.32941176,\n",
      "       0.33333333]), array([0.36470588, 0.36078431, 0.35686275, ..., 0.55294118, 0.54509804,\n",
      "       0.54117647]), array([0.54509804, 0.53333333, 0.53333333, ..., 0.48627451, 0.56470588,\n",
      "       0.45098039]), array([0.71372549, 0.70588235, 0.70588235, ..., 0.05098039, 0.05490196,\n",
      "       0.04705882]), array([0.64313725, 0.61568627, 0.66666667, ..., 0.39607843, 0.3254902 ,\n",
      "       0.30980392]), array([0.05490196, 0.22745098, 0.16078431, ..., 0.47843137, 0.47843137,\n",
      "       0.44705882]), array([0.6       , 0.60392157, 0.61176471, ..., 0.61568627, 0.61176471,\n",
      "       0.6       ]), array([0.96470588, 0.58039216, 0.72941176, ..., 0.15686275, 0.10588235,\n",
      "       0.10980392]), array([0.61960784, 0.62352941, 0.63137255, ..., 0.41568627, 0.41568627,\n",
      "       0.42352941]), array([0.23529412, 0.21176471, 0.22352941, ..., 0.59215686, 0.60784314,\n",
      "       0.65098039]), array([0.23529412, 0.25490196, 0.22352941, ..., 0.16862745, 0.16078431,\n",
      "       0.15686275]), array([0.52941176, 0.52941176, 0.53333333, ..., 0.27058824, 0.28235294,\n",
      "       0.28235294]), array([0.22745098, 0.25490196, 0.29411765, ..., 0.10980392, 0.12156863,\n",
      "       0.13333333]), array([0.18823529, 0.18823529, 0.16078431, ..., 0.1372549 , 0.12156863,\n",
      "       0.14117647]), array([0.35686275, 0.12941176, 0.23529412, ..., 0.49411765, 0.4745098 ,\n",
      "       0.47843137]), array([0.44705882, 0.43137255, 0.44313725, ..., 0.23921569, 0.29019608,\n",
      "       0.29803922]), array([0.03529412, 0.03137255, 0.07843137, ..., 0.63921569, 0.61176471,\n",
      "       0.56862745]), array([0.70980392, 0.91764706, 0.8627451 , ..., 0.35294118, 0.16470588,\n",
      "       0.16862745]), array([0.49411765, 0.49411765, 0.48627451, ..., 0.20392157, 0.25490196,\n",
      "       0.24313725]), array([0.35294118, 0.38431373, 0.36470588, ..., 0.03137255, 0.03529412,\n",
      "       0.03137255]), array([0.24705882, 0.23921569, 0.20392157, ..., 0.36862745, 0.37647059,\n",
      "       0.37254902]), array([0.04313725, 0.03921569, 0.0627451 , ..., 0.69411765, 0.6627451 ,\n",
      "       0.68235294]), array([0.37254902, 0.35686275, 0.34901961, ..., 0.7254902 , 0.68235294,\n",
      "       0.59607843]), array([0.43529412, 0.42745098, 0.44313725, ..., 0.51764706, 0.50980392,\n",
      "       0.49019608]), array([0.24705882, 0.21568627, 0.20392157, ..., 0.20392157, 0.19607843,\n",
      "       0.18039216]), array([0.03137255, 0.03529412, 0.05098039, ..., 0.23921569, 0.22745098,\n",
      "       0.21568627]), array([0.00784314, 0.00392157, 0.00392157, ..., 0.58039216, 0.55686275,\n",
      "       0.53333333]), array([0.17647059, 0.18823529, 0.16862745, ..., 0.65098039, 0.62745098,\n",
      "       0.60784314]), array([0.15294118, 0.18431373, 0.22745098, ..., 0.80392157, 0.76470588,\n",
      "       0.70588235]), array([0.74509804, 0.74117647, 0.76078431, ..., 0.18823529, 0.19215686,\n",
      "       0.19215686]), array([0.42745098, 0.37647059, 0.43137255, ..., 0.48235294, 0.45098039,\n",
      "       0.43921569]), array([0.13333333, 0.14901961, 0.15686275, ..., 0.17254902, 0.15294118,\n",
      "       0.15686275]), array([0.39607843, 0.52156863, 0.45098039, ..., 0.78431373, 0.80392157,\n",
      "       0.77254902]), array([0.51372549, 0.54117647, 0.34509804, ..., 0.34901961, 0.41176471,\n",
      "       0.3372549 ]), array([0.4627451 , 0.45882353, 0.45882353, ..., 0.79215686, 0.79215686,\n",
      "       0.8       ]), array([0.20392157, 0.22745098, 0.17647059, ..., 0.40784314, 0.4       ,\n",
      "       0.43137255])]\n"
     ]
    },
    {
     "ename": "TypeError",
     "evalue": "'NoneType' object is not subscriptable",
     "output_type": "error",
     "traceback": [
      "\u001b[1;31m---------------------------------------------------------------------------\u001b[0m",
      "\u001b[1;31mTypeError\u001b[0m                                 Traceback (most recent call last)",
      "\u001b[1;32m<ipython-input-167-3d265441b981>\u001b[0m in \u001b[0;36m<module>\u001b[1;34m()\u001b[0m\n\u001b[0;32m      5\u001b[0m \u001b[0mprint\u001b[0m\u001b[1;33m(\u001b[0m\u001b[0mnum_test\u001b[0m\u001b[1;33m)\u001b[0m\u001b[1;33m\u001b[0m\u001b[0m\n\u001b[0;32m      6\u001b[0m \u001b[0mj\u001b[0m \u001b[1;33m=\u001b[0m \u001b[0mmin\u001b[0m\u001b[1;33m(\u001b[0m\u001b[0mi\u001b[0m \u001b[1;33m+\u001b[0m \u001b[0mtest_batch_size\u001b[0m\u001b[1;33m,\u001b[0m \u001b[0mnum_test\u001b[0m\u001b[1;33m)\u001b[0m\u001b[1;33m\u001b[0m\u001b[0m\n\u001b[1;32m----> 7\u001b[1;33m \u001b[0mprint\u001b[0m\u001b[1;33m(\u001b[0m\u001b[0mmonocolor_test_images\u001b[0m\u001b[1;33m)\u001b[0m\u001b[1;33m[\u001b[0m\u001b[0mi\u001b[0m\u001b[1;33m]\u001b[0m\u001b[1;33m\u001b[0m\u001b[0m\n\u001b[0m\u001b[0;32m      8\u001b[0m \u001b[0mtest_images\u001b[0m \u001b[1;33m=\u001b[0m \u001b[1;33m(\u001b[0m\u001b[0mmonocolor_test_images\u001b[0m\u001b[1;33m)\u001b[0m\u001b[1;33m[\u001b[0m\u001b[0mi\u001b[0m\u001b[1;33m:\u001b[0m\u001b[0mj\u001b[0m\u001b[1;33m,\u001b[0m\u001b[1;33m:\u001b[0m\u001b[1;33m]\u001b[0m\u001b[1;33m\u001b[0m\u001b[0m\n\u001b[0;32m      9\u001b[0m \u001b[1;33m\u001b[0m\u001b[0m\n",
      "\u001b[1;31mTypeError\u001b[0m: 'NoneType' object is not subscriptable"
     ]
    }
   ],
   "source": [
    "#while i < num_test:\n",
    "test_batch_size=9\n",
    "i=0\n",
    "num_test = len(monocolor_test_images)\n",
    "print(num_test)\n",
    "j = min(i + test_batch_size, num_test)\n",
    "print(monocolor_test_images)[i]\n",
    "test_images = (monocolor_test_images)[i:j,:]\n",
    "\n",
    "test_labels = monocolor_test_label[i:j][:]\n",
    "print(test_images)\n",
    "feed_dict = {input_tensor: test_images,\n",
    "             label_tensor: test_labels}"
   ]
  },
  {
   "cell_type": "code",
   "execution_count": 162,
   "metadata": {},
   "outputs": [
    {
     "ename": "TypeError",
     "evalue": "'Tensor' object does not support item assignment",
     "output_type": "error",
     "traceback": [
      "\u001b[1;31m---------------------------------------------------------------------------\u001b[0m",
      "\u001b[1;31mTypeError\u001b[0m                                 Traceback (most recent call last)",
      "\u001b[1;32m<ipython-input-162-1bf4d7db47a1>\u001b[0m in \u001b[0;36m<module>\u001b[1;34m()\u001b[0m\n\u001b[1;32m----> 1\u001b[1;33m \u001b[0mprint_test_accuracy\u001b[0m\u001b[1;33m(\u001b[0m\u001b[1;33m)\u001b[0m\u001b[1;33m\u001b[0m\u001b[0m\n\u001b[0m",
      "\u001b[1;32m<ipython-input-161-2d9a29481d06>\u001b[0m in \u001b[0;36mprint_test_accuracy\u001b[1;34m(show_example_errors, show_confusion_matrix)\u001b[0m\n\u001b[0;32m     37\u001b[0m \u001b[1;33m\u001b[0m\u001b[0m\n\u001b[0;32m     38\u001b[0m         \u001b[1;31m# Calculate the predicted class using TensorFlow.\u001b[0m\u001b[1;33m\u001b[0m\u001b[1;33m\u001b[0m\u001b[0m\n\u001b[1;32m---> 39\u001b[1;33m         \u001b[0mprediction_cls\u001b[0m\u001b[1;33m[\u001b[0m\u001b[0mi\u001b[0m\u001b[1;33m:\u001b[0m\u001b[0mj\u001b[0m\u001b[1;33m]\u001b[0m \u001b[1;33m=\u001b[0m \u001b[0msession\u001b[0m\u001b[1;33m.\u001b[0m\u001b[0mrun\u001b[0m\u001b[1;33m(\u001b[0m\u001b[0mprediction_cls\u001b[0m\u001b[1;33m,\u001b[0m \u001b[0mfeed_dict\u001b[0m\u001b[1;33m=\u001b[0m\u001b[0mfeed_dict\u001b[0m\u001b[1;33m)\u001b[0m\u001b[1;33m\u001b[0m\u001b[0m\n\u001b[0m\u001b[0;32m     40\u001b[0m \u001b[1;33m\u001b[0m\u001b[0m\n\u001b[0;32m     41\u001b[0m \u001b[1;31m#         # Set the start-index for the next batch to the\u001b[0m\u001b[1;33m\u001b[0m\u001b[1;33m\u001b[0m\u001b[0m\n",
      "\u001b[1;31mTypeError\u001b[0m: 'Tensor' object does not support item assignment"
     ]
    }
   ],
   "source": [
    "print_test_accuracy()"
   ]
  },
  {
   "cell_type": "code",
   "execution_count": 59,
   "metadata": {},
   "outputs": [
    {
     "data": {
      "text/plain": [
       "TensorShape([Dimension(None), Dimension(500), Dimension(500), Dimension(1)])"
      ]
     },
     "execution_count": 59,
     "metadata": {},
     "output_type": "execute_result"
    }
   ],
   "source": [
    "reshape_input_tensor.shape"
   ]
  },
  {
   "cell_type": "code",
   "execution_count": 311,
   "metadata": {},
   "outputs": [
    {
     "data": {
      "text/plain": [
       "[array([[135, 132, 126, ..., 108,  93,  93],\n",
       "        [123, 119, 119, ..., 115,  94,  93],\n",
       "        [136, 123, 119, ...,  89,  96,  91],\n",
       "        ...,\n",
       "        [ 58,  98, 234, ...,  32, 139,  99],\n",
       "        [ 62,  82, 106, ..., 189, 217, 176],\n",
       "        [ 90, 123,  48, ..., 108, 104,  56]], dtype=uint8),\n",
       " array([[  5,   5,   5, ...,  90,  88,  86],\n",
       "        [  5,   5,   5, ...,  92,  90,  88],\n",
       "        [  5,   6,   6, ...,  93,  91,  90],\n",
       "        ...,\n",
       "        [ 87,  65,  79, ...,  99, 100, 100],\n",
       "        [ 82,  60,  94, ..., 100, 101, 101],\n",
       "        [ 78,  57, 100, ..., 100, 101, 101]], dtype=uint8),\n",
       " array([[72, 67, 75, ..., 39, 39, 39],\n",
       "        [67, 64, 72, ..., 39, 39, 39],\n",
       "        [60, 62, 68, ..., 38, 38, 38],\n",
       "        ...,\n",
       "        [29, 23, 33, ..., 46, 45, 44],\n",
       "        [30, 23, 30, ..., 46, 45, 44],\n",
       "        [31, 23, 28, ..., 46, 45, 44]], dtype=uint8),\n",
       " array([[ 11,  15,  18, ...,  10,  19,  23],\n",
       "        [ 12,  13,  14, ...,  18,  21,  26],\n",
       "        [ 12,   9,   7, ...,  12,   8,  14],\n",
       "        ...,\n",
       "        [ 93, 104, 119, ..., 142, 142, 146],\n",
       "        [101, 121, 117, ..., 124, 129, 133],\n",
       "        [106, 134, 119, ..., 115, 121, 125]], dtype=uint8),\n",
       " array([[ 79,  53,  40, ...,  19,  19,  19],\n",
       "        [ 75,  52,  40, ...,  19,  19,  19],\n",
       "        [ 66,  48,  42, ...,  19,  19,  19],\n",
       "        ...,\n",
       "        [213, 199, 166, ...,  82,  79,  94],\n",
       "        [174, 155, 133, ...,  86,  78,  92],\n",
       "        [100,  99, 105, ...,  84,  75,  89]], dtype=uint8),\n",
       " array([[67, 68, 68, ..., 74, 73, 73],\n",
       "        [67, 68, 68, ..., 74, 73, 73],\n",
       "        [68, 68, 68, ..., 74, 74, 74],\n",
       "        ...,\n",
       "        [94, 94, 95, ..., 94, 94, 94],\n",
       "        [93, 94, 95, ..., 93, 93, 93],\n",
       "        [93, 94, 95, ..., 93, 93, 93]], dtype=uint8),\n",
       " array([[179, 175, 170, ..., 250, 225, 207],\n",
       "        [178, 174, 168, ..., 250, 225, 208],\n",
       "        [176, 172, 164, ..., 251, 227, 210],\n",
       "        ...,\n",
       "        [160, 159, 156, ...,  42,  55,  62],\n",
       "        [194, 193, 190, ..., 112, 122, 127],\n",
       "        [227, 226, 223, ..., 178, 187, 192]], dtype=uint8),\n",
       " array([[167, 169, 172, ..., 163, 163, 163],\n",
       "        [167, 169, 172, ..., 163, 163, 163],\n",
       "        [167, 169, 170, ..., 163, 163, 163],\n",
       "        ...,\n",
       "        [161, 160, 160, ..., 153, 152, 151],\n",
       "        [161, 162, 160, ..., 153, 152, 151],\n",
       "        [162, 162, 160, ..., 153, 152, 151]], dtype=uint8),\n",
       " array([[210, 210, 210, ..., 210, 210, 210],\n",
       "        [210, 210, 210, ..., 210, 210, 210],\n",
       "        [210, 210, 210, ..., 210, 210, 210],\n",
       "        ...,\n",
       "        [119, 121, 115, ...,  99, 119,  99],\n",
       "        [107, 112, 113, ...,  68,  92,  72],\n",
       "        [100, 110, 115, ...,  69,  73,  52]], dtype=uint8),\n",
       " array([[29, 36, 48, ..., 90, 89, 89],\n",
       "        [29, 35, 47, ..., 89, 88, 88],\n",
       "        [28, 34, 46, ..., 87, 87, 87],\n",
       "        ...,\n",
       "        [63, 76, 89, ..., 70, 74, 75],\n",
       "        [62, 75, 88, ..., 70, 74, 75],\n",
       "        [61, 74, 87, ..., 70, 74, 75]], dtype=uint8),\n",
       " array([[ 35,  46,  50, ..., 233, 207, 198],\n",
       "        [ 35,  33,  38, ..., 217, 209, 206],\n",
       "        [ 41,  28,  33, ..., 216, 221, 209],\n",
       "        ...,\n",
       "        [ 16,  15,  18, ..., 104, 134, 145],\n",
       "        [  9,   9,  15, ..., 144, 118, 106],\n",
       "        [  6,   6,  13, ..., 116, 113, 117]], dtype=uint8),\n",
       " array([[150, 153, 156, ..., 131, 137, 134],\n",
       "        [150, 152, 154, ..., 132, 136, 131],\n",
       "        [148, 149, 150, ..., 134, 132, 125],\n",
       "        ...,\n",
       "        [141, 147, 150, ...,  78,  77,  76],\n",
       "        [143, 145, 143, ...,  78,  77,  76],\n",
       "        [144, 143, 138, ...,  77,  76,  75]], dtype=uint8),\n",
       " array([[ 88,  75,  70, ...,  29,  30,  30],\n",
       "        [ 85,  78,  73, ...,  32,  32,  32],\n",
       "        [ 83,  84,  77, ...,  34,  34,  35],\n",
       "        ...,\n",
       "        [ 82,  87,  94, ..., 101, 106, 109],\n",
       "        [ 80,  82,  87, ...,  80,  88,  90],\n",
       "        [ 78,  80,  84, ...,  82,  91,  92]], dtype=uint8),\n",
       " array([[208, 208, 209, ..., 180, 164, 158],\n",
       "        [209, 209, 209, ..., 170, 162, 160],\n",
       "        [210, 210, 210, ..., 177, 176, 178],\n",
       "        ...,\n",
       "        [ 72,  73,  81, ...,  35,  39,  41],\n",
       "        [ 78,  78,  80, ...,  45,  46,  47],\n",
       "        [ 75,  74,  71, ...,  70,  66,  65]], dtype=uint8),\n",
       " array([[198, 198, 198, ..., 176, 172, 164],\n",
       "        [198, 198, 198, ..., 169, 164, 160],\n",
       "        [198, 198, 198, ..., 157, 148, 147],\n",
       "        ...,\n",
       "        [102, 120, 101, ..., 101, 113, 104],\n",
       "        [109, 108,  89, ...,  91, 113, 105],\n",
       "        [108, 110,  92, ...,  93, 113, 105]], dtype=uint8),\n",
       " array([[233, 233, 233, ..., 232, 228, 226],\n",
       "        [233, 233, 233, ..., 232, 228, 226],\n",
       "        [234, 234, 234, ..., 231, 229, 227],\n",
       "        ...,\n",
       "        [123, 125, 129, ...,  96, 105, 111],\n",
       "        [133, 133, 134, ...,  89, 100, 107],\n",
       "        [138, 138, 137, ...,  86,  98, 105]], dtype=uint8),\n",
       " array([[ 87,  87,  89, ..., 148, 142, 139],\n",
       "        [ 93,  93,  93, ..., 144, 157, 162],\n",
       "        [ 72,  73,  75, ..., 143, 155, 157],\n",
       "        ...,\n",
       "        [158, 165, 172, ...,  10,  10,  10],\n",
       "        [155, 162, 166, ...,  10,  10,  10],\n",
       "        [166, 170, 170, ...,  10,  10,  10]], dtype=uint8),\n",
       " array([[110, 113, 123, ..., 161, 168, 173],\n",
       "        [108, 111, 121, ..., 165, 170, 173],\n",
       "        [111, 114, 122, ..., 170, 172, 173],\n",
       "        ...,\n",
       "        [149, 148, 148, ..., 141, 132, 127],\n",
       "        [129, 128, 128, ..., 142, 132, 125],\n",
       "        [114, 113, 115, ..., 143, 132, 125]], dtype=uint8),\n",
       " array([[ 77,  78,  79, ...,  70,  69,  68],\n",
       "        [ 78,  79,  80, ...,  70,  68,  67],\n",
       "        [ 79,  81,  81, ...,  69,  67,  66],\n",
       "        ...,\n",
       "        [ 83,  82,  82, ..., 104, 104, 104],\n",
       "        [ 83,  82,  82, ..., 104, 104, 104],\n",
       "        [ 83,  82,  82, ..., 104, 104, 104]], dtype=uint8),\n",
       " array([[ 47,  55,  60, ...,  91,  91,  91],\n",
       "        [ 47,  55,  60, ...,  91,  91,  91],\n",
       "        [ 48,  55,  60, ...,  91,  91,  91],\n",
       "        ...,\n",
       "        [111, 111, 111, ..., 116, 116, 116],\n",
       "        [110, 110, 110, ..., 116, 116, 116],\n",
       "        [110, 110, 110, ..., 116, 116, 116]], dtype=uint8),\n",
       " array([[180, 200, 225, ..., 255, 255, 255],\n",
       "        [195, 217, 213, ..., 255, 255, 255],\n",
       "        [221, 216, 176, ..., 255, 255, 255],\n",
       "        ...,\n",
       "        [137, 132, 123, ..., 173, 170, 162],\n",
       "        [136, 121, 118, ..., 175, 173, 165],\n",
       "        [135, 118, 118, ..., 168, 167, 160]], dtype=uint8),\n",
       " array([[127, 127, 127, ...,  73,  73,  73],\n",
       "        [123, 123, 124, ...,  81,  80,  80],\n",
       "        [120, 122, 125, ...,  91,  88,  88],\n",
       "        ...,\n",
       "        [178, 179, 172, ..., 223, 227, 227],\n",
       "        [160, 165, 165, ..., 217, 222, 224],\n",
       "        [149, 159, 163, ..., 207, 214, 218]], dtype=uint8),\n",
       " array([[234, 234, 234, ..., 174, 170, 171],\n",
       "        [234, 234, 234, ..., 168, 161, 161],\n",
       "        [234, 234, 234, ..., 162, 151, 150],\n",
       "        ...,\n",
       "        [191, 186, 173, ..., 255, 255, 255],\n",
       "        [185, 182, 174, ..., 255, 255, 255],\n",
       "        [179, 180, 178, ..., 255, 255, 255]], dtype=uint8),\n",
       " array([[ 18,  18,  18, ...,  13,  11,   9],\n",
       "        [ 17,  16,  17, ...,  13,  11,  10],\n",
       "        [ 13,  14,  14, ...,  12,  11,  12],\n",
       "        ...,\n",
       "        [ 81, 127, 101, ...,  78,  96, 142],\n",
       "        [ 82, 123, 125, ...,  81, 102, 137],\n",
       "        [ 79, 113, 145, ...,  90, 118, 134]], dtype=uint8),\n",
       " array([[ 72,  57,  51, ...,  88,  66,  57],\n",
       "        [ 72,  56,  48, ...,  76,  56,  49],\n",
       "        [ 69,  51,  40, ...,  58,  42,  35],\n",
       "        ...,\n",
       "        [ 47,  44,  42, ..., 104, 105, 111],\n",
       "        [ 49,  46,  44, ..., 111, 122, 131],\n",
       "        [ 51,  47,  45, ..., 119, 135, 146]], dtype=uint8),\n",
       " array([[163, 163, 164, ..., 168, 165, 164],\n",
       "        [164, 164, 164, ..., 168, 165, 164],\n",
       "        [164, 164, 164, ..., 168, 165, 163],\n",
       "        ...,\n",
       "        [140, 150, 158, ...,  60,  60,  60],\n",
       "        [125, 119, 118, ...,  60,  60,  60],\n",
       "        [ 97,  77,  64, ...,  60,  60,  60]], dtype=uint8),\n",
       " array([[ 42,  41,  62, ...,  17,  17,  17],\n",
       "        [ 57,  45,  56, ...,  16,  16,  16],\n",
       "        [ 72,  60,  69, ...,  14,  14,  14],\n",
       "        ...,\n",
       "        [ 69,  64,  74, ...,  82,  67,  46],\n",
       "        [ 52,  67,  92, ..., 101,  94,  72],\n",
       "        [ 47,  71,  98, ...,  80,  82,  61]], dtype=uint8),\n",
       " array([[124, 127, 122, ..., 217, 217, 217],\n",
       "        [123, 126, 123, ..., 217, 217, 217],\n",
       "        [124, 128, 126, ..., 216, 216, 216],\n",
       "        ...,\n",
       "        [181, 184, 167, ..., 143, 105, 120],\n",
       "        [164, 134, 165, ..., 131, 104, 127],\n",
       "        [163, 105, 160, ..., 128, 105, 132]], dtype=uint8),\n",
       " array([[ 77,  19,  74, ..., 118,  59,  46],\n",
       "        [ 89,  80,  83, ..., 170,  92,  49],\n",
       "        [ 84,  72,  32, ..., 239, 157,  76],\n",
       "        ...,\n",
       "        [ 91,  93, 101, ...,  45,  43,  43],\n",
       "        [ 80,  90, 100, ...,  50,  46,  45],\n",
       "        [ 66,  84,  98, ...,  53,  47,  45]], dtype=uint8),\n",
       " array([[175, 167, 159, ..., 179, 181, 182],\n",
       "        [169, 161, 153, ..., 173, 175, 176],\n",
       "        [162, 154, 146, ..., 166, 168, 169],\n",
       "        ...,\n",
       "        [183, 168, 150, ..., 172, 170, 169],\n",
       "        [183, 172, 153, ..., 171, 166, 163],\n",
       "        [176, 168, 152, ..., 165, 159, 154]], dtype=uint8)]"
      ]
     },
     "execution_count": 311,
     "metadata": {},
     "output_type": "execute_result"
    }
   ],
   "source": [
    "[np.array(value) for i,value in enumerate(converted_image_data_list)]\n"
   ]
  },
  {
   "cell_type": "code",
   "execution_count": 2,
   "metadata": {},
   "outputs": [],
   "source": [
    "#for in in converted_image_data_list]\n",
    "\n",
    "def any_num(input_list, divider):\n",
    "    count=0\n",
    "    my_list=[]\n",
    "    for i in input_list:\n",
    "        count=count+1\n",
    "        if count % divider==0:\n",
    "            my_list.append(i)\n",
    "       \n",
    "    return my_list\n",
    "\n",
    "def print_image_list(images):\n",
    "    for ima in images:\n",
    "        plt.figure()\n",
    "        plt.imshow(ima)"
   ]
  },
  {
   "cell_type": "code",
   "execution_count": 3,
   "metadata": {},
   "outputs": [
    {
     "ename": "NameError",
     "evalue": "name 'converted_image_data_list' is not defined",
     "output_type": "error",
     "traceback": [
      "\u001b[1;31m---------------------------------------------------------------------------\u001b[0m",
      "\u001b[1;31mNameError\u001b[0m                                 Traceback (most recent call last)",
      "\u001b[1;32m<ipython-input-3-82dda3a339d4>\u001b[0m in \u001b[0;36m<module>\u001b[1;34m()\u001b[0m\n\u001b[1;32m----> 1\u001b[1;33m \u001b[0mimages\u001b[0m\u001b[1;33m=\u001b[0m\u001b[0many_num\u001b[0m\u001b[1;33m(\u001b[0m\u001b[0mconverted_image_data_list\u001b[0m\u001b[1;33m,\u001b[0m\u001b[1;36m7\u001b[0m\u001b[1;33m)\u001b[0m\u001b[1;33m\u001b[0m\u001b[0m\n\u001b[0m\u001b[0;32m      2\u001b[0m \u001b[0mprint_image_list\u001b[0m\u001b[1;33m(\u001b[0m\u001b[0mimages\u001b[0m\u001b[1;33m)\u001b[0m\u001b[1;33m\u001b[0m\u001b[0m\n",
      "\u001b[1;31mNameError\u001b[0m: name 'converted_image_data_list' is not defined"
     ]
    }
   ],
   "source": [
    "images=any_num(converted_image_data_list,7)\n",
    "print_image_list(images)  "
   ]
  },
  {
   "cell_type": "code",
   "execution_count": 44,
   "metadata": {
    "scrolled": false
   },
   "outputs": [
    {
     "data": {
      "text/plain": [
       "TensorShape([Dimension(8), Dimension(8), Dimension(1), Dimension(20)])"
      ]
     },
     "execution_count": 44,
     "metadata": {},
     "output_type": "execute_result"
    }
   ],
   "source": [
    "#shape = [filter_size, filter_size, num_input_channels, num_filters]\n",
    "weights=  tf.Variable(tf.random_normal(shape= [8,8,1,20], stddev=0.05)) \n",
    "weights.shape\n"
   ]
  },
  {
   "cell_type": "code",
   "execution_count": 45,
   "metadata": {},
   "outputs": [
    {
     "data": {
      "text/plain": [
       "TensorShape([Dimension(20)])"
      ]
     },
     "execution_count": 45,
     "metadata": {},
     "output_type": "execute_result"
    }
   ],
   "source": [
    "bias= tf.Variable(tf.random_normal([20]))\n",
    "keep_prob= tf.placeholder(tf.float32)\n",
    "bias.shape"
   ]
  },
  {
   "cell_type": "code",
   "execution_count": 46,
   "metadata": {},
   "outputs": [],
   "source": [
    "def conv2d(input_tensor,weights,bias,strides = 1):\n",
    "    input_tensor= tf.nn.conv2d(input_tensor,weights,strides= [1,strides,strides,1],padding= 'SAME')\n",
    "    input_tensor=tf.nn.bias_add(input_tensor,bias)\n",
    "    return tf.nn.relu(input_tensor)\n",
    "def max_pool(input_tensor,k=2):\n",
    "    return tf.nn.max_pool(input_tensor,ksize= [1,k,k,1],strides= [1,k,k,1],padding= 'SAME')"
   ]
  },
  {
   "cell_type": "code",
   "execution_count": 47,
   "metadata": {},
   "outputs": [],
   "source": [
    "#create model\n",
    "def conv_net(input_tensor,weights,bias,dropout):\n",
    "    #reshape input tensor # Tensor input become 4-D: [Batch Size, Height, Width,Channel]\n",
    "    #The convolutional layers expect input to be encoded as a 4-dim tensor so we have to reshape it \n",
    "    reshape_input_tensor= tf.reshape(input_tensor,[-1,500,500,num_channels])\n",
    "    \n",
    "    #convolutional layer 1\n",
    "    conv1= conv2d(input_tensor,weights['wc1'],bias['bc1'],) #wc means w=  weight,c= convlutional\n",
    "    #maxpooling-to reduce the spatial size(only width and height, not depth),\n",
    "    #reduces the number of parameters, hence computation is reduced.\n",
    "    conv1= maxpool2d(conv1,k=2)\n",
    "    \n",
    "    #convoltion layer 2\n",
    "    conv2= conv2d(conv1,weights['wc2'],bias['bc2'])\n",
    "    conv2= maxpool2d(conv2,k=2)\n",
    "    \n",
    "    #fully connected layer or dense layer and get the shape of layer\n",
    "    fc1= tf.reshape(conv2,[-1,weights['wd1'].getshape().as_list()])\n",
    "    fc1= tf.add(tf.matmul(fc1,weight['wd1']),bias['bd1'])  # matrix multification\n",
    "    fc1= tf.nn.relu(fc1)\n",
    "    #apply drop out(to reduce overfitting- networks gives better accuracy in training set but fails in giving accuracy during testing)\n",
    "    fc1= tf.nn.dropout(fc1,dropout)\n",
    "    \n",
    "    #output, class prediction\n",
    "    output= tf.add(tf.matmul(fc1,weights['output'],bias['output']))\n",
    "    return output"
   ]
  },
  {
   "cell_type": "code",
   "execution_count": 48,
   "metadata": {},
   "outputs": [
    {
     "ename": "SyntaxError",
     "evalue": "unexpected EOF while parsing (<ipython-input-48-5be717686ef1>, line 15)",
     "output_type": "error",
     "traceback": [
      "\u001b[1;36m  File \u001b[1;32m\"<ipython-input-48-5be717686ef1>\"\u001b[1;36m, line \u001b[1;32m15\u001b[0m\n\u001b[1;33m    'bc1': tf.Variable(tf.random_normal)\u001b[0m\n\u001b[1;37m                                        ^\u001b[0m\n\u001b[1;31mSyntaxError\u001b[0m\u001b[1;31m:\u001b[0m unexpected EOF while parsing\n"
     ]
    }
   ],
   "source": [
    "#store weights as dictonary\n",
    "weights= {\n",
    "    #4*4 convfilter, 1 input, 32 outputs\n",
    "    'wc1': tf.Variable(tf.random_normal([4,4,1,32])),\n",
    "    #4*4 convfilter, 32 input ,64 outputs\n",
    "    'wc2': tf.Variable(tf.random_normal([4,4,32,64])),\n",
    "    #fully connected 12*12*64 inputs, 1024 outputs\n",
    "    'wd1': tf.Variable(tf.random_normal([8*8*64, 1024])), # 20 is number of classes or breeds here\n",
    "    #1024 inputs , 20 out classes/breeds\n",
    "    'output': tf.Variable(tf.random_normal([1024,num_classes]))\n",
    "}\n",
    "# store biases in form of dictonary\n",
    "biases= {\n",
    "    #bias for conv1\n",
    "    'bc1': tf.Variable(tf.random_normal)\n",
    "\n"
   ]
  },
  {
   "cell_type": "code",
   "execution_count": null,
   "metadata": {},
   "outputs": [],
   "source": []
  },
  {
   "cell_type": "code",
   "execution_count": null,
   "metadata": {},
   "outputs": [],
   "source": []
  },
  {
   "cell_type": "code",
   "execution_count": null,
   "metadata": {},
   "outputs": [],
   "source": []
  },
  {
   "cell_type": "code",
   "execution_count": null,
   "metadata": {},
   "outputs": [],
   "source": []
  }
 ],
 "metadata": {
  "kernelspec": {
   "display_name": "Python 3",
   "language": "python",
   "name": "python3"
  },
  "language_info": {
   "codemirror_mode": {
    "name": "ipython",
    "version": 3
   },
   "file_extension": ".py",
   "mimetype": "text/x-python",
   "name": "python",
   "nbconvert_exporter": "python",
   "pygments_lexer": "ipython3",
   "version": "3.6.4"
  }
 },
 "nbformat": 4,
 "nbformat_minor": 2
}
