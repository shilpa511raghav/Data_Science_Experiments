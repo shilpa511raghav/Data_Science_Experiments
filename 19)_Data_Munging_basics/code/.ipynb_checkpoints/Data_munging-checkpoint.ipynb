{
 "cells": [
  {
   "cell_type": "markdown",
   "metadata": {},
   "source": [
    "### Segment 1 - Filtering and selecting data"
   ]
  },
  {
   "cell_type": "code",
   "execution_count": 2,
   "metadata": {},
   "outputs": [],
   "source": [
    "# Import libraries\n",
    "import numpy as np\n",
    "import pandas as pd\n",
    "\n",
    "from pandas import Series,DataFrame "
   ]
  },
  {
   "cell_type": "markdown",
   "metadata": {},
   "source": [
    "### Selecting and retrieving data"
   ]
  },
  {
   "cell_type": "code",
   "execution_count": 11,
   "metadata": {},
   "outputs": [
    {
     "data": {
      "text/plain": [
       " row 1      0\n",
       "row 2       2\n",
       "row 3       4\n",
       "row 4       6\n",
       "  row 5     8\n",
       "row 6      10\n",
       "row 7      12\n",
       "row 8      14\n",
       "dtype: int32"
      ]
     },
     "execution_count": 11,
     "metadata": {},
     "output_type": "execute_result"
    }
   ],
   "source": [
    "series_obj = Series(np.arange(0,16,2), index =[' row 1','row 2','row 3','row 4','  row 5', 'row 6', 'row 7', 'row 8'])\n",
    "series_obj[:]"
   ]
  },
  {
   "cell_type": "code",
   "execution_count": 13,
   "metadata": {},
   "outputs": [
    {
     "name": "stdout",
     "output_type": "stream",
     "text": [
      "8\n"
     ]
    },
    {
     "data": {
      "text/plain": [
       "4"
      ]
     },
     "execution_count": 13,
     "metadata": {},
     "output_type": "execute_result"
    }
   ],
   "source": [
    "# ['label-index']\n",
    "\n",
    "# When we write square brackets with a label-index inside them, this tells Python to select and \n",
    "# retrieve all records with that label-index.\n",
    "series_obj[4]\n",
    "print(series_obj[4])\n",
    "\n",
    "series_obj['row 3']    # label index "
   ]
  },
  {
   "cell_type": "code",
   "execution_count": 19,
   "metadata": {},
   "outputs": [
    {
     "name": "stdout",
     "output_type": "stream",
     "text": [
      " row 1     0\n",
      "row 8     14\n",
      "row 3      4\n",
      "dtype: int32\n"
     ]
    },
    {
     "data": {
      "text/plain": [
       " row 1     0\n",
       "row 3      4\n",
       "row 8     14\n",
       "dtype: int32"
      ]
     },
     "execution_count": 19,
     "metadata": {},
     "output_type": "execute_result"
    }
   ],
   "source": [
    "# [integer index] \n",
    "\n",
    "# When we write square brackets with an integer index inside them, this tells Python to select and \n",
    "# retrieve all records with the specified integer index.\n",
    "print(series_obj[[0,7,2]]) # indexing starts from 0 so here when we add 0, 7,2 inside bracets it means it will give output as row1, row8,row3\n",
    "#sort_values\n",
    "series_obj[[0,7,2]].sort_values()"
   ]
  },
  {
   "cell_type": "code",
   "execution_count": 45,
   "metadata": {},
   "outputs": [
    {
     "data": {
      "text/html": [
       "<div>\n",
       "<style scoped>\n",
       "    .dataframe tbody tr th:only-of-type {\n",
       "        vertical-align: middle;\n",
       "    }\n",
       "\n",
       "    .dataframe tbody tr th {\n",
       "        vertical-align: top;\n",
       "    }\n",
       "\n",
       "    .dataframe thead th {\n",
       "        text-align: right;\n",
       "    }\n",
       "</style>\n",
       "<table border=\"1\" class=\"dataframe\">\n",
       "  <thead>\n",
       "    <tr style=\"text-align: right;\">\n",
       "      <th></th>\n",
       "      <th>column 1</th>\n",
       "      <th>column 2</th>\n",
       "      <th>column 3</th>\n",
       "      <th>column 4</th>\n",
       "      <th>column 5</th>\n",
       "      <th>col 6</th>\n",
       "    </tr>\n",
       "  </thead>\n",
       "  <tbody>\n",
       "    <tr>\n",
       "      <th>row 1</th>\n",
       "      <td>0.539494</td>\n",
       "      <td>0.733247</td>\n",
       "      <td>0.518795</td>\n",
       "      <td>0.897282</td>\n",
       "      <td>0.380691</td>\n",
       "      <td>0.937046</td>\n",
       "    </tr>\n",
       "    <tr>\n",
       "      <th>row 2</th>\n",
       "      <td>0.429260</td>\n",
       "      <td>0.059504</td>\n",
       "      <td>0.015275</td>\n",
       "      <td>0.394966</td>\n",
       "      <td>0.474006</td>\n",
       "      <td>0.979909</td>\n",
       "    </tr>\n",
       "    <tr>\n",
       "      <th>row 3</th>\n",
       "      <td>0.537789</td>\n",
       "      <td>0.378353</td>\n",
       "      <td>0.641881</td>\n",
       "      <td>0.457276</td>\n",
       "      <td>0.580117</td>\n",
       "      <td>0.758417</td>\n",
       "    </tr>\n",
       "    <tr>\n",
       "      <th>row 4</th>\n",
       "      <td>0.743121</td>\n",
       "      <td>0.985774</td>\n",
       "      <td>0.543961</td>\n",
       "      <td>0.052173</td>\n",
       "      <td>0.465956</td>\n",
       "      <td>0.347634</td>\n",
       "    </tr>\n",
       "    <tr>\n",
       "      <th>row 5</th>\n",
       "      <td>0.783637</td>\n",
       "      <td>0.614030</td>\n",
       "      <td>0.630908</td>\n",
       "      <td>0.978802</td>\n",
       "      <td>0.139448</td>\n",
       "      <td>0.871448</td>\n",
       "    </tr>\n",
       "    <tr>\n",
       "      <th>6</th>\n",
       "      <td>0.746265</td>\n",
       "      <td>0.552328</td>\n",
       "      <td>0.732253</td>\n",
       "      <td>0.978604</td>\n",
       "      <td>0.518991</td>\n",
       "      <td>0.850650</td>\n",
       "    </tr>\n",
       "  </tbody>\n",
       "</table>\n",
       "</div>"
      ],
      "text/plain": [
       "       column 1  column 2  column 3  column 4  column 5     col 6\n",
       "row 1  0.539494  0.733247  0.518795  0.897282  0.380691  0.937046\n",
       "row 2  0.429260  0.059504  0.015275  0.394966  0.474006  0.979909\n",
       "row 3  0.537789  0.378353  0.641881  0.457276  0.580117  0.758417\n",
       "row 4  0.743121  0.985774  0.543961  0.052173  0.465956  0.347634\n",
       "row 5  0.783637  0.614030  0.630908  0.978802  0.139448  0.871448\n",
       " 6     0.746265  0.552328  0.732253  0.978604  0.518991  0.850650"
      ]
     },
     "execution_count": 45,
     "metadata": {},
     "output_type": "execute_result"
    }
   ],
   "source": [
    "np.random.rand(26)  # takes random numbers every time you run it it changes its assigned values\n",
    "DF_obj = DataFrame(np.random.rand(36).reshape((6,6)), \n",
    "                   index=['row 1', 'row 2', 'row 3', 'row 4', 'row 5', ' 6'],\n",
    "                   columns=['column 1', 'column 2', 'column 3', 'column 4', 'column 5', 'col 6'])\n",
    "DF_obj"
   ]
  },
  {
   "cell_type": "code",
   "execution_count": 72,
   "metadata": {},
   "outputs": [
    {
     "data": {
      "text/html": [
       "<div>\n",
       "<style scoped>\n",
       "    .dataframe tbody tr th:only-of-type {\n",
       "        vertical-align: middle;\n",
       "    }\n",
       "\n",
       "    .dataframe tbody tr th {\n",
       "        vertical-align: top;\n",
       "    }\n",
       "\n",
       "    .dataframe thead th {\n",
       "        text-align: right;\n",
       "    }\n",
       "</style>\n",
       "<table border=\"1\" class=\"dataframe\">\n",
       "  <thead>\n",
       "    <tr style=\"text-align: right;\">\n",
       "      <th></th>\n",
       "      <th>column 1</th>\n",
       "      <th>column 2</th>\n",
       "      <th>column 3</th>\n",
       "      <th>column 4</th>\n",
       "      <th>column 5</th>\n",
       "      <th>col 6</th>\n",
       "    </tr>\n",
       "  </thead>\n",
       "  <tbody>\n",
       "    <tr>\n",
       "      <th>row 1</th>\n",
       "      <td>0.307935</td>\n",
       "      <td>0.519391</td>\n",
       "      <td>0.768298</td>\n",
       "      <td>0.789221</td>\n",
       "      <td>0.870562</td>\n",
       "      <td>0.187921</td>\n",
       "    </tr>\n",
       "    <tr>\n",
       "      <th>row 2</th>\n",
       "      <td>0.269505</td>\n",
       "      <td>0.496192</td>\n",
       "      <td>0.739122</td>\n",
       "      <td>0.194952</td>\n",
       "      <td>0.179745</td>\n",
       "      <td>0.538826</td>\n",
       "    </tr>\n",
       "    <tr>\n",
       "      <th>row 3</th>\n",
       "      <td>0.282766</td>\n",
       "      <td>0.760940</td>\n",
       "      <td>0.269693</td>\n",
       "      <td>0.293520</td>\n",
       "      <td>0.962406</td>\n",
       "      <td>0.913214</td>\n",
       "    </tr>\n",
       "    <tr>\n",
       "      <th>row 4</th>\n",
       "      <td>0.568175</td>\n",
       "      <td>0.485492</td>\n",
       "      <td>0.653704</td>\n",
       "      <td>0.536629</td>\n",
       "      <td>0.995739</td>\n",
       "      <td>0.141982</td>\n",
       "    </tr>\n",
       "    <tr>\n",
       "      <th>row 5</th>\n",
       "      <td>0.975342</td>\n",
       "      <td>0.619557</td>\n",
       "      <td>0.720486</td>\n",
       "      <td>0.295064</td>\n",
       "      <td>0.600132</td>\n",
       "      <td>0.750635</td>\n",
       "    </tr>\n",
       "    <tr>\n",
       "      <th>6</th>\n",
       "      <td>0.641366</td>\n",
       "      <td>0.923299</td>\n",
       "      <td>0.888730</td>\n",
       "      <td>0.644671</td>\n",
       "      <td>0.295642</td>\n",
       "      <td>0.682594</td>\n",
       "    </tr>\n",
       "  </tbody>\n",
       "</table>\n",
       "</div>"
      ],
      "text/plain": [
       "       column 1  column 2  column 3  column 4  column 5     col 6\n",
       "row 1  0.307935  0.519391  0.768298  0.789221  0.870562  0.187921\n",
       "row 2  0.269505  0.496192  0.739122  0.194952  0.179745  0.538826\n",
       "row 3  0.282766  0.760940  0.269693  0.293520  0.962406  0.913214\n",
       "row 4  0.568175  0.485492  0.653704  0.536629  0.995739  0.141982\n",
       "row 5  0.975342  0.619557  0.720486  0.295064  0.600132  0.750635\n",
       " 6     0.641366  0.923299  0.888730  0.644671  0.295642  0.682594"
      ]
     },
     "execution_count": 72,
     "metadata": {},
     "output_type": "execute_result"
    }
   ],
   "source": [
    "#Seed must be between 0 and 2**32 - 1 or it may be None \n",
    "#but if it is None the it changes its  printed column and rows value every time we run it\n",
    "#every seed(value ) has some respective column and rows number printed\n",
    "#np.random.seed(None)\n",
    "np.random.seed(26)  # takes similar numbers every time you run it\n",
    "DF_obj = DataFrame(np.random.rand(36).reshape((6,6)),\n",
    "                   index=['row 1', 'row 2', 'row 3', 'row 4', 'row 5', ' 6'],\n",
    "                   columns=['column 1', 'column 2', 'column 3', 'column 4', 'column 5', 'col 6'])\n",
    "DF_obj\n",
    "# when we use reshape then Shape of passed values (36 means 6 rows and 6 column values)   should be equal to total number of indices as to indices imply ie. total index = 6 and total columns =6  implies rehspe(6, 6)\n"
   ]
  },
  {
   "cell_type": "code",
   "execution_count": 77,
   "metadata": {},
   "outputs": [
    {
     "name": "stdout",
     "output_type": "stream",
     "text": [
      "       column 5  column 2\n",
      "row 2  0.179745  0.496192\n",
      "row 5  0.600132  0.619557\n"
     ]
    },
    {
     "data": {
      "text/html": [
       "<div>\n",
       "<style scoped>\n",
       "    .dataframe tbody tr th:only-of-type {\n",
       "        vertical-align: middle;\n",
       "    }\n",
       "\n",
       "    .dataframe tbody tr th {\n",
       "        vertical-align: top;\n",
       "    }\n",
       "\n",
       "    .dataframe thead th {\n",
       "        text-align: right;\n",
       "    }\n",
       "</style>\n",
       "<table border=\"1\" class=\"dataframe\">\n",
       "  <thead>\n",
       "    <tr style=\"text-align: right;\">\n",
       "      <th></th>\n",
       "      <th>column 3</th>\n",
       "      <th>column 5</th>\n",
       "    </tr>\n",
       "  </thead>\n",
       "  <tbody>\n",
       "    <tr>\n",
       "      <th>row 6</th>\n",
       "      <td>NaN</td>\n",
       "      <td>NaN</td>\n",
       "    </tr>\n",
       "    <tr>\n",
       "      <th>row 3</th>\n",
       "      <td>0.269693</td>\n",
       "      <td>0.962406</td>\n",
       "    </tr>\n",
       "  </tbody>\n",
       "</table>\n",
       "</div>"
      ],
      "text/plain": [
       "       column 3  column 5\n",
       "row 6       NaN       NaN\n",
       "row 3  0.269693  0.962406"
      ]
     },
     "execution_count": 77,
     "metadata": {},
     "output_type": "execute_result"
    }
   ],
   "source": [
    "# object_name.ix[[row indexes], [column indexes]]\n",
    "\n",
    "# When we call the .ix[] special indexer, and pass in a set of row and colum indexes, this tells \n",
    "# Python to select and retrieve only those specific rows and columns.\n",
    "print(DF_obj.loc[['row 2', 'row 5'], ['column 5', 'column 2']])  # loc means locate\n",
    "\n",
    "DF_obj.ix[['row 6' ,'row 3'], ['column 3', 'column 5']]  #.ix means index "
   ]
  },
  {
   "cell_type": "markdown",
   "metadata": {},
   "source": [
    "### Data slicing"
   ]
  },
  {
   "cell_type": "code",
   "execution_count": 79,
   "metadata": {},
   "outputs": [
    {
     "data": {
      "text/plain": [
       "row 3       4\n",
       "row 4       6\n",
       "  row 5     8\n",
       "row 6      10\n",
       "row 7      12\n",
       "dtype: int32"
      ]
     },
     "execution_count": 79,
     "metadata": {},
     "output_type": "execute_result"
    }
   ],
   "source": [
    "# ['starting label-index':'ending label-index'] \n",
    "\n",
    "# Data slicing allows us to select and retrieve all records from the starting label-index, to the \n",
    "# ending label-index, and every record in between.\n",
    "series_obj['row 3':'row 7']"
   ]
  },
  {
   "cell_type": "markdown",
   "metadata": {},
   "source": [
    "### Filtering with scalars"
   ]
  },
  {
   "cell_type": "code",
   "execution_count": 81,
   "metadata": {},
   "outputs": [
    {
     "data": {
      "text/plain": [
       "row 4       6\n",
       "  row 5     8\n",
       "row 6      10\n",
       "row 7      12\n",
       "row 8      14\n",
       "dtype: int32"
      ]
     },
     "execution_count": 81,
     "metadata": {},
     "output_type": "execute_result"
    }
   ],
   "source": [
    "# object_name[object_name > scalar value] \n",
    "# You can also use comparison operators and scalar values for indexing, to return only the records \n",
    "# that satisfy the comparison expression you write.\n",
    "series_obj[series_obj > 5]"
   ]
  },
  {
   "cell_type": "markdown",
   "metadata": {},
   "source": [
    "### Setting values with scalars"
   ]
  },
  {
   "cell_type": "code",
   "execution_count": 84,
   "metadata": {},
   "outputs": [],
   "source": [
    "# ['label-index', 'label-index', 'label-index'] = scalar value\n",
    "# Setting is where you select all records associated with the specified label-indexes and set those \n",
    "# values equal to a scalar.\n",
    "series_obj[' row 1', '  row 5', 'row 8'] = 8  # in row 1 we have given space infront of it  and in row 5 we have given 3 spaces in front of it"
   ]
  },
  {
   "cell_type": "code",
   "execution_count": 86,
   "metadata": {},
   "outputs": [
    {
     "data": {
      "text/plain": [
       " row 1      8\n",
       "row 2       2\n",
       "row 3       4\n",
       "row 4       6\n",
       "  row 5     8\n",
       "row 6      10\n",
       "row 7      12\n",
       "row 8       8\n",
       "dtype: int32"
      ]
     },
     "execution_count": 86,
     "metadata": {},
     "output_type": "execute_result"
    }
   ],
   "source": [
    "series_obj[:]"
   ]
  },
  {
   "cell_type": "code",
   "execution_count": null,
   "metadata": {},
   "outputs": [],
   "source": []
  }
 ],
 "metadata": {
  "kernelspec": {
   "display_name": "Python 3",
   "language": "python",
   "name": "python3"
  },
  "language_info": {
   "codemirror_mode": {
    "name": "ipython",
    "version": 3
   },
   "file_extension": ".py",
   "mimetype": "text/x-python",
   "name": "python",
   "nbconvert_exporter": "python",
   "pygments_lexer": "ipython3",
   "version": "3.5.2"
  }
 },
 "nbformat": 4,
 "nbformat_minor": 2
}
