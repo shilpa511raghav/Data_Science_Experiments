{
 "cells": [
  {
   "cell_type": "code",
   "execution_count": 2,
   "metadata": {},
   "outputs": [
    {
     "name": "stdout",
     "output_type": "stream",
     "text": [
      "['i', 'am', 'winner']\n",
      "i-am-winner\n"
     ]
    }
   ],
   "source": [
    "def split_string(string):\n",
    "\n",
    "\t# Split the string based on space delimiter\n",
    "\tlist_string = string.split(' ')\n",
    "\t\n",
    "\treturn list_string\n",
    "\n",
    "def join_string(list_string):\n",
    "\n",
    "\t# Join the string based on '-' delimiter\n",
    "\tstring = '-'.join(list_string)\n",
    "\t\n",
    "\treturn string\n",
    "\n",
    "# Driver Function\n",
    "if __name__ == '__main__':\n",
    "\tstring = 'i am winner'\n",
    "\t\n",
    "\t# Splitting a string\n",
    "\tlist_string = split_string(string)\n",
    "\tprint(list_string)\n",
    "\n",
    "\t# Join list of strings into one\n",
    "\tnew_string = join_string(list_string)\n",
    "\tprint(new_string)"
   ]
  },
  {
   "cell_type": "code",
   "execution_count": null,
   "metadata": {},
   "outputs": [],
   "source": []
  },
  {
   "cell_type": "code",
   "execution_count": null,
   "metadata": {},
   "outputs": [],
   "source": []
  }
 ],
 "metadata": {
  "kernelspec": {
   "display_name": "Python 3",
   "language": "python",
   "name": "python3"
  },
  "language_info": {
   "codemirror_mode": {
    "name": "ipython",
    "version": 3
   },
   "file_extension": ".py",
   "mimetype": "text/x-python",
   "name": "python",
   "nbconvert_exporter": "python",
   "pygments_lexer": "ipython3",
   "version": "3.6.4"
  }
 },
 "nbformat": 4,
 "nbformat_minor": 2
}
