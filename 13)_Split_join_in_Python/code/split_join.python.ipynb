{
 "cells": [
  {
   "cell_type": "code",
   "execution_count": 1,
   "metadata": {},
   "outputs": [
    {
     "name": "stdout",
     "output_type": "stream",
     "text": [
      "['hello', '\\nThis', 'is', 'a', 'long', 'string', 'with', 'a', '', '', '', '', '', '', '', '', '', '', 'bunch', 'of', 'words', 'in', 'it.\\n']\n",
      "['hello', 'This', 'is', 'a', 'long', 'string', 'with', 'a', 'bunch', 'of', 'words', 'in', 'it.']\n",
      "hello -- This -- is -- a -- long -- string -- with -- a -- bunch -- of -- words -- in -- it.\n"
     ]
    }
   ],
   "source": [
    "s1 = '''hello \n",
    "This is a long string with a           bunch of words in it.\n",
    "'''\n",
    "print(s1.split(' '))   #split  makes string a list in output  if pass argument in split then in answer it remove that element and splits(,) from there also\n",
    "s2=s1.split()\n",
    "s3=' -- '.join(s2)   # join helps us in joing whole string using anything which we have taken '--' here\n",
    "print(s2)\n",
    "print(s3)"
   ]
  },
  {
   "cell_type": "code",
   "execution_count": 2,
   "metadata": {},
   "outputs": [
    {
     "name": "stdout",
     "output_type": "stream",
     "text": [
      "['I', 'can', 'do', 'it']\n",
      "I-can-do-it\n"
     ]
    }
   ],
   "source": [
    "def split_string():  # it can take positional argument also i.e ()\n",
    "    string = 'I can do it'\n",
    "    string1 = string.split()    #here .split() can be empty or use (' ')\n",
    "    return string1\n",
    "\n",
    "def join_string(string1): \n",
    " \n",
    "    string = '-'.join(string1)  # join the string based on delimiters '-'\n",
    "    return string\n",
    "\n",
    "string1 = split_string()\n",
    "print(string1)\n",
    "newstring=join_string(string1)\n",
    "print(newstring)"
   ]
  }
 ],
 "metadata": {
  "kernelspec": {
   "display_name": "Python 3",
   "language": "python",
   "name": "python3"
  },
  "language_info": {
   "codemirror_mode": {
    "name": "ipython",
    "version": 3
   },
   "file_extension": ".py",
   "mimetype": "text/x-python",
   "name": "python",
   "nbconvert_exporter": "python",
   "pygments_lexer": "ipython3",
   "version": "3.6.4"
  }
 },
 "nbformat": 4,
 "nbformat_minor": 2
}
